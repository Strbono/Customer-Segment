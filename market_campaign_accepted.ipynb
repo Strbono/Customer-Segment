{
  "cells": [
    {
      "cell_type": "code",
      "execution_count": null,
      "metadata": {
        "id": "Is_8LiCA_r2l"
      },
      "outputs": [],
      "source": [
        "import pandas as pd\n",
        "import matplotlib.pyplot as plt\n",
        "import missingno.missingno as msno\n",
        "from datetime import datetime\n",
        "import seaborn as sns\n",
        "\n",
        "import numpy as np\n",
        "import pandas as pd\n",
        "import seaborn as sns\n",
        "from matplotlib import cm\n",
        "import matplotlib.pyplot as plt\n",
        "from sklearn.preprocessing import MinMaxScaler\n",
        "from sklearn.preprocessing import StandardScaler\n",
        "from sklearn.metrics import silhouette_samples, silhouette_score\n",
        "from sklearn.preprocessing import LabelEncoder\n",
        "from sklearn.model_selection import train_test_split as tts\n",
        "from sklearn.tree import DecisionTreeClassifier\n",
        "from sklearn.linear_model import LogisticRegression\n",
        "from sklearn.neighbors import KNeighborsClassifier\n",
        "from sklearn.ensemble import RandomForestClassifier\n",
        "from sklearn.metrics import roc_auc_score, accuracy_score, confusion_matrix, classification_report, precision_score, recall_score, f1_score\n",
        "from xgboost import XGBClassifier\n",
        "\n",
        "from datetime import date\n",
        "import warnings\n",
        "warnings.filterwarnings(\"ignore\")\n",
        "pd.set_option(\"display.max_columns\",None)\n",
        "pd.set_option(\"display.max_rows\",None)"
      ]
    },
    {
      "cell_type": "code",
      "execution_count": null,
      "metadata": {
        "colab": {
          "base_uri": "https://localhost:8080/",
          "height": 226
        },
        "id": "Z_ZMX4jP_r2l",
        "outputId": "6290adf1-bc76-4a0e-a718-6ab4be6d0afb",
        "scrolled": true
      },
      "outputs": [
        {
          "data": {
            "text/html": [
              "<style type=\"text/css\">\n",
              "#T_a4851_row0_col0 {\n",
              "  background-color: #5b3495;\n",
              "  color: #f1f1f1;\n",
              "}\n",
              "#T_a4851_row0_col1, #T_a4851_row1_col17 {\n",
              "  background-color: #f2f0f7;\n",
              "  color: #000000;\n",
              "}\n",
              "#T_a4851_row0_col4 {\n",
              "  background-color: #7262ac;\n",
              "  color: #f1f1f1;\n",
              "}\n",
              "#T_a4851_row0_col5, #T_a4851_row0_col6, #T_a4851_row0_col20, #T_a4851_row0_col21, #T_a4851_row0_col22, #T_a4851_row0_col23, #T_a4851_row0_col24, #T_a4851_row0_col25, #T_a4851_row0_col26, #T_a4851_row0_col27, #T_a4851_row1_col0, #T_a4851_row1_col1, #T_a4851_row1_col9, #T_a4851_row1_col10, #T_a4851_row1_col11, #T_a4851_row1_col12, #T_a4851_row1_col13, #T_a4851_row1_col16, #T_a4851_row1_col18, #T_a4851_row1_col20, #T_a4851_row1_col21, #T_a4851_row1_col22, #T_a4851_row1_col23, #T_a4851_row1_col24, #T_a4851_row1_col25, #T_a4851_row1_col26, #T_a4851_row1_col27, #T_a4851_row1_col28, #T_a4851_row2_col5, #T_a4851_row2_col6, #T_a4851_row2_col8, #T_a4851_row2_col15, #T_a4851_row2_col19, #T_a4851_row2_col20, #T_a4851_row2_col21, #T_a4851_row2_col22, #T_a4851_row2_col23, #T_a4851_row2_col24, #T_a4851_row2_col25, #T_a4851_row2_col26, #T_a4851_row2_col27, #T_a4851_row2_col28, #T_a4851_row3_col4, #T_a4851_row3_col6, #T_a4851_row3_col8, #T_a4851_row3_col9, #T_a4851_row3_col14, #T_a4851_row3_col17, #T_a4851_row3_col20, #T_a4851_row3_col21, #T_a4851_row3_col22, #T_a4851_row3_col23, #T_a4851_row3_col24, #T_a4851_row3_col25, #T_a4851_row3_col26, #T_a4851_row3_col27, #T_a4851_row3_col28, #T_a4851_row4_col6, #T_a4851_row4_col20, #T_a4851_row4_col21, #T_a4851_row4_col22, #T_a4851_row4_col23, #T_a4851_row4_col24, #T_a4851_row4_col25, #T_a4851_row4_col26, #T_a4851_row4_col27, #T_a4851_row4_col28 {\n",
              "  background-color: #fcfbfd;\n",
              "  color: #000000;\n",
              "}\n",
              "#T_a4851_row0_col8 {\n",
              "  background-color: #a5a2cd;\n",
              "  color: #f1f1f1;\n",
              "}\n",
              "#T_a4851_row0_col9, #T_a4851_row0_col10, #T_a4851_row0_col11, #T_a4851_row0_col12, #T_a4851_row0_col13, #T_a4851_row0_col14, #T_a4851_row0_col16, #T_a4851_row0_col17, #T_a4851_row0_col19, #T_a4851_row0_col28, #T_a4851_row1_col5, #T_a4851_row1_col6, #T_a4851_row2_col4, #T_a4851_row2_col16, #T_a4851_row2_col18, #T_a4851_row3_col0, #T_a4851_row3_col1, #T_a4851_row3_col5, #T_a4851_row4_col5, #T_a4851_row4_col8, #T_a4851_row4_col15 {\n",
              "  background-color: #3f007d;\n",
              "  color: #f1f1f1;\n",
              "}\n",
              "#T_a4851_row0_col15, #T_a4851_row4_col18 {\n",
              "  background-color: #9e9ac8;\n",
              "  color: #f1f1f1;\n",
              "}\n",
              "#T_a4851_row0_col18, #T_a4851_row1_col15, #T_a4851_row3_col15, #T_a4851_row3_col18 {\n",
              "  background-color: #dadaeb;\n",
              "  color: #000000;\n",
              "}\n",
              "#T_a4851_row1_col4 {\n",
              "  background-color: #adabd2;\n",
              "  color: #000000;\n",
              "}\n",
              "#T_a4851_row1_col8 {\n",
              "  background-color: #e6e5f1;\n",
              "  color: #000000;\n",
              "}\n",
              "#T_a4851_row1_col14 {\n",
              "  background-color: #fbfafc;\n",
              "  color: #000000;\n",
              "}\n",
              "#T_a4851_row1_col19, #T_a4851_row4_col19 {\n",
              "  background-color: #c6c7e1;\n",
              "  color: #000000;\n",
              "}\n",
              "#T_a4851_row2_col0 {\n",
              "  background-color: #a09dca;\n",
              "  color: #f1f1f1;\n",
              "}\n",
              "#T_a4851_row2_col1 {\n",
              "  background-color: #bebfdd;\n",
              "  color: #000000;\n",
              "}\n",
              "#T_a4851_row2_col9, #T_a4851_row3_col19 {\n",
              "  background-color: #796eb2;\n",
              "  color: #f1f1f1;\n",
              "}\n",
              "#T_a4851_row2_col10 {\n",
              "  background-color: #918ec2;\n",
              "  color: #f1f1f1;\n",
              "}\n",
              "#T_a4851_row2_col11 {\n",
              "  background-color: #dedeed;\n",
              "  color: #000000;\n",
              "}\n",
              "#T_a4851_row2_col12 {\n",
              "  background-color: #7d77b7;\n",
              "  color: #f1f1f1;\n",
              "}\n",
              "#T_a4851_row2_col13 {\n",
              "  background-color: #dedded;\n",
              "  color: #000000;\n",
              "}\n",
              "#T_a4851_row2_col14 {\n",
              "  background-color: #aba9d0;\n",
              "  color: #000000;\n",
              "}\n",
              "#T_a4851_row2_col17 {\n",
              "  background-color: #e2e2ef;\n",
              "  color: #000000;\n",
              "}\n",
              "#T_a4851_row3_col10 {\n",
              "  background-color: #f9f7fb;\n",
              "  color: #000000;\n",
              "}\n",
              "#T_a4851_row3_col11 {\n",
              "  background-color: #faf8fb;\n",
              "  color: #000000;\n",
              "}\n",
              "#T_a4851_row3_col12 {\n",
              "  background-color: #f7f6fa;\n",
              "  color: #000000;\n",
              "}\n",
              "#T_a4851_row3_col13 {\n",
              "  background-color: #faf9fc;\n",
              "  color: #000000;\n",
              "}\n",
              "#T_a4851_row3_col16 {\n",
              "  background-color: #ecebf4;\n",
              "  color: #000000;\n",
              "}\n",
              "#T_a4851_row4_col0 {\n",
              "  background-color: #63449d;\n",
              "  color: #f1f1f1;\n",
              "}\n",
              "#T_a4851_row4_col1 {\n",
              "  background-color: #4f1f8b;\n",
              "  color: #f1f1f1;\n",
              "}\n",
              "#T_a4851_row4_col4 {\n",
              "  background-color: #7261ab;\n",
              "  color: #f1f1f1;\n",
              "}\n",
              "#T_a4851_row4_col9, #T_a4851_row4_col12 {\n",
              "  background-color: #d8d8ea;\n",
              "  color: #000000;\n",
              "}\n",
              "#T_a4851_row4_col10 {\n",
              "  background-color: #a29fcb;\n",
              "  color: #f1f1f1;\n",
              "}\n",
              "#T_a4851_row4_col11 {\n",
              "  background-color: #e1e0ee;\n",
              "  color: #000000;\n",
              "}\n",
              "#T_a4851_row4_col13, #T_a4851_row4_col17 {\n",
              "  background-color: #cecfe5;\n",
              "  color: #000000;\n",
              "}\n",
              "#T_a4851_row4_col14 {\n",
              "  background-color: #f0eef5;\n",
              "  color: #000000;\n",
              "}\n",
              "#T_a4851_row4_col16 {\n",
              "  background-color: #8d89c0;\n",
              "  color: #f1f1f1;\n",
              "}\n",
              "</style>\n",
              "<table id=\"T_a4851_\" class=\"dataframe\">\n",
              "  <thead>\n",
              "    <tr>\n",
              "      <th class=\"blank level0\" >&nbsp;</th>\n",
              "      <th class=\"col_heading level0 col0\" >ID</th>\n",
              "      <th class=\"col_heading level0 col1\" >Year_Birth</th>\n",
              "      <th class=\"col_heading level0 col2\" >Education</th>\n",
              "      <th class=\"col_heading level0 col3\" >Marital_Status</th>\n",
              "      <th class=\"col_heading level0 col4\" >Income</th>\n",
              "      <th class=\"col_heading level0 col5\" >Kidhome</th>\n",
              "      <th class=\"col_heading level0 col6\" >Teenhome</th>\n",
              "      <th class=\"col_heading level0 col7\" >Dt_Customer</th>\n",
              "      <th class=\"col_heading level0 col8\" >Recency</th>\n",
              "      <th class=\"col_heading level0 col9\" >MntWines</th>\n",
              "      <th class=\"col_heading level0 col10\" >MntFruits</th>\n",
              "      <th class=\"col_heading level0 col11\" >MntMeatProducts</th>\n",
              "      <th class=\"col_heading level0 col12\" >MntFishProducts</th>\n",
              "      <th class=\"col_heading level0 col13\" >MntSweetProducts</th>\n",
              "      <th class=\"col_heading level0 col14\" >MntGoldProds</th>\n",
              "      <th class=\"col_heading level0 col15\" >NumDealsPurchases</th>\n",
              "      <th class=\"col_heading level0 col16\" >NumWebPurchases</th>\n",
              "      <th class=\"col_heading level0 col17\" >NumCatalogPurchases</th>\n",
              "      <th class=\"col_heading level0 col18\" >NumStorePurchases</th>\n",
              "      <th class=\"col_heading level0 col19\" >NumWebVisitsMonth</th>\n",
              "      <th class=\"col_heading level0 col20\" >AcceptedCmp3</th>\n",
              "      <th class=\"col_heading level0 col21\" >AcceptedCmp4</th>\n",
              "      <th class=\"col_heading level0 col22\" >AcceptedCmp5</th>\n",
              "      <th class=\"col_heading level0 col23\" >AcceptedCmp1</th>\n",
              "      <th class=\"col_heading level0 col24\" >AcceptedCmp2</th>\n",
              "      <th class=\"col_heading level0 col25\" >Complain</th>\n",
              "      <th class=\"col_heading level0 col26\" >Z_CostContact</th>\n",
              "      <th class=\"col_heading level0 col27\" >Z_Revenue</th>\n",
              "      <th class=\"col_heading level0 col28\" >Response</th>\n",
              "    </tr>\n",
              "  </thead>\n",
              "  <tbody>\n",
              "    <tr>\n",
              "      <th id=\"T_a4851_level0_row0\" class=\"row_heading level0 row0\" >0</th>\n",
              "      <td id=\"T_a4851_row0_col0\" class=\"data row0 col0\" >5524</td>\n",
              "      <td id=\"T_a4851_row0_col1\" class=\"data row0 col1\" >1957</td>\n",
              "      <td id=\"T_a4851_row0_col2\" class=\"data row0 col2\" >Graduation</td>\n",
              "      <td id=\"T_a4851_row0_col3\" class=\"data row0 col3\" >Single</td>\n",
              "      <td id=\"T_a4851_row0_col4\" class=\"data row0 col4\" >58138.000000</td>\n",
              "      <td id=\"T_a4851_row0_col5\" class=\"data row0 col5\" >0</td>\n",
              "      <td id=\"T_a4851_row0_col6\" class=\"data row0 col6\" >0</td>\n",
              "      <td id=\"T_a4851_row0_col7\" class=\"data row0 col7\" >04-09-2012</td>\n",
              "      <td id=\"T_a4851_row0_col8\" class=\"data row0 col8\" >58</td>\n",
              "      <td id=\"T_a4851_row0_col9\" class=\"data row0 col9\" >635</td>\n",
              "      <td id=\"T_a4851_row0_col10\" class=\"data row0 col10\" >88</td>\n",
              "      <td id=\"T_a4851_row0_col11\" class=\"data row0 col11\" >546</td>\n",
              "      <td id=\"T_a4851_row0_col12\" class=\"data row0 col12\" >172</td>\n",
              "      <td id=\"T_a4851_row0_col13\" class=\"data row0 col13\" >88</td>\n",
              "      <td id=\"T_a4851_row0_col14\" class=\"data row0 col14\" >88</td>\n",
              "      <td id=\"T_a4851_row0_col15\" class=\"data row0 col15\" >3</td>\n",
              "      <td id=\"T_a4851_row0_col16\" class=\"data row0 col16\" >8</td>\n",
              "      <td id=\"T_a4851_row0_col17\" class=\"data row0 col17\" >10</td>\n",
              "      <td id=\"T_a4851_row0_col18\" class=\"data row0 col18\" >4</td>\n",
              "      <td id=\"T_a4851_row0_col19\" class=\"data row0 col19\" >7</td>\n",
              "      <td id=\"T_a4851_row0_col20\" class=\"data row0 col20\" >0</td>\n",
              "      <td id=\"T_a4851_row0_col21\" class=\"data row0 col21\" >0</td>\n",
              "      <td id=\"T_a4851_row0_col22\" class=\"data row0 col22\" >0</td>\n",
              "      <td id=\"T_a4851_row0_col23\" class=\"data row0 col23\" >0</td>\n",
              "      <td id=\"T_a4851_row0_col24\" class=\"data row0 col24\" >0</td>\n",
              "      <td id=\"T_a4851_row0_col25\" class=\"data row0 col25\" >0</td>\n",
              "      <td id=\"T_a4851_row0_col26\" class=\"data row0 col26\" >3</td>\n",
              "      <td id=\"T_a4851_row0_col27\" class=\"data row0 col27\" >11</td>\n",
              "      <td id=\"T_a4851_row0_col28\" class=\"data row0 col28\" >1</td>\n",
              "    </tr>\n",
              "    <tr>\n",
              "      <th id=\"T_a4851_level0_row1\" class=\"row_heading level0 row1\" >1</th>\n",
              "      <td id=\"T_a4851_row1_col0\" class=\"data row1 col0\" >2174</td>\n",
              "      <td id=\"T_a4851_row1_col1\" class=\"data row1 col1\" >1954</td>\n",
              "      <td id=\"T_a4851_row1_col2\" class=\"data row1 col2\" >Graduation</td>\n",
              "      <td id=\"T_a4851_row1_col3\" class=\"data row1 col3\" >Single</td>\n",
              "      <td id=\"T_a4851_row1_col4\" class=\"data row1 col4\" >46344.000000</td>\n",
              "      <td id=\"T_a4851_row1_col5\" class=\"data row1 col5\" >1</td>\n",
              "      <td id=\"T_a4851_row1_col6\" class=\"data row1 col6\" >1</td>\n",
              "      <td id=\"T_a4851_row1_col7\" class=\"data row1 col7\" >08-03-2014</td>\n",
              "      <td id=\"T_a4851_row1_col8\" class=\"data row1 col8\" >38</td>\n",
              "      <td id=\"T_a4851_row1_col9\" class=\"data row1 col9\" >11</td>\n",
              "      <td id=\"T_a4851_row1_col10\" class=\"data row1 col10\" >1</td>\n",
              "      <td id=\"T_a4851_row1_col11\" class=\"data row1 col11\" >6</td>\n",
              "      <td id=\"T_a4851_row1_col12\" class=\"data row1 col12\" >2</td>\n",
              "      <td id=\"T_a4851_row1_col13\" class=\"data row1 col13\" >1</td>\n",
              "      <td id=\"T_a4851_row1_col14\" class=\"data row1 col14\" >6</td>\n",
              "      <td id=\"T_a4851_row1_col15\" class=\"data row1 col15\" >2</td>\n",
              "      <td id=\"T_a4851_row1_col16\" class=\"data row1 col16\" >1</td>\n",
              "      <td id=\"T_a4851_row1_col17\" class=\"data row1 col17\" >1</td>\n",
              "      <td id=\"T_a4851_row1_col18\" class=\"data row1 col18\" >2</td>\n",
              "      <td id=\"T_a4851_row1_col19\" class=\"data row1 col19\" >5</td>\n",
              "      <td id=\"T_a4851_row1_col20\" class=\"data row1 col20\" >0</td>\n",
              "      <td id=\"T_a4851_row1_col21\" class=\"data row1 col21\" >0</td>\n",
              "      <td id=\"T_a4851_row1_col22\" class=\"data row1 col22\" >0</td>\n",
              "      <td id=\"T_a4851_row1_col23\" class=\"data row1 col23\" >0</td>\n",
              "      <td id=\"T_a4851_row1_col24\" class=\"data row1 col24\" >0</td>\n",
              "      <td id=\"T_a4851_row1_col25\" class=\"data row1 col25\" >0</td>\n",
              "      <td id=\"T_a4851_row1_col26\" class=\"data row1 col26\" >3</td>\n",
              "      <td id=\"T_a4851_row1_col27\" class=\"data row1 col27\" >11</td>\n",
              "      <td id=\"T_a4851_row1_col28\" class=\"data row1 col28\" >0</td>\n",
              "    </tr>\n",
              "    <tr>\n",
              "      <th id=\"T_a4851_level0_row2\" class=\"row_heading level0 row2\" >2</th>\n",
              "      <td id=\"T_a4851_row2_col0\" class=\"data row2 col0\" >4141</td>\n",
              "      <td id=\"T_a4851_row2_col1\" class=\"data row2 col1\" >1965</td>\n",
              "      <td id=\"T_a4851_row2_col2\" class=\"data row2 col2\" >Graduation</td>\n",
              "      <td id=\"T_a4851_row2_col3\" class=\"data row2 col3\" >Together</td>\n",
              "      <td id=\"T_a4851_row2_col4\" class=\"data row2 col4\" >71613.000000</td>\n",
              "      <td id=\"T_a4851_row2_col5\" class=\"data row2 col5\" >0</td>\n",
              "      <td id=\"T_a4851_row2_col6\" class=\"data row2 col6\" >0</td>\n",
              "      <td id=\"T_a4851_row2_col7\" class=\"data row2 col7\" >21-08-2013</td>\n",
              "      <td id=\"T_a4851_row2_col8\" class=\"data row2 col8\" >26</td>\n",
              "      <td id=\"T_a4851_row2_col9\" class=\"data row2 col9\" >426</td>\n",
              "      <td id=\"T_a4851_row2_col10\" class=\"data row2 col10\" >49</td>\n",
              "      <td id=\"T_a4851_row2_col11\" class=\"data row2 col11\" >127</td>\n",
              "      <td id=\"T_a4851_row2_col12\" class=\"data row2 col12\" >111</td>\n",
              "      <td id=\"T_a4851_row2_col13\" class=\"data row2 col13\" >21</td>\n",
              "      <td id=\"T_a4851_row2_col14\" class=\"data row2 col14\" >42</td>\n",
              "      <td id=\"T_a4851_row2_col15\" class=\"data row2 col15\" >1</td>\n",
              "      <td id=\"T_a4851_row2_col16\" class=\"data row2 col16\" >8</td>\n",
              "      <td id=\"T_a4851_row2_col17\" class=\"data row2 col17\" >2</td>\n",
              "      <td id=\"T_a4851_row2_col18\" class=\"data row2 col18\" >10</td>\n",
              "      <td id=\"T_a4851_row2_col19\" class=\"data row2 col19\" >4</td>\n",
              "      <td id=\"T_a4851_row2_col20\" class=\"data row2 col20\" >0</td>\n",
              "      <td id=\"T_a4851_row2_col21\" class=\"data row2 col21\" >0</td>\n",
              "      <td id=\"T_a4851_row2_col22\" class=\"data row2 col22\" >0</td>\n",
              "      <td id=\"T_a4851_row2_col23\" class=\"data row2 col23\" >0</td>\n",
              "      <td id=\"T_a4851_row2_col24\" class=\"data row2 col24\" >0</td>\n",
              "      <td id=\"T_a4851_row2_col25\" class=\"data row2 col25\" >0</td>\n",
              "      <td id=\"T_a4851_row2_col26\" class=\"data row2 col26\" >3</td>\n",
              "      <td id=\"T_a4851_row2_col27\" class=\"data row2 col27\" >11</td>\n",
              "      <td id=\"T_a4851_row2_col28\" class=\"data row2 col28\" >0</td>\n",
              "    </tr>\n",
              "    <tr>\n",
              "      <th id=\"T_a4851_level0_row3\" class=\"row_heading level0 row3\" >3</th>\n",
              "      <td id=\"T_a4851_row3_col0\" class=\"data row3 col0\" >6182</td>\n",
              "      <td id=\"T_a4851_row3_col1\" class=\"data row3 col1\" >1984</td>\n",
              "      <td id=\"T_a4851_row3_col2\" class=\"data row3 col2\" >Graduation</td>\n",
              "      <td id=\"T_a4851_row3_col3\" class=\"data row3 col3\" >Together</td>\n",
              "      <td id=\"T_a4851_row3_col4\" class=\"data row3 col4\" >26646.000000</td>\n",
              "      <td id=\"T_a4851_row3_col5\" class=\"data row3 col5\" >1</td>\n",
              "      <td id=\"T_a4851_row3_col6\" class=\"data row3 col6\" >0</td>\n",
              "      <td id=\"T_a4851_row3_col7\" class=\"data row3 col7\" >10-02-2014</td>\n",
              "      <td id=\"T_a4851_row3_col8\" class=\"data row3 col8\" >26</td>\n",
              "      <td id=\"T_a4851_row3_col9\" class=\"data row3 col9\" >11</td>\n",
              "      <td id=\"T_a4851_row3_col10\" class=\"data row3 col10\" >4</td>\n",
              "      <td id=\"T_a4851_row3_col11\" class=\"data row3 col11\" >20</td>\n",
              "      <td id=\"T_a4851_row3_col12\" class=\"data row3 col12\" >10</td>\n",
              "      <td id=\"T_a4851_row3_col13\" class=\"data row3 col13\" >3</td>\n",
              "      <td id=\"T_a4851_row3_col14\" class=\"data row3 col14\" >5</td>\n",
              "      <td id=\"T_a4851_row3_col15\" class=\"data row3 col15\" >2</td>\n",
              "      <td id=\"T_a4851_row3_col16\" class=\"data row3 col16\" >2</td>\n",
              "      <td id=\"T_a4851_row3_col17\" class=\"data row3 col17\" >0</td>\n",
              "      <td id=\"T_a4851_row3_col18\" class=\"data row3 col18\" >4</td>\n",
              "      <td id=\"T_a4851_row3_col19\" class=\"data row3 col19\" >6</td>\n",
              "      <td id=\"T_a4851_row3_col20\" class=\"data row3 col20\" >0</td>\n",
              "      <td id=\"T_a4851_row3_col21\" class=\"data row3 col21\" >0</td>\n",
              "      <td id=\"T_a4851_row3_col22\" class=\"data row3 col22\" >0</td>\n",
              "      <td id=\"T_a4851_row3_col23\" class=\"data row3 col23\" >0</td>\n",
              "      <td id=\"T_a4851_row3_col24\" class=\"data row3 col24\" >0</td>\n",
              "      <td id=\"T_a4851_row3_col25\" class=\"data row3 col25\" >0</td>\n",
              "      <td id=\"T_a4851_row3_col26\" class=\"data row3 col26\" >3</td>\n",
              "      <td id=\"T_a4851_row3_col27\" class=\"data row3 col27\" >11</td>\n",
              "      <td id=\"T_a4851_row3_col28\" class=\"data row3 col28\" >0</td>\n",
              "    </tr>\n",
              "    <tr>\n",
              "      <th id=\"T_a4851_level0_row4\" class=\"row_heading level0 row4\" >4</th>\n",
              "      <td id=\"T_a4851_row4_col0\" class=\"data row4 col0\" >5324</td>\n",
              "      <td id=\"T_a4851_row4_col1\" class=\"data row4 col1\" >1981</td>\n",
              "      <td id=\"T_a4851_row4_col2\" class=\"data row4 col2\" >PhD</td>\n",
              "      <td id=\"T_a4851_row4_col3\" class=\"data row4 col3\" >Married</td>\n",
              "      <td id=\"T_a4851_row4_col4\" class=\"data row4 col4\" >58293.000000</td>\n",
              "      <td id=\"T_a4851_row4_col5\" class=\"data row4 col5\" >1</td>\n",
              "      <td id=\"T_a4851_row4_col6\" class=\"data row4 col6\" >0</td>\n",
              "      <td id=\"T_a4851_row4_col7\" class=\"data row4 col7\" >19-01-2014</td>\n",
              "      <td id=\"T_a4851_row4_col8\" class=\"data row4 col8\" >94</td>\n",
              "      <td id=\"T_a4851_row4_col9\" class=\"data row4 col9\" >173</td>\n",
              "      <td id=\"T_a4851_row4_col10\" class=\"data row4 col10\" >43</td>\n",
              "      <td id=\"T_a4851_row4_col11\" class=\"data row4 col11\" >118</td>\n",
              "      <td id=\"T_a4851_row4_col12\" class=\"data row4 col12\" >46</td>\n",
              "      <td id=\"T_a4851_row4_col13\" class=\"data row4 col13\" >27</td>\n",
              "      <td id=\"T_a4851_row4_col14\" class=\"data row4 col14\" >15</td>\n",
              "      <td id=\"T_a4851_row4_col15\" class=\"data row4 col15\" >5</td>\n",
              "      <td id=\"T_a4851_row4_col16\" class=\"data row4 col16\" >5</td>\n",
              "      <td id=\"T_a4851_row4_col17\" class=\"data row4 col17\" >3</td>\n",
              "      <td id=\"T_a4851_row4_col18\" class=\"data row4 col18\" >6</td>\n",
              "      <td id=\"T_a4851_row4_col19\" class=\"data row4 col19\" >5</td>\n",
              "      <td id=\"T_a4851_row4_col20\" class=\"data row4 col20\" >0</td>\n",
              "      <td id=\"T_a4851_row4_col21\" class=\"data row4 col21\" >0</td>\n",
              "      <td id=\"T_a4851_row4_col22\" class=\"data row4 col22\" >0</td>\n",
              "      <td id=\"T_a4851_row4_col23\" class=\"data row4 col23\" >0</td>\n",
              "      <td id=\"T_a4851_row4_col24\" class=\"data row4 col24\" >0</td>\n",
              "      <td id=\"T_a4851_row4_col25\" class=\"data row4 col25\" >0</td>\n",
              "      <td id=\"T_a4851_row4_col26\" class=\"data row4 col26\" >3</td>\n",
              "      <td id=\"T_a4851_row4_col27\" class=\"data row4 col27\" >11</td>\n",
              "      <td id=\"T_a4851_row4_col28\" class=\"data row4 col28\" >0</td>\n",
              "    </tr>\n",
              "  </tbody>\n",
              "</table>\n"
            ],
            "text/plain": [
              "<pandas.io.formats.style.Styler at 0x7f4d9de42970>"
            ]
          },
          "execution_count": 6,
          "metadata": {},
          "output_type": "execute_result"
        }
      ],
      "source": [
        "df = pd.read_csv('marketing_campaign.csv')\n",
        "\n",
        "df.head().style.background_gradient(cmap='Purples')"
      ]
    },
    {
      "cell_type": "code",
      "execution_count": null,
      "metadata": {
        "colab": {
          "base_uri": "https://localhost:8080/"
        },
        "id": "LMp5g19IEmSB",
        "outputId": "090e597a-bdc5-4560-be90-0e5f3b2b26d6"
      },
      "outputs": [
        {
          "name": "stdout",
          "output_type": "stream",
          "text": [
            "<class 'pandas.core.frame.DataFrame'>\n",
            "RangeIndex: 2240 entries, 0 to 2239\n",
            "Data columns (total 29 columns):\n",
            " #   Column               Non-Null Count  Dtype  \n",
            "---  ------               --------------  -----  \n",
            " 0   ID                   2240 non-null   int64  \n",
            " 1   Year_Birth           2240 non-null   int64  \n",
            " 2   Education            2240 non-null   object \n",
            " 3   Marital_Status       2240 non-null   object \n",
            " 4   Income               2216 non-null   float64\n",
            " 5   Kidhome              2240 non-null   int64  \n",
            " 6   Teenhome             2240 non-null   int64  \n",
            " 7   Dt_Customer          2240 non-null   object \n",
            " 8   Recency              2240 non-null   int64  \n",
            " 9   MntWines             2240 non-null   int64  \n",
            " 10  MntFruits            2240 non-null   int64  \n",
            " 11  MntMeatProducts      2240 non-null   int64  \n",
            " 12  MntFishProducts      2240 non-null   int64  \n",
            " 13  MntSweetProducts     2240 non-null   int64  \n",
            " 14  MntGoldProds         2240 non-null   int64  \n",
            " 15  NumDealsPurchases    2240 non-null   int64  \n",
            " 16  NumWebPurchases      2240 non-null   int64  \n",
            " 17  NumCatalogPurchases  2240 non-null   int64  \n",
            " 18  NumStorePurchases    2240 non-null   int64  \n",
            " 19  NumWebVisitsMonth    2240 non-null   int64  \n",
            " 20  AcceptedCmp3         2240 non-null   int64  \n",
            " 21  AcceptedCmp4         2240 non-null   int64  \n",
            " 22  AcceptedCmp5         2240 non-null   int64  \n",
            " 23  AcceptedCmp1         2240 non-null   int64  \n",
            " 24  AcceptedCmp2         2240 non-null   int64  \n",
            " 25  Complain             2240 non-null   int64  \n",
            " 26  Z_CostContact        2240 non-null   int64  \n",
            " 27  Z_Revenue            2240 non-null   int64  \n",
            " 28  Response             2240 non-null   int64  \n",
            "dtypes: float64(1), int64(25), object(3)\n",
            "memory usage: 507.6+ KB\n"
          ]
        }
      ],
      "source": [
        "df.info()"
      ]
    },
    {
      "cell_type": "code",
      "execution_count": null,
      "metadata": {
        "colab": {
          "base_uri": "https://localhost:8080/",
          "height": 320
        },
        "id": "hkdFEdzFFII0",
        "outputId": "61e9f147-d43e-4465-fc45-cc121bf76dd6"
      },
      "outputs": [
        {
          "data": {
            "text/html": [
              "<style type=\"text/css\">\n",
              "#T_c6074_row0_col0 {\n",
              "  background-color: #e2e2ef;\n",
              "  color: #000000;\n",
              "}\n",
              "#T_c6074_row0_col1, #T_c6074_row0_col3, #T_c6074_row0_col4, #T_c6074_row0_col5, #T_c6074_row0_col6, #T_c6074_row0_col7, #T_c6074_row0_col8, #T_c6074_row0_col9, #T_c6074_row0_col10, #T_c6074_row0_col11, #T_c6074_row0_col12, #T_c6074_row0_col13, #T_c6074_row0_col14, #T_c6074_row0_col15, #T_c6074_row0_col16, #T_c6074_row0_col17, #T_c6074_row0_col18, #T_c6074_row0_col19, #T_c6074_row0_col20, #T_c6074_row0_col21, #T_c6074_row0_col22, #T_c6074_row0_col23, #T_c6074_row0_col24, #T_c6074_row0_col25, #T_c6074_row7_col0, #T_c6074_row7_col2 {\n",
              "  background-color: #3f007d;\n",
              "  color: #f1f1f1;\n",
              "}\n",
              "#T_c6074_row0_col2, #T_c6074_row1_col3, #T_c6074_row1_col4, #T_c6074_row1_col12, #T_c6074_row1_col13, #T_c6074_row1_col14, #T_c6074_row1_col15, #T_c6074_row1_col16, #T_c6074_row1_col17, #T_c6074_row1_col18, #T_c6074_row1_col19, #T_c6074_row1_col20, #T_c6074_row1_col21, #T_c6074_row1_col22, #T_c6074_row1_col23, #T_c6074_row1_col24, #T_c6074_row1_col25, #T_c6074_row2_col1, #T_c6074_row2_col3, #T_c6074_row2_col4, #T_c6074_row2_col12, #T_c6074_row2_col13, #T_c6074_row2_col14, #T_c6074_row2_col15, #T_c6074_row2_col16, #T_c6074_row2_col17, #T_c6074_row2_col18, #T_c6074_row2_col19, #T_c6074_row2_col20, #T_c6074_row2_col21, #T_c6074_row2_col22, #T_c6074_row2_col23, #T_c6074_row2_col24, #T_c6074_row2_col25, #T_c6074_row3_col0, #T_c6074_row3_col2, #T_c6074_row3_col3, #T_c6074_row3_col4, #T_c6074_row3_col5, #T_c6074_row3_col6, #T_c6074_row3_col7, #T_c6074_row3_col8, #T_c6074_row3_col9, #T_c6074_row3_col10, #T_c6074_row3_col11, #T_c6074_row3_col12, #T_c6074_row3_col13, #T_c6074_row3_col14, #T_c6074_row3_col15, #T_c6074_row3_col16, #T_c6074_row3_col17, #T_c6074_row3_col18, #T_c6074_row3_col19, #T_c6074_row3_col20, #T_c6074_row3_col21, #T_c6074_row3_col22, #T_c6074_row3_col23, #T_c6074_row3_col24, #T_c6074_row3_col25, #T_c6074_row4_col3, #T_c6074_row4_col4, #T_c6074_row4_col7, #T_c6074_row4_col8, #T_c6074_row4_col9, #T_c6074_row4_col10, #T_c6074_row4_col11, #T_c6074_row4_col12, #T_c6074_row4_col13, #T_c6074_row4_col14, #T_c6074_row4_col15, #T_c6074_row4_col16, #T_c6074_row4_col17, #T_c6074_row4_col18, #T_c6074_row4_col19, #T_c6074_row4_col20, #T_c6074_row4_col21, #T_c6074_row4_col22, #T_c6074_row4_col23, #T_c6074_row4_col24, #T_c6074_row4_col25, #T_c6074_row5_col3, #T_c6074_row5_col4, #T_c6074_row5_col7, #T_c6074_row5_col9, #T_c6074_row5_col10, #T_c6074_row5_col12, #T_c6074_row5_col13, #T_c6074_row5_col14, #T_c6074_row5_col15, #T_c6074_row5_col16, #T_c6074_row5_col17, #T_c6074_row5_col18, #T_c6074_row5_col19, #T_c6074_row5_col20, #T_c6074_row5_col21, #T_c6074_row5_col22, #T_c6074_row5_col23, #T_c6074_row5_col24, #T_c6074_row5_col25, #T_c6074_row6_col3, #T_c6074_row6_col4, #T_c6074_row6_col12, #T_c6074_row6_col13, #T_c6074_row6_col14, #T_c6074_row6_col15, #T_c6074_row6_col16, #T_c6074_row6_col17, #T_c6074_row6_col18, #T_c6074_row6_col19, #T_c6074_row6_col20, #T_c6074_row6_col21, #T_c6074_row6_col22, #T_c6074_row6_col23, #T_c6074_row6_col24, #T_c6074_row6_col25, #T_c6074_row7_col3, #T_c6074_row7_col4, #T_c6074_row7_col12, #T_c6074_row7_col15, #T_c6074_row7_col17, #T_c6074_row7_col18, #T_c6074_row7_col19, #T_c6074_row7_col20, #T_c6074_row7_col21, #T_c6074_row7_col22, #T_c6074_row7_col23, #T_c6074_row7_col24, #T_c6074_row7_col25 {\n",
              "  background-color: #fcfbfd;\n",
              "  color: #000000;\n",
              "}\n",
              "#T_c6074_row1_col0 {\n",
              "  background-color: #9e9bc8;\n",
              "  color: #f1f1f1;\n",
              "}\n",
              "#T_c6074_row1_col1, #T_c6074_row5_col1 {\n",
              "  background-color: #53268f;\n",
              "  color: #f1f1f1;\n",
              "}\n",
              "#T_c6074_row1_col2, #T_c6074_row1_col8, #T_c6074_row5_col2, #T_c6074_row5_col6 {\n",
              "  background-color: #f4f3f8;\n",
              "  color: #000000;\n",
              "}\n",
              "#T_c6074_row1_col5, #T_c6074_row1_col9, #T_c6074_row1_col11, #T_c6074_row2_col7, #T_c6074_row2_col10, #T_c6074_row2_col11, #T_c6074_row5_col5, #T_c6074_row6_col9 {\n",
              "  background-color: #faf9fc;\n",
              "  color: #000000;\n",
              "}\n",
              "#T_c6074_row1_col6 {\n",
              "  background-color: #eeecf4;\n",
              "  color: #000000;\n",
              "}\n",
              "#T_c6074_row1_col7, #T_c6074_row1_col10, #T_c6074_row2_col5, #T_c6074_row4_col5, #T_c6074_row4_col6, #T_c6074_row5_col11, #T_c6074_row6_col7, #T_c6074_row6_col10, #T_c6074_row7_col13, #T_c6074_row7_col14, #T_c6074_row7_col16 {\n",
              "  background-color: #fbfafc;\n",
              "  color: #000000;\n",
              "}\n",
              "#T_c6074_row2_col0 {\n",
              "  background-color: #d0d1e6;\n",
              "  color: #000000;\n",
              "}\n",
              "#T_c6074_row2_col2 {\n",
              "  background-color: #f8f7fb;\n",
              "  color: #000000;\n",
              "}\n",
              "#T_c6074_row2_col6 {\n",
              "  background-color: #ebe9f3;\n",
              "  color: #000000;\n",
              "}\n",
              "#T_c6074_row2_col8, #T_c6074_row6_col2 {\n",
              "  background-color: #f2f0f7;\n",
              "  color: #000000;\n",
              "}\n",
              "#T_c6074_row2_col9, #T_c6074_row6_col11 {\n",
              "  background-color: #faf8fb;\n",
              "  color: #000000;\n",
              "}\n",
              "#T_c6074_row3_col1 {\n",
              "  background-color: #593093;\n",
              "  color: #f1f1f1;\n",
              "}\n",
              "#T_c6074_row4_col0 {\n",
              "  background-color: #dadaeb;\n",
              "  color: #000000;\n",
              "}\n",
              "#T_c6074_row4_col1 {\n",
              "  background-color: #54278f;\n",
              "  color: #f1f1f1;\n",
              "}\n",
              "#T_c6074_row4_col2 {\n",
              "  background-color: #f7f6fa;\n",
              "  color: #000000;\n",
              "}\n",
              "#T_c6074_row5_col0 {\n",
              "  background-color: #a19eca;\n",
              "  color: #f1f1f1;\n",
              "}\n",
              "#T_c6074_row5_col8 {\n",
              "  background-color: #f9f8fb;\n",
              "  color: #000000;\n",
              "}\n",
              "#T_c6074_row6_col0 {\n",
              "  background-color: #6950a3;\n",
              "  color: #f1f1f1;\n",
              "}\n",
              "#T_c6074_row6_col1 {\n",
              "  background-color: #53258e;\n",
              "  color: #f1f1f1;\n",
              "}\n",
              "#T_c6074_row6_col5 {\n",
              "  background-color: #f9f7fb;\n",
              "  color: #000000;\n",
              "}\n",
              "#T_c6074_row6_col6 {\n",
              "  background-color: #dedeed;\n",
              "  color: #000000;\n",
              "}\n",
              "#T_c6074_row6_col8 {\n",
              "  background-color: #f1f0f6;\n",
              "  color: #000000;\n",
              "}\n",
              "#T_c6074_row7_col1 {\n",
              "  background-color: #51228d;\n",
              "  color: #f1f1f1;\n",
              "}\n",
              "#T_c6074_row7_col5 {\n",
              "  background-color: #f8f6fa;\n",
              "  color: #000000;\n",
              "}\n",
              "#T_c6074_row7_col6 {\n",
              "  background-color: #796eb2;\n",
              "  color: #f1f1f1;\n",
              "}\n",
              "#T_c6074_row7_col7 {\n",
              "  background-color: #f3f1f7;\n",
              "  color: #000000;\n",
              "}\n",
              "#T_c6074_row7_col8 {\n",
              "  background-color: #66499f;\n",
              "  color: #f1f1f1;\n",
              "}\n",
              "#T_c6074_row7_col9 {\n",
              "  background-color: #f0eef6;\n",
              "  color: #000000;\n",
              "}\n",
              "#T_c6074_row7_col10 {\n",
              "  background-color: #f0eef5;\n",
              "  color: #000000;\n",
              "}\n",
              "#T_c6074_row7_col11 {\n",
              "  background-color: #e9e8f2;\n",
              "  color: #000000;\n",
              "}\n",
              "</style>\n",
              "<table id=\"T_c6074_\" class=\"dataframe\">\n",
              "  <thead>\n",
              "    <tr>\n",
              "      <th class=\"blank level0\" >&nbsp;</th>\n",
              "      <th class=\"col_heading level0 col0\" >ID</th>\n",
              "      <th class=\"col_heading level0 col1\" >Year_Birth</th>\n",
              "      <th class=\"col_heading level0 col2\" >Income</th>\n",
              "      <th class=\"col_heading level0 col3\" >Kidhome</th>\n",
              "      <th class=\"col_heading level0 col4\" >Teenhome</th>\n",
              "      <th class=\"col_heading level0 col5\" >Recency</th>\n",
              "      <th class=\"col_heading level0 col6\" >MntWines</th>\n",
              "      <th class=\"col_heading level0 col7\" >MntFruits</th>\n",
              "      <th class=\"col_heading level0 col8\" >MntMeatProducts</th>\n",
              "      <th class=\"col_heading level0 col9\" >MntFishProducts</th>\n",
              "      <th class=\"col_heading level0 col10\" >MntSweetProducts</th>\n",
              "      <th class=\"col_heading level0 col11\" >MntGoldProds</th>\n",
              "      <th class=\"col_heading level0 col12\" >NumDealsPurchases</th>\n",
              "      <th class=\"col_heading level0 col13\" >NumWebPurchases</th>\n",
              "      <th class=\"col_heading level0 col14\" >NumCatalogPurchases</th>\n",
              "      <th class=\"col_heading level0 col15\" >NumStorePurchases</th>\n",
              "      <th class=\"col_heading level0 col16\" >NumWebVisitsMonth</th>\n",
              "      <th class=\"col_heading level0 col17\" >AcceptedCmp3</th>\n",
              "      <th class=\"col_heading level0 col18\" >AcceptedCmp4</th>\n",
              "      <th class=\"col_heading level0 col19\" >AcceptedCmp5</th>\n",
              "      <th class=\"col_heading level0 col20\" >AcceptedCmp1</th>\n",
              "      <th class=\"col_heading level0 col21\" >AcceptedCmp2</th>\n",
              "      <th class=\"col_heading level0 col22\" >Complain</th>\n",
              "      <th class=\"col_heading level0 col23\" >Z_CostContact</th>\n",
              "      <th class=\"col_heading level0 col24\" >Z_Revenue</th>\n",
              "      <th class=\"col_heading level0 col25\" >Response</th>\n",
              "    </tr>\n",
              "  </thead>\n",
              "  <tbody>\n",
              "    <tr>\n",
              "      <th id=\"T_c6074_level0_row0\" class=\"row_heading level0 row0\" >count</th>\n",
              "      <td id=\"T_c6074_row0_col0\" class=\"data row0 col0\" >2240.000000</td>\n",
              "      <td id=\"T_c6074_row0_col1\" class=\"data row0 col1\" >2240.000000</td>\n",
              "      <td id=\"T_c6074_row0_col2\" class=\"data row0 col2\" >2216.000000</td>\n",
              "      <td id=\"T_c6074_row0_col3\" class=\"data row0 col3\" >2240.000000</td>\n",
              "      <td id=\"T_c6074_row0_col4\" class=\"data row0 col4\" >2240.000000</td>\n",
              "      <td id=\"T_c6074_row0_col5\" class=\"data row0 col5\" >2240.000000</td>\n",
              "      <td id=\"T_c6074_row0_col6\" class=\"data row0 col6\" >2240.000000</td>\n",
              "      <td id=\"T_c6074_row0_col7\" class=\"data row0 col7\" >2240.000000</td>\n",
              "      <td id=\"T_c6074_row0_col8\" class=\"data row0 col8\" >2240.000000</td>\n",
              "      <td id=\"T_c6074_row0_col9\" class=\"data row0 col9\" >2240.000000</td>\n",
              "      <td id=\"T_c6074_row0_col10\" class=\"data row0 col10\" >2240.000000</td>\n",
              "      <td id=\"T_c6074_row0_col11\" class=\"data row0 col11\" >2240.000000</td>\n",
              "      <td id=\"T_c6074_row0_col12\" class=\"data row0 col12\" >2240.000000</td>\n",
              "      <td id=\"T_c6074_row0_col13\" class=\"data row0 col13\" >2240.000000</td>\n",
              "      <td id=\"T_c6074_row0_col14\" class=\"data row0 col14\" >2240.000000</td>\n",
              "      <td id=\"T_c6074_row0_col15\" class=\"data row0 col15\" >2240.000000</td>\n",
              "      <td id=\"T_c6074_row0_col16\" class=\"data row0 col16\" >2240.000000</td>\n",
              "      <td id=\"T_c6074_row0_col17\" class=\"data row0 col17\" >2240.000000</td>\n",
              "      <td id=\"T_c6074_row0_col18\" class=\"data row0 col18\" >2240.000000</td>\n",
              "      <td id=\"T_c6074_row0_col19\" class=\"data row0 col19\" >2240.000000</td>\n",
              "      <td id=\"T_c6074_row0_col20\" class=\"data row0 col20\" >2240.000000</td>\n",
              "      <td id=\"T_c6074_row0_col21\" class=\"data row0 col21\" >2240.000000</td>\n",
              "      <td id=\"T_c6074_row0_col22\" class=\"data row0 col22\" >2240.000000</td>\n",
              "      <td id=\"T_c6074_row0_col23\" class=\"data row0 col23\" >2240.000000</td>\n",
              "      <td id=\"T_c6074_row0_col24\" class=\"data row0 col24\" >2240.000000</td>\n",
              "      <td id=\"T_c6074_row0_col25\" class=\"data row0 col25\" >2240.000000</td>\n",
              "    </tr>\n",
              "    <tr>\n",
              "      <th id=\"T_c6074_level0_row1\" class=\"row_heading level0 row1\" >mean</th>\n",
              "      <td id=\"T_c6074_row1_col0\" class=\"data row1 col0\" >5592.159821</td>\n",
              "      <td id=\"T_c6074_row1_col1\" class=\"data row1 col1\" >1968.805804</td>\n",
              "      <td id=\"T_c6074_row1_col2\" class=\"data row1 col2\" >52247.251354</td>\n",
              "      <td id=\"T_c6074_row1_col3\" class=\"data row1 col3\" >0.444196</td>\n",
              "      <td id=\"T_c6074_row1_col4\" class=\"data row1 col4\" >0.506250</td>\n",
              "      <td id=\"T_c6074_row1_col5\" class=\"data row1 col5\" >49.109375</td>\n",
              "      <td id=\"T_c6074_row1_col6\" class=\"data row1 col6\" >303.935714</td>\n",
              "      <td id=\"T_c6074_row1_col7\" class=\"data row1 col7\" >26.302232</td>\n",
              "      <td id=\"T_c6074_row1_col8\" class=\"data row1 col8\" >166.950000</td>\n",
              "      <td id=\"T_c6074_row1_col9\" class=\"data row1 col9\" >37.525446</td>\n",
              "      <td id=\"T_c6074_row1_col10\" class=\"data row1 col10\" >27.062946</td>\n",
              "      <td id=\"T_c6074_row1_col11\" class=\"data row1 col11\" >44.021875</td>\n",
              "      <td id=\"T_c6074_row1_col12\" class=\"data row1 col12\" >2.325000</td>\n",
              "      <td id=\"T_c6074_row1_col13\" class=\"data row1 col13\" >4.084821</td>\n",
              "      <td id=\"T_c6074_row1_col14\" class=\"data row1 col14\" >2.662054</td>\n",
              "      <td id=\"T_c6074_row1_col15\" class=\"data row1 col15\" >5.790179</td>\n",
              "      <td id=\"T_c6074_row1_col16\" class=\"data row1 col16\" >5.316518</td>\n",
              "      <td id=\"T_c6074_row1_col17\" class=\"data row1 col17\" >0.072768</td>\n",
              "      <td id=\"T_c6074_row1_col18\" class=\"data row1 col18\" >0.074554</td>\n",
              "      <td id=\"T_c6074_row1_col19\" class=\"data row1 col19\" >0.072768</td>\n",
              "      <td id=\"T_c6074_row1_col20\" class=\"data row1 col20\" >0.064286</td>\n",
              "      <td id=\"T_c6074_row1_col21\" class=\"data row1 col21\" >0.013393</td>\n",
              "      <td id=\"T_c6074_row1_col22\" class=\"data row1 col22\" >0.009375</td>\n",
              "      <td id=\"T_c6074_row1_col23\" class=\"data row1 col23\" >3.000000</td>\n",
              "      <td id=\"T_c6074_row1_col24\" class=\"data row1 col24\" >11.000000</td>\n",
              "      <td id=\"T_c6074_row1_col25\" class=\"data row1 col25\" >0.149107</td>\n",
              "    </tr>\n",
              "    <tr>\n",
              "      <th id=\"T_c6074_level0_row2\" class=\"row_heading level0 row2\" >std</th>\n",
              "      <td id=\"T_c6074_row2_col0\" class=\"data row2 col0\" >3246.662198</td>\n",
              "      <td id=\"T_c6074_row2_col1\" class=\"data row2 col1\" >11.984069</td>\n",
              "      <td id=\"T_c6074_row2_col2\" class=\"data row2 col2\" >25173.076661</td>\n",
              "      <td id=\"T_c6074_row2_col3\" class=\"data row2 col3\" >0.538398</td>\n",
              "      <td id=\"T_c6074_row2_col4\" class=\"data row2 col4\" >0.544538</td>\n",
              "      <td id=\"T_c6074_row2_col5\" class=\"data row2 col5\" >28.962453</td>\n",
              "      <td id=\"T_c6074_row2_col6\" class=\"data row2 col6\" >336.597393</td>\n",
              "      <td id=\"T_c6074_row2_col7\" class=\"data row2 col7\" >39.773434</td>\n",
              "      <td id=\"T_c6074_row2_col8\" class=\"data row2 col8\" >225.715373</td>\n",
              "      <td id=\"T_c6074_row2_col9\" class=\"data row2 col9\" >54.628979</td>\n",
              "      <td id=\"T_c6074_row2_col10\" class=\"data row2 col10\" >41.280498</td>\n",
              "      <td id=\"T_c6074_row2_col11\" class=\"data row2 col11\" >52.167439</td>\n",
              "      <td id=\"T_c6074_row2_col12\" class=\"data row2 col12\" >1.932238</td>\n",
              "      <td id=\"T_c6074_row2_col13\" class=\"data row2 col13\" >2.778714</td>\n",
              "      <td id=\"T_c6074_row2_col14\" class=\"data row2 col14\" >2.923101</td>\n",
              "      <td id=\"T_c6074_row2_col15\" class=\"data row2 col15\" >3.250958</td>\n",
              "      <td id=\"T_c6074_row2_col16\" class=\"data row2 col16\" >2.426645</td>\n",
              "      <td id=\"T_c6074_row2_col17\" class=\"data row2 col17\" >0.259813</td>\n",
              "      <td id=\"T_c6074_row2_col18\" class=\"data row2 col18\" >0.262728</td>\n",
              "      <td id=\"T_c6074_row2_col19\" class=\"data row2 col19\" >0.259813</td>\n",
              "      <td id=\"T_c6074_row2_col20\" class=\"data row2 col20\" >0.245316</td>\n",
              "      <td id=\"T_c6074_row2_col21\" class=\"data row2 col21\" >0.114976</td>\n",
              "      <td id=\"T_c6074_row2_col22\" class=\"data row2 col22\" >0.096391</td>\n",
              "      <td id=\"T_c6074_row2_col23\" class=\"data row2 col23\" >0.000000</td>\n",
              "      <td id=\"T_c6074_row2_col24\" class=\"data row2 col24\" >0.000000</td>\n",
              "      <td id=\"T_c6074_row2_col25\" class=\"data row2 col25\" >0.356274</td>\n",
              "    </tr>\n",
              "    <tr>\n",
              "      <th id=\"T_c6074_level0_row3\" class=\"row_heading level0 row3\" >min</th>\n",
              "      <td id=\"T_c6074_row3_col0\" class=\"data row3 col0\" >0.000000</td>\n",
              "      <td id=\"T_c6074_row3_col1\" class=\"data row3 col1\" >1893.000000</td>\n",
              "      <td id=\"T_c6074_row3_col2\" class=\"data row3 col2\" >1730.000000</td>\n",
              "      <td id=\"T_c6074_row3_col3\" class=\"data row3 col3\" >0.000000</td>\n",
              "      <td id=\"T_c6074_row3_col4\" class=\"data row3 col4\" >0.000000</td>\n",
              "      <td id=\"T_c6074_row3_col5\" class=\"data row3 col5\" >0.000000</td>\n",
              "      <td id=\"T_c6074_row3_col6\" class=\"data row3 col6\" >0.000000</td>\n",
              "      <td id=\"T_c6074_row3_col7\" class=\"data row3 col7\" >0.000000</td>\n",
              "      <td id=\"T_c6074_row3_col8\" class=\"data row3 col8\" >0.000000</td>\n",
              "      <td id=\"T_c6074_row3_col9\" class=\"data row3 col9\" >0.000000</td>\n",
              "      <td id=\"T_c6074_row3_col10\" class=\"data row3 col10\" >0.000000</td>\n",
              "      <td id=\"T_c6074_row3_col11\" class=\"data row3 col11\" >0.000000</td>\n",
              "      <td id=\"T_c6074_row3_col12\" class=\"data row3 col12\" >0.000000</td>\n",
              "      <td id=\"T_c6074_row3_col13\" class=\"data row3 col13\" >0.000000</td>\n",
              "      <td id=\"T_c6074_row3_col14\" class=\"data row3 col14\" >0.000000</td>\n",
              "      <td id=\"T_c6074_row3_col15\" class=\"data row3 col15\" >0.000000</td>\n",
              "      <td id=\"T_c6074_row3_col16\" class=\"data row3 col16\" >0.000000</td>\n",
              "      <td id=\"T_c6074_row3_col17\" class=\"data row3 col17\" >0.000000</td>\n",
              "      <td id=\"T_c6074_row3_col18\" class=\"data row3 col18\" >0.000000</td>\n",
              "      <td id=\"T_c6074_row3_col19\" class=\"data row3 col19\" >0.000000</td>\n",
              "      <td id=\"T_c6074_row3_col20\" class=\"data row3 col20\" >0.000000</td>\n",
              "      <td id=\"T_c6074_row3_col21\" class=\"data row3 col21\" >0.000000</td>\n",
              "      <td id=\"T_c6074_row3_col22\" class=\"data row3 col22\" >0.000000</td>\n",
              "      <td id=\"T_c6074_row3_col23\" class=\"data row3 col23\" >3.000000</td>\n",
              "      <td id=\"T_c6074_row3_col24\" class=\"data row3 col24\" >11.000000</td>\n",
              "      <td id=\"T_c6074_row3_col25\" class=\"data row3 col25\" >0.000000</td>\n",
              "    </tr>\n",
              "    <tr>\n",
              "      <th id=\"T_c6074_level0_row4\" class=\"row_heading level0 row4\" >25%</th>\n",
              "      <td id=\"T_c6074_row4_col0\" class=\"data row4 col0\" >2828.250000</td>\n",
              "      <td id=\"T_c6074_row4_col1\" class=\"data row4 col1\" >1959.000000</td>\n",
              "      <td id=\"T_c6074_row4_col2\" class=\"data row4 col2\" >35303.000000</td>\n",
              "      <td id=\"T_c6074_row4_col3\" class=\"data row4 col3\" >0.000000</td>\n",
              "      <td id=\"T_c6074_row4_col4\" class=\"data row4 col4\" >0.000000</td>\n",
              "      <td id=\"T_c6074_row4_col5\" class=\"data row4 col5\" >24.000000</td>\n",
              "      <td id=\"T_c6074_row4_col6\" class=\"data row4 col6\" >23.750000</td>\n",
              "      <td id=\"T_c6074_row4_col7\" class=\"data row4 col7\" >1.000000</td>\n",
              "      <td id=\"T_c6074_row4_col8\" class=\"data row4 col8\" >16.000000</td>\n",
              "      <td id=\"T_c6074_row4_col9\" class=\"data row4 col9\" >3.000000</td>\n",
              "      <td id=\"T_c6074_row4_col10\" class=\"data row4 col10\" >1.000000</td>\n",
              "      <td id=\"T_c6074_row4_col11\" class=\"data row4 col11\" >9.000000</td>\n",
              "      <td id=\"T_c6074_row4_col12\" class=\"data row4 col12\" >1.000000</td>\n",
              "      <td id=\"T_c6074_row4_col13\" class=\"data row4 col13\" >2.000000</td>\n",
              "      <td id=\"T_c6074_row4_col14\" class=\"data row4 col14\" >0.000000</td>\n",
              "      <td id=\"T_c6074_row4_col15\" class=\"data row4 col15\" >3.000000</td>\n",
              "      <td id=\"T_c6074_row4_col16\" class=\"data row4 col16\" >3.000000</td>\n",
              "      <td id=\"T_c6074_row4_col17\" class=\"data row4 col17\" >0.000000</td>\n",
              "      <td id=\"T_c6074_row4_col18\" class=\"data row4 col18\" >0.000000</td>\n",
              "      <td id=\"T_c6074_row4_col19\" class=\"data row4 col19\" >0.000000</td>\n",
              "      <td id=\"T_c6074_row4_col20\" class=\"data row4 col20\" >0.000000</td>\n",
              "      <td id=\"T_c6074_row4_col21\" class=\"data row4 col21\" >0.000000</td>\n",
              "      <td id=\"T_c6074_row4_col22\" class=\"data row4 col22\" >0.000000</td>\n",
              "      <td id=\"T_c6074_row4_col23\" class=\"data row4 col23\" >3.000000</td>\n",
              "      <td id=\"T_c6074_row4_col24\" class=\"data row4 col24\" >11.000000</td>\n",
              "      <td id=\"T_c6074_row4_col25\" class=\"data row4 col25\" >0.000000</td>\n",
              "    </tr>\n",
              "    <tr>\n",
              "      <th id=\"T_c6074_level0_row5\" class=\"row_heading level0 row5\" >50%</th>\n",
              "      <td id=\"T_c6074_row5_col0\" class=\"data row5 col0\" >5458.500000</td>\n",
              "      <td id=\"T_c6074_row5_col1\" class=\"data row5 col1\" >1970.000000</td>\n",
              "      <td id=\"T_c6074_row5_col2\" class=\"data row5 col2\" >51381.500000</td>\n",
              "      <td id=\"T_c6074_row5_col3\" class=\"data row5 col3\" >0.000000</td>\n",
              "      <td id=\"T_c6074_row5_col4\" class=\"data row5 col4\" >0.000000</td>\n",
              "      <td id=\"T_c6074_row5_col5\" class=\"data row5 col5\" >49.000000</td>\n",
              "      <td id=\"T_c6074_row5_col6\" class=\"data row5 col6\" >173.500000</td>\n",
              "      <td id=\"T_c6074_row5_col7\" class=\"data row5 col7\" >8.000000</td>\n",
              "      <td id=\"T_c6074_row5_col8\" class=\"data row5 col8\" >67.000000</td>\n",
              "      <td id=\"T_c6074_row5_col9\" class=\"data row5 col9\" >12.000000</td>\n",
              "      <td id=\"T_c6074_row5_col10\" class=\"data row5 col10\" >8.000000</td>\n",
              "      <td id=\"T_c6074_row5_col11\" class=\"data row5 col11\" >24.000000</td>\n",
              "      <td id=\"T_c6074_row5_col12\" class=\"data row5 col12\" >2.000000</td>\n",
              "      <td id=\"T_c6074_row5_col13\" class=\"data row5 col13\" >4.000000</td>\n",
              "      <td id=\"T_c6074_row5_col14\" class=\"data row5 col14\" >2.000000</td>\n",
              "      <td id=\"T_c6074_row5_col15\" class=\"data row5 col15\" >5.000000</td>\n",
              "      <td id=\"T_c6074_row5_col16\" class=\"data row5 col16\" >6.000000</td>\n",
              "      <td id=\"T_c6074_row5_col17\" class=\"data row5 col17\" >0.000000</td>\n",
              "      <td id=\"T_c6074_row5_col18\" class=\"data row5 col18\" >0.000000</td>\n",
              "      <td id=\"T_c6074_row5_col19\" class=\"data row5 col19\" >0.000000</td>\n",
              "      <td id=\"T_c6074_row5_col20\" class=\"data row5 col20\" >0.000000</td>\n",
              "      <td id=\"T_c6074_row5_col21\" class=\"data row5 col21\" >0.000000</td>\n",
              "      <td id=\"T_c6074_row5_col22\" class=\"data row5 col22\" >0.000000</td>\n",
              "      <td id=\"T_c6074_row5_col23\" class=\"data row5 col23\" >3.000000</td>\n",
              "      <td id=\"T_c6074_row5_col24\" class=\"data row5 col24\" >11.000000</td>\n",
              "      <td id=\"T_c6074_row5_col25\" class=\"data row5 col25\" >0.000000</td>\n",
              "    </tr>\n",
              "    <tr>\n",
              "      <th id=\"T_c6074_level0_row6\" class=\"row_heading level0 row6\" >75%</th>\n",
              "      <td id=\"T_c6074_row6_col0\" class=\"data row6 col0\" >8427.750000</td>\n",
              "      <td id=\"T_c6074_row6_col1\" class=\"data row6 col1\" >1977.000000</td>\n",
              "      <td id=\"T_c6074_row6_col2\" class=\"data row6 col2\" >68522.000000</td>\n",
              "      <td id=\"T_c6074_row6_col3\" class=\"data row6 col3\" >1.000000</td>\n",
              "      <td id=\"T_c6074_row6_col4\" class=\"data row6 col4\" >1.000000</td>\n",
              "      <td id=\"T_c6074_row6_col5\" class=\"data row6 col5\" >74.000000</td>\n",
              "      <td id=\"T_c6074_row6_col6\" class=\"data row6 col6\" >504.250000</td>\n",
              "      <td id=\"T_c6074_row6_col7\" class=\"data row6 col7\" >33.000000</td>\n",
              "      <td id=\"T_c6074_row6_col8\" class=\"data row6 col8\" >232.000000</td>\n",
              "      <td id=\"T_c6074_row6_col9\" class=\"data row6 col9\" >50.000000</td>\n",
              "      <td id=\"T_c6074_row6_col10\" class=\"data row6 col10\" >33.000000</td>\n",
              "      <td id=\"T_c6074_row6_col11\" class=\"data row6 col11\" >56.000000</td>\n",
              "      <td id=\"T_c6074_row6_col12\" class=\"data row6 col12\" >3.000000</td>\n",
              "      <td id=\"T_c6074_row6_col13\" class=\"data row6 col13\" >6.000000</td>\n",
              "      <td id=\"T_c6074_row6_col14\" class=\"data row6 col14\" >4.000000</td>\n",
              "      <td id=\"T_c6074_row6_col15\" class=\"data row6 col15\" >8.000000</td>\n",
              "      <td id=\"T_c6074_row6_col16\" class=\"data row6 col16\" >7.000000</td>\n",
              "      <td id=\"T_c6074_row6_col17\" class=\"data row6 col17\" >0.000000</td>\n",
              "      <td id=\"T_c6074_row6_col18\" class=\"data row6 col18\" >0.000000</td>\n",
              "      <td id=\"T_c6074_row6_col19\" class=\"data row6 col19\" >0.000000</td>\n",
              "      <td id=\"T_c6074_row6_col20\" class=\"data row6 col20\" >0.000000</td>\n",
              "      <td id=\"T_c6074_row6_col21\" class=\"data row6 col21\" >0.000000</td>\n",
              "      <td id=\"T_c6074_row6_col22\" class=\"data row6 col22\" >0.000000</td>\n",
              "      <td id=\"T_c6074_row6_col23\" class=\"data row6 col23\" >3.000000</td>\n",
              "      <td id=\"T_c6074_row6_col24\" class=\"data row6 col24\" >11.000000</td>\n",
              "      <td id=\"T_c6074_row6_col25\" class=\"data row6 col25\" >0.000000</td>\n",
              "    </tr>\n",
              "    <tr>\n",
              "      <th id=\"T_c6074_level0_row7\" class=\"row_heading level0 row7\" >max</th>\n",
              "      <td id=\"T_c6074_row7_col0\" class=\"data row7 col0\" >11191.000000</td>\n",
              "      <td id=\"T_c6074_row7_col1\" class=\"data row7 col1\" >1996.000000</td>\n",
              "      <td id=\"T_c6074_row7_col2\" class=\"data row7 col2\" >666666.000000</td>\n",
              "      <td id=\"T_c6074_row7_col3\" class=\"data row7 col3\" >2.000000</td>\n",
              "      <td id=\"T_c6074_row7_col4\" class=\"data row7 col4\" >2.000000</td>\n",
              "      <td id=\"T_c6074_row7_col5\" class=\"data row7 col5\" >99.000000</td>\n",
              "      <td id=\"T_c6074_row7_col6\" class=\"data row7 col6\" >1493.000000</td>\n",
              "      <td id=\"T_c6074_row7_col7\" class=\"data row7 col7\" >199.000000</td>\n",
              "      <td id=\"T_c6074_row7_col8\" class=\"data row7 col8\" >1725.000000</td>\n",
              "      <td id=\"T_c6074_row7_col9\" class=\"data row7 col9\" >259.000000</td>\n",
              "      <td id=\"T_c6074_row7_col10\" class=\"data row7 col10\" >263.000000</td>\n",
              "      <td id=\"T_c6074_row7_col11\" class=\"data row7 col11\" >362.000000</td>\n",
              "      <td id=\"T_c6074_row7_col12\" class=\"data row7 col12\" >15.000000</td>\n",
              "      <td id=\"T_c6074_row7_col13\" class=\"data row7 col13\" >27.000000</td>\n",
              "      <td id=\"T_c6074_row7_col14\" class=\"data row7 col14\" >28.000000</td>\n",
              "      <td id=\"T_c6074_row7_col15\" class=\"data row7 col15\" >13.000000</td>\n",
              "      <td id=\"T_c6074_row7_col16\" class=\"data row7 col16\" >20.000000</td>\n",
              "      <td id=\"T_c6074_row7_col17\" class=\"data row7 col17\" >1.000000</td>\n",
              "      <td id=\"T_c6074_row7_col18\" class=\"data row7 col18\" >1.000000</td>\n",
              "      <td id=\"T_c6074_row7_col19\" class=\"data row7 col19\" >1.000000</td>\n",
              "      <td id=\"T_c6074_row7_col20\" class=\"data row7 col20\" >1.000000</td>\n",
              "      <td id=\"T_c6074_row7_col21\" class=\"data row7 col21\" >1.000000</td>\n",
              "      <td id=\"T_c6074_row7_col22\" class=\"data row7 col22\" >1.000000</td>\n",
              "      <td id=\"T_c6074_row7_col23\" class=\"data row7 col23\" >3.000000</td>\n",
              "      <td id=\"T_c6074_row7_col24\" class=\"data row7 col24\" >11.000000</td>\n",
              "      <td id=\"T_c6074_row7_col25\" class=\"data row7 col25\" >1.000000</td>\n",
              "    </tr>\n",
              "  </tbody>\n",
              "</table>\n"
            ],
            "text/plain": [
              "<pandas.io.formats.style.Styler at 0x7f4dc7cabc10>"
            ]
          },
          "execution_count": 8,
          "metadata": {},
          "output_type": "execute_result"
        }
      ],
      "source": [
        "df.describe().style.background_gradient(cmap='Purples')"
      ]
    },
    {
      "cell_type": "markdown",
      "metadata": {
        "id": "o3uaJA5F_r2k"
      },
      "source": [
        "# Data Cleaning"
      ]
    },
    {
      "cell_type": "markdown",
      "metadata": {
        "id": "ghUWFe9H_r2s"
      },
      "source": [
        "## Find Missing Values"
      ]
    },
    {
      "cell_type": "code",
      "execution_count": null,
      "metadata": {
        "colab": {
          "base_uri": "https://localhost:8080/",
          "height": 731
        },
        "id": "H-iztML8_r2s",
        "outputId": "6e709b3c-f7fa-4235-a199-a397c7094186"
      },
      "outputs": [
        {
          "data": {
            "image/png": "[encoded data removed]",
            "text/plain": [
              "<Figure size 1800x720 with 2 Axes>"
            ]
          },
          "metadata": {
            "needs_background": "light"
          },
          "output_type": "display_data"
        }
      ],
      "source": [
        "msno.matrix(df)\n",
        "plt.show()"
      ]
    },
    {
      "cell_type": "code",
      "execution_count": null,
      "metadata": {
        "colab": {
          "base_uri": "https://localhost:8080/"
        },
        "id": "yucz-E1A_r2s",
        "outputId": "22f4f3f8-b458-4155-a00a-9fedc8449d83"
      },
      "outputs": [
        {
          "name": "stdout",
          "output_type": "stream",
          "text": [
            "24\n"
          ]
        }
      ],
      "source": [
        "missing_rows = df.Income.isna().sum()\n",
        "total_rows = df.shape[0]\n",
        "\n",
        "print(missing_rows)"
      ]
    },
    {
      "cell_type": "code",
      "execution_count": null,
      "metadata": {
        "colab": {
          "base_uri": "https://localhost:8080/",
          "height": 270
        },
        "id": "ML8DTgY__r2t",
        "outputId": "95f5ce1a-0258-47ec-fdbc-99815ae2c22b"
      },
      "outputs": [
        {
          "data": {
            "text/html": [
              "\n",
              "  <div id=\"df-3782a29b-e278-4cb6-8d73-c18f9839e324\">\n",
              "    <div class=\"colab-df-container\">\n",
              "      <div>\n",
              "<style scoped>\n",
              "    .dataframe tbody tr th:only-of-type {\n",
              "        vertical-align: middle;\n",
              "    }\n",
              "\n",
              "    .dataframe tbody tr th {\n",
              "        vertical-align: top;\n",
              "    }\n",
              "\n",
              "    .dataframe thead th {\n",
              "        text-align: right;\n",
              "    }\n",
              "</style>\n",
              "<table border=\"1\" class=\"dataframe\">\n",
              "  <thead>\n",
              "    <tr style=\"text-align: right;\">\n",
              "      <th></th>\n",
              "      <th>ID</th>\n",
              "      <th>Year_Birth</th>\n",
              "      <th>Education</th>\n",
              "      <th>Marital_Status</th>\n",
              "      <th>Income</th>\n",
              "      <th>Kidhome</th>\n",
              "      <th>Teenhome</th>\n",
              "      <th>Dt_Customer</th>\n",
              "      <th>Recency</th>\n",
              "      <th>MntWines</th>\n",
              "      <th>MntFruits</th>\n",
              "      <th>MntMeatProducts</th>\n",
              "      <th>MntFishProducts</th>\n",
              "      <th>MntSweetProducts</th>\n",
              "      <th>MntGoldProds</th>\n",
              "      <th>NumDealsPurchases</th>\n",
              "      <th>NumWebPurchases</th>\n",
              "      <th>NumCatalogPurchases</th>\n",
              "      <th>NumStorePurchases</th>\n",
              "      <th>NumWebVisitsMonth</th>\n",
              "      <th>AcceptedCmp3</th>\n",
              "      <th>AcceptedCmp4</th>\n",
              "      <th>AcceptedCmp5</th>\n",
              "      <th>AcceptedCmp1</th>\n",
              "      <th>AcceptedCmp2</th>\n",
              "      <th>Complain</th>\n",
              "      <th>Z_CostContact</th>\n",
              "      <th>Z_Revenue</th>\n",
              "      <th>Response</th>\n",
              "    </tr>\n",
              "  </thead>\n",
              "  <tbody>\n",
              "    <tr>\n",
              "      <th>10</th>\n",
              "      <td>1994</td>\n",
              "      <td>1983</td>\n",
              "      <td>Graduation</td>\n",
              "      <td>Married</td>\n",
              "      <td>NaN</td>\n",
              "      <td>1</td>\n",
              "      <td>0</td>\n",
              "      <td>15-11-2013</td>\n",
              "      <td>11</td>\n",
              "      <td>5</td>\n",
              "      <td>5</td>\n",
              "      <td>6</td>\n",
              "      <td>0</td>\n",
              "      <td>2</td>\n",
              "      <td>1</td>\n",
              "      <td>1</td>\n",
              "      <td>1</td>\n",
              "      <td>0</td>\n",
              "      <td>2</td>\n",
              "      <td>7</td>\n",
              "      <td>0</td>\n",
              "      <td>0</td>\n",
              "      <td>0</td>\n",
              "      <td>0</td>\n",
              "      <td>0</td>\n",
              "      <td>0</td>\n",
              "      <td>3</td>\n",
              "      <td>11</td>\n",
              "      <td>0</td>\n",
              "    </tr>\n",
              "    <tr>\n",
              "      <th>27</th>\n",
              "      <td>5255</td>\n",
              "      <td>1986</td>\n",
              "      <td>Graduation</td>\n",
              "      <td>Single</td>\n",
              "      <td>NaN</td>\n",
              "      <td>1</td>\n",
              "      <td>0</td>\n",
              "      <td>20-02-2013</td>\n",
              "      <td>19</td>\n",
              "      <td>5</td>\n",
              "      <td>1</td>\n",
              "      <td>3</td>\n",
              "      <td>3</td>\n",
              "      <td>263</td>\n",
              "      <td>362</td>\n",
              "      <td>0</td>\n",
              "      <td>27</td>\n",
              "      <td>0</td>\n",
              "      <td>0</td>\n",
              "      <td>1</td>\n",
              "      <td>0</td>\n",
              "      <td>0</td>\n",
              "      <td>0</td>\n",
              "      <td>0</td>\n",
              "      <td>0</td>\n",
              "      <td>0</td>\n",
              "      <td>3</td>\n",
              "      <td>11</td>\n",
              "      <td>0</td>\n",
              "    </tr>\n",
              "    <tr>\n",
              "      <th>43</th>\n",
              "      <td>7281</td>\n",
              "      <td>1959</td>\n",
              "      <td>PhD</td>\n",
              "      <td>Single</td>\n",
              "      <td>NaN</td>\n",
              "      <td>0</td>\n",
              "      <td>0</td>\n",
              "      <td>05-11-2013</td>\n",
              "      <td>80</td>\n",
              "      <td>81</td>\n",
              "      <td>11</td>\n",
              "      <td>50</td>\n",
              "      <td>3</td>\n",
              "      <td>2</td>\n",
              "      <td>39</td>\n",
              "      <td>1</td>\n",
              "      <td>1</td>\n",
              "      <td>3</td>\n",
              "      <td>4</td>\n",
              "      <td>2</td>\n",
              "      <td>0</td>\n",
              "      <td>0</td>\n",
              "      <td>0</td>\n",
              "      <td>0</td>\n",
              "      <td>0</td>\n",
              "      <td>0</td>\n",
              "      <td>3</td>\n",
              "      <td>11</td>\n",
              "      <td>0</td>\n",
              "    </tr>\n",
              "    <tr>\n",
              "      <th>48</th>\n",
              "      <td>7244</td>\n",
              "      <td>1951</td>\n",
              "      <td>Graduation</td>\n",
              "      <td>Single</td>\n",
              "      <td>NaN</td>\n",
              "      <td>2</td>\n",
              "      <td>1</td>\n",
              "      <td>01-01-2014</td>\n",
              "      <td>96</td>\n",
              "      <td>48</td>\n",
              "      <td>5</td>\n",
              "      <td>48</td>\n",
              "      <td>6</td>\n",
              "      <td>10</td>\n",
              "      <td>7</td>\n",
              "      <td>3</td>\n",
              "      <td>2</td>\n",
              "      <td>1</td>\n",
              "      <td>4</td>\n",
              "      <td>6</td>\n",
              "      <td>0</td>\n",
              "      <td>0</td>\n",
              "      <td>0</td>\n",
              "      <td>0</td>\n",
              "      <td>0</td>\n",
              "      <td>0</td>\n",
              "      <td>3</td>\n",
              "      <td>11</td>\n",
              "      <td>0</td>\n",
              "    </tr>\n",
              "    <tr>\n",
              "      <th>58</th>\n",
              "      <td>8557</td>\n",
              "      <td>1982</td>\n",
              "      <td>Graduation</td>\n",
              "      <td>Single</td>\n",
              "      <td>NaN</td>\n",
              "      <td>1</td>\n",
              "      <td>0</td>\n",
              "      <td>17-06-2013</td>\n",
              "      <td>57</td>\n",
              "      <td>11</td>\n",
              "      <td>3</td>\n",
              "      <td>22</td>\n",
              "      <td>2</td>\n",
              "      <td>2</td>\n",
              "      <td>6</td>\n",
              "      <td>2</td>\n",
              "      <td>2</td>\n",
              "      <td>0</td>\n",
              "      <td>3</td>\n",
              "      <td>6</td>\n",
              "      <td>0</td>\n",
              "      <td>0</td>\n",
              "      <td>0</td>\n",
              "      <td>0</td>\n",
              "      <td>0</td>\n",
              "      <td>0</td>\n",
              "      <td>3</td>\n",
              "      <td>11</td>\n",
              "      <td>0</td>\n",
              "    </tr>\n",
              "  </tbody>\n",
              "</table>\n",
              "</div>\n",
              "      <button class=\"colab-df-convert\" onclick=\"convertToInteractive('df-3782a29b-e278-4cb6-8d73-c18f9839e324')\"\n",
              "              title=\"Convert this dataframe to an interactive table.\"\n",
              "              style=\"display:none;\">\n",
              "        \n",
              "  <svg xmlns=\"http://www.w3.org/2000/svg\" height=\"24px\"viewBox=\"0 0 24 24\"\n",
              "       width=\"24px\">\n",
              "    <path d=\"M0 0h24v24H0V0z\" fill=\"none\"/>\n",
              "    <path d=\"M18.56 5.44l.94 2.06.94-2.06 2.06-.94-2.06-.94-.94-2.06-.94 2.06-2.06.94zm-11 1L8.5 8.5l.94-2.06 2.06-.94-2.06-.94L8.5 2.5l-.94 2.06-2.06.94zm10 10l.94 2.06.94-2.06 2.06-.94-2.06-.94-.94-2.06-.94 2.06-2.06.94z\"/><path d=\"M17.41 7.96l-1.37-1.37c-.4-.4-.92-.59-1.43-.59-.52 0-1.04.2-1.43.59L10.3 9.45l-7.72 7.72c-.78.78-.78 2.05 0 2.83L4 21.41c.39.39.9.59 1.41.59.51 0 1.02-.2 1.41-.59l7.78-7.78 2.81-2.81c.8-.78.8-2.07 0-2.86zM5.41 20L4 18.59l7.72-7.72 1.47 1.35L5.41 20z\"/>\n",
              "  </svg>\n",
              "      </button>\n",
              "      \n",
              "  <style>\n",
              "    .colab-df-container {\n",
              "      display:flex;\n",
              "      flex-wrap:wrap;\n",
              "      gap: 12px;\n",
              "    }\n",
              "\n",
              "    .colab-df-convert {\n",
              "      background-color: #E8F0FE;\n",
              "      border: none;\n",
              "      border-radius: 50%;\n",
              "      cursor: pointer;\n",
              "      display: none;\n",
              "      fill: #1967D2;\n",
              "      height: 32px;\n",
              "      padding: 0 0 0 0;\n",
              "      width: 32px;\n",
              "    }\n",
              "\n",
              "    .colab-df-convert:hover {\n",
              "      background-color: #E2EBFA;\n",
              "      box-shadow: 0px 1px 2px rgba(60, 64, 67, 0.3), 0px 1px 3px 1px rgba(60, 64, 67, 0.15);\n",
              "      fill: #174EA6;\n",
              "    }\n",
              "\n",
              "    [theme=dark] .colab-df-convert {\n",
              "      background-color: #3B4455;\n",
              "      fill: #D2E3FC;\n",
              "    }\n",
              "\n",
              "    [theme=dark] .colab-df-convert:hover {\n",
              "      background-color: #434B5C;\n",
              "      box-shadow: 0px 1px 3px 1px rgba(0, 0, 0, 0.15);\n",
              "      filter: drop-shadow(0px 1px 2px rgba(0, 0, 0, 0.3));\n",
              "      fill: #FFFFFF;\n",
              "    }\n",
              "  </style>\n",
              "\n",
              "      <script>\n",
              "        const buttonEl =\n",
              "          document.querySelector('#df-3782a29b-e278-4cb6-8d73-c18f9839e324 button.colab-df-convert');\n",
              "        buttonEl.style.display =\n",
              "          google.colab.kernel.accessAllowed ? 'block' : 'none';\n",
              "\n",
              "        async function convertToInteractive(key) {\n",
              "          const element = document.querySelector('#df-3782a29b-e278-4cb6-8d73-c18f9839e324');\n",
              "          const dataTable =\n",
              "            await google.colab.kernel.invokeFunction('convertToInteractive',\n",
              "                                                     [key], {});\n",
              "          if (!dataTable) return;\n",
              "\n",
              "          const docLinkHtml = 'Like what you see? Visit the ' +\n",
              "            '<a target=\"_blank\" href=https://colab.research.google.com/notebooks/data_table.ipynb>data table notebook</a>'\n",
              "            + ' to learn more about interactive tables.';\n",
              "          element.innerHTML = '';\n",
              "          dataTable['output_type'] = 'display_data';\n",
              "          await google.colab.output.renderOutput(dataTable, element);\n",
              "          const docLink = document.createElement('div');\n",
              "          docLink.innerHTML = docLinkHtml;\n",
              "          element.appendChild(docLink);\n",
              "        }\n",
              "      </script>\n",
              "    </div>\n",
              "  </div>\n",
              "  "
            ],
            "text/plain": [
              "      ID  Year_Birth   Education Marital_Status  Income  Kidhome  Teenhome  \\\n",
              "10  1994        1983  Graduation        Married     NaN        1         0   \n",
              "27  5255        1986  Graduation         Single     NaN        1         0   \n",
              "43  7281        1959         PhD         Single     NaN        0         0   \n",
              "48  7244        1951  Graduation         Single     NaN        2         1   \n",
              "58  8557        1982  Graduation         Single     NaN        1         0   \n",
              "\n",
              "   Dt_Customer  Recency  MntWines  MntFruits  MntMeatProducts  \\\n",
              "10  15-11-2013       11         5          5                6   \n",
              "27  20-02-2013       19         5          1                3   \n",
              "43  05-11-2013       80        81         11               50   \n",
              "48  01-01-2014       96        48          5               48   \n",
              "58  17-06-2013       57        11          3               22   \n",
              "\n",
              "    MntFishProducts  MntSweetProducts  MntGoldProds  NumDealsPurchases  \\\n",
              "10                0                 2             1                  1   \n",
              "27                3               263           362                  0   \n",
              "43                3                 2            39                  1   \n",
              "48                6                10             7                  3   \n",
              "58                2                 2             6                  2   \n",
              "\n",
              "    NumWebPurchases  NumCatalogPurchases  NumStorePurchases  \\\n",
              "10                1                    0                  2   \n",
              "27               27                    0                  0   \n",
              "43                1                    3                  4   \n",
              "48                2                    1                  4   \n",
              "58                2                    0                  3   \n",
              "\n",
              "    NumWebVisitsMonth  AcceptedCmp3  AcceptedCmp4  AcceptedCmp5  AcceptedCmp1  \\\n",
              "10                  7             0             0             0             0   \n",
              "27                  1             0             0             0             0   \n",
              "43                  2             0             0             0             0   \n",
              "48                  6             0             0             0             0   \n",
              "58                  6             0             0             0             0   \n",
              "\n",
              "    AcceptedCmp2  Complain  Z_CostContact  Z_Revenue  Response  \n",
              "10             0         0              3         11         0  \n",
              "27             0         0              3         11         0  \n",
              "43             0         0              3         11         0  \n",
              "48             0         0              3         11         0  \n",
              "58             0         0              3         11         0  "
            ]
          },
          "execution_count": 11,
          "metadata": {},
          "output_type": "execute_result"
        }
      ],
      "source": [
        "\n",
        "df[df.isna().any(axis=1)].head()"
      ]
    },
    {
      "cell_type": "code",
      "execution_count": null,
      "metadata": {
        "id": "eqM7BQ8U_r2t"
      },
      "outputs": [],
      "source": [
        "df.dropna(axis=0, inplace=True)"
      ]
    },
    {
      "cell_type": "code",
      "execution_count": null,
      "metadata": {
        "colab": {
          "base_uri": "https://localhost:8080/"
        },
        "id": "Ym20ecxPQ5YB",
        "outputId": "c3d5764e-af57-4798-dfed-fcedfdf903cd"
      },
      "outputs": [
        {
          "data": {
            "text/plain": [
              "ID                     0\n",
              "Year_Birth             0\n",
              "Education              0\n",
              "Marital_Status         0\n",
              "Income                 0\n",
              "Kidhome                0\n",
              "Teenhome               0\n",
              "Dt_Customer            0\n",
              "Recency                0\n",
              "MntWines               0\n",
              "MntFruits              0\n",
              "MntMeatProducts        0\n",
              "MntFishProducts        0\n",
              "MntSweetProducts       0\n",
              "MntGoldProds           0\n",
              "NumDealsPurchases      0\n",
              "NumWebPurchases        0\n",
              "NumCatalogPurchases    0\n",
              "NumStorePurchases      0\n",
              "NumWebVisitsMonth      0\n",
              "AcceptedCmp3           0\n",
              "AcceptedCmp4           0\n",
              "AcceptedCmp5           0\n",
              "AcceptedCmp1           0\n",
              "AcceptedCmp2           0\n",
              "Complain               0\n",
              "Z_CostContact          0\n",
              "Z_Revenue              0\n",
              "Response               0\n",
              "dtype: int64"
            ]
          },
          "execution_count": 13,
          "metadata": {},
          "output_type": "execute_result"
        }
      ],
      "source": [
        "df.isna().sum()"
      ]
    },
    {
      "cell_type": "markdown",
      "metadata": {
        "id": "yiTSvP8o_r2x"
      },
      "source": [
        "## Duplicates\n",
        "Check Duplicate"
      ]
    },
    {
      "cell_type": "code",
      "execution_count": null,
      "metadata": {
        "colab": {
          "base_uri": "https://localhost:8080/"
        },
        "id": "vmLX1waw_r2y",
        "outputId": "529d6ba7-569d-4e51-e08c-9ea2664dc1ae"
      },
      "outputs": [
        {
          "data": {
            "text/plain": [
              "(2216, 29)"
            ]
          },
          "execution_count": 14,
          "metadata": {},
          "output_type": "execute_result"
        }
      ],
      "source": [
        "df.shape"
      ]
    },
    {
      "cell_type": "code",
      "execution_count": null,
      "metadata": {
        "colab": {
          "base_uri": "https://localhost:8080/"
        },
        "id": "Jrkw5p4f_r2y",
        "outputId": "9ea10c79-713f-4dd4-b25c-51900bc9a220"
      },
      "outputs": [
        {
          "name": "stdout",
          "output_type": "stream",
          "text": [
            "There are 182 duplicates in the dataset.\n"
          ]
        }
      ],
      "source": [
        "# Get all the columns *except* ID\n",
        "remove_id = df.drop('ID', axis=1).columns\n",
        "\n",
        "# Check for duplicates\n",
        "n_duplicates = df.duplicated(subset=remove_id).sum()\n",
        "print(f'There are {n_duplicates} duplicates in the dataset.')"
      ]
    },
    {
      "cell_type": "code",
      "execution_count": null,
      "metadata": {
        "id": "iPtSIERw_r2y"
      },
      "outputs": [],
      "source": [
        "# Remove the duplicates\n",
        "df.drop_duplicates(subset=remove_id, inplace=True)"
      ]
    },
    {
      "cell_type": "code",
      "execution_count": null,
      "metadata": {
        "colab": {
          "base_uri": "https://localhost:8080/"
        },
        "id": "fQiOgbWqRi7W",
        "outputId": "832a1cb0-3be5-46f5-bbe5-d7244434606f"
      },
      "outputs": [
        {
          "data": {
            "text/plain": [
              "(2034, 29)"
            ]
          },
          "execution_count": 17,
          "metadata": {},
          "output_type": "execute_result"
        }
      ],
      "source": [
        "df.shape"
      ]
    },
    {
      "cell_type": "code",
      "execution_count": null,
      "metadata": {
        "colab": {
          "base_uri": "https://localhost:8080/"
        },
        "id": "Ekg-j8I8R9op",
        "outputId": "72e744ee-98ae-4387-bb95-e79a71b0f121"
      },
      "outputs": [
        {
          "data": {
            "text/plain": [
              "False"
            ]
          },
          "execution_count": 18,
          "metadata": {},
          "output_type": "execute_result"
        }
      ],
      "source": [
        "df.duplicated().any()"
      ]
    },
    {
      "cell_type": "markdown",
      "metadata": {
        "id": "ztUJKj2M_r2t"
      },
      "source": [
        "## Rename Columns\n"
      ]
    },
    {
      "cell_type": "code",
      "execution_count": null,
      "metadata": {
        "colab": {
          "base_uri": "https://localhost:8080/"
        },
        "id": "hmmgw_grReeU",
        "outputId": "044c87fa-c890-4e17-e41e-2ced59bc1cc6"
      },
      "outputs": [
        {
          "name": "stdout",
          "output_type": "stream",
          "text": [
            "<class 'pandas.core.frame.DataFrame'>\n",
            "Int64Index: 2034 entries, 0 to 2239\n",
            "Data columns (total 29 columns):\n",
            " #   Column               Non-Null Count  Dtype  \n",
            "---  ------               --------------  -----  \n",
            " 0   ID                   2034 non-null   int64  \n",
            " 1   Year_Birth           2034 non-null   int64  \n",
            " 2   Education            2034 non-null   object \n",
            " 3   Marital_Status       2034 non-null   object \n",
            " 4   Income               2034 non-null   float64\n",
            " 5   Kidhome              2034 non-null   int64  \n",
            " 6   Teenhome             2034 non-null   int64  \n",
            " 7   Dt_Customer          2034 non-null   object \n",
            " 8   Recency              2034 non-null   int64  \n",
            " 9   MntWines             2034 non-null   int64  \n",
            " 10  MntFruits            2034 non-null   int64  \n",
            " 11  MntMeatProducts      2034 non-null   int64  \n",
            " 12  MntFishProducts      2034 non-null   int64  \n",
            " 13  MntSweetProducts     2034 non-null   int64  \n",
            " 14  MntGoldProds         2034 non-null   int64  \n",
            " 15  NumDealsPurchases    2034 non-null   int64  \n",
            " 16  NumWebPurchases      2034 non-null   int64  \n",
            " 17  NumCatalogPurchases  2034 non-null   int64  \n",
            " 18  NumStorePurchases    2034 non-null   int64  \n",
            " 19  NumWebVisitsMonth    2034 non-null   int64  \n",
            " 20  AcceptedCmp3         2034 non-null   int64  \n",
            " 21  AcceptedCmp4         2034 non-null   int64  \n",
            " 22  AcceptedCmp5         2034 non-null   int64  \n",
            " 23  AcceptedCmp1         2034 non-null   int64  \n",
            " 24  AcceptedCmp2         2034 non-null   int64  \n",
            " 25  Complain             2034 non-null   int64  \n",
            " 26  Z_CostContact        2034 non-null   int64  \n",
            " 27  Z_Revenue            2034 non-null   int64  \n",
            " 28  Response             2034 non-null   int64  \n",
            "dtypes: float64(1), int64(25), object(3)\n",
            "memory usage: 476.7+ KB\n"
          ]
        }
      ],
      "source": [
        "df.info()"
      ]
    },
    {
      "cell_type": "code",
      "execution_count": null,
      "metadata": {
        "id": "wMRn2FKd_r2t"
      },
      "outputs": [],
      "source": [
        "df = df.rename(columns={\n",
        "    'MntWines'           :'Wines',\n",
        "    'MntFruits'          :'Fruits',\n",
        "    'MntMeatProducts'    :'Meat',\n",
        "    'MntFishProducts'    :'Fish',\n",
        "    'MntSweetProducts'   :'Sweets',\n",
        "    'MntGoldProds'       :'Gold',\n",
        "    'NumDealsPurchases'  :'Dealsp',\n",
        "    'NumWebPurchases'    :'Webp',\n",
        "    'NumStorePurchases'  :'Storep',\n",
        "    'NumWebVisitsMonth'  :'WebVisit',\n",
        "    'NumCatalogPurchases':'Catalogp',\n",
        "    'Marital_Status'     :'Mariage'\n",
        "})"
      ]
    },
    {
      "cell_type": "markdown",
      "metadata": {
        "id": "tajhbwrw_r2w"
      },
      "source": [
        "## Remove Columns\n"
      ]
    },
    {
      "cell_type": "code",
      "execution_count": null,
      "metadata": {
        "id": "8snkOIIQ_r2x"
      },
      "outputs": [],
      "source": [
        "df.drop(['Z_CostContact', 'Z_Revenue'], axis=1, inplace=True)"
      ]
    },
    {
      "cell_type": "code",
      "execution_count": null,
      "metadata": {
        "colab": {
          "base_uri": "https://localhost:8080/"
        },
        "id": "vpOSQVAg_r2x",
        "outputId": "f305a3a5-e6fa-47fd-8e09-55fff7925766"
      },
      "outputs": [
        {
          "data": {
            "text/plain": [
              "(2034, 27)"
            ]
          },
          "execution_count": 22,
          "metadata": {},
          "output_type": "execute_result"
        }
      ],
      "source": [
        "df.shape"
      ]
    },
    {
      "cell_type": "code",
      "execution_count": null,
      "metadata": {
        "colab": {
          "base_uri": "https://localhost:8080/"
        },
        "id": "a-5-grQsTx0K",
        "outputId": "ef0a376a-0b60-445b-ab73-88395bcb1a9e"
      },
      "outputs": [
        {
          "name": "stdout",
          "output_type": "stream",
          "text": [
            "<class 'pandas.core.frame.DataFrame'>\n",
            "Int64Index: 2034 entries, 0 to 2239\n",
            "Data columns (total 27 columns):\n",
            " #   Column        Non-Null Count  Dtype  \n",
            "---  ------        --------------  -----  \n",
            " 0   ID            2034 non-null   int64  \n",
            " 1   Year_Birth    2034 non-null   int64  \n",
            " 2   Education     2034 non-null   object \n",
            " 3   Mariage       2034 non-null   object \n",
            " 4   Income        2034 non-null   float64\n",
            " 5   Kidhome       2034 non-null   int64  \n",
            " 6   Teenhome      2034 non-null   int64  \n",
            " 7   Dt_Customer   2034 non-null   object \n",
            " 8   Recency       2034 non-null   int64  \n",
            " 9   Wines         2034 non-null   int64  \n",
            " 10  Fruits        2034 non-null   int64  \n",
            " 11  Meat          2034 non-null   int64  \n",
            " 12  Fish          2034 non-null   int64  \n",
            " 13  Sweets        2034 non-null   int64  \n",
            " 14  Gold          2034 non-null   int64  \n",
            " 15  Dealsp        2034 non-null   int64  \n",
            " 16  Webp          2034 non-null   int64  \n",
            " 17  Catalogp      2034 non-null   int64  \n",
            " 18  Storep        2034 non-null   int64  \n",
            " 19  WebVisit      2034 non-null   int64  \n",
            " 20  AcceptedCmp3  2034 non-null   int64  \n",
            " 21  AcceptedCmp4  2034 non-null   int64  \n",
            " 22  AcceptedCmp5  2034 non-null   int64  \n",
            " 23  AcceptedCmp1  2034 non-null   int64  \n",
            " 24  AcceptedCmp2  2034 non-null   int64  \n",
            " 25  Complain      2034 non-null   int64  \n",
            " 26  Response      2034 non-null   int64  \n",
            "dtypes: float64(1), int64(23), object(3)\n",
            "memory usage: 444.9+ KB\n"
          ]
        }
      ],
      "source": [
        "df.info()"
      ]
    },
    {
      "cell_type": "markdown",
      "metadata": {
        "id": "vnH8rr5d_r2t"
      },
      "source": [
        "# Anlysis, Create New Column"
      ]
    },
    {
      "cell_type": "markdown",
      "metadata": {
        "id": "TxQkH7unWa9j"
      },
      "source": [
        "## year_birth"
      ]
    },
    {
      "cell_type": "code",
      "execution_count": null,
      "metadata": {
        "colab": {
          "base_uri": "https://localhost:8080/"
        },
        "id": "Xki6EUwbWmOP",
        "outputId": "4620cf22-2e60-45db-b6fe-afc14af2ec31"
      },
      "outputs": [
        {
          "name": "stdout",
          "output_type": "stream",
          "text": [
            "Unique categories present in the Year_Birth: 1976    81\n",
            "1971    78\n",
            "1975    77\n",
            "1972    72\n",
            "1970    71\n",
            "1978    70\n",
            "1973    66\n",
            "1965    66\n",
            "1969    64\n",
            "1974    63\n",
            "1956    52\n",
            "1977    51\n",
            "1958    50\n",
            "1952    49\n",
            "1968    47\n",
            "1979    47\n",
            "1959    46\n",
            "1960    45\n",
            "1966    44\n",
            "1954    44\n",
            "1955    43\n",
            "1967    41\n",
            "1962    40\n",
            "1957    39\n",
            "1963    39\n",
            "1951    39\n",
            "1980    39\n",
            "1982    38\n",
            "1986    38\n",
            "1984    38\n",
            "1964    37\n",
            "1981    37\n",
            "1983    35\n",
            "1953    33\n",
            "1961    32\n",
            "1985    29\n",
            "1949    28\n",
            "1950    26\n",
            "1987    26\n",
            "1988    25\n",
            "1989    24\n",
            "1948    19\n",
            "1990    16\n",
            "1947    15\n",
            "1991    14\n",
            "1992    12\n",
            "1946    11\n",
            "1945     8\n",
            "1944     7\n",
            "1943     5\n",
            "1995     4\n",
            "1993     4\n",
            "1994     3\n",
            "1996     2\n",
            "1899     1\n",
            "1941     1\n",
            "1893     1\n",
            "1900     1\n",
            "1940     1\n",
            "Name: Year_Birth, dtype: int64\n"
          ]
        }
      ],
      "source": [
        "print(\"Unique categories present in the Year_Birth:\",df[\"Year_Birth\"].value_counts())"
      ]
    },
    {
      "cell_type": "markdown",
      "metadata": {
        "id": "Ul8rifjd_r2v"
      },
      "source": [
        "## Marital Status\n"
      ]
    },
    {
      "cell_type": "code",
      "execution_count": null,
      "metadata": {
        "colab": {
          "base_uri": "https://localhost:8080/"
        },
        "id": "qD3XAKI9VCcB",
        "outputId": "9457592a-7bc7-4f5f-f670-722d0fd724e1"
      },
      "outputs": [
        {
          "data": {
            "text/plain": [
              "array(['Single', 'Together', 'Married', 'Divorced', 'Widow', 'Alone',\n",
              "       'Absurd', 'YOLO'], dtype=object)"
            ]
          },
          "execution_count": 25,
          "metadata": {},
          "output_type": "execute_result"
        }
      ],
      "source": [
        "df['Mariage'].unique()"
      ]
    },
    {
      "cell_type": "code",
      "execution_count": null,
      "metadata": {
        "colab": {
          "base_uri": "https://localhost:8080/"
        },
        "id": "MrT7-HtW_r2v",
        "outputId": "4e031e3e-7a73-4cc9-ea88-d9ba0399a43d"
      },
      "outputs": [
        {
          "data": {
            "text/plain": [
              "Married     788\n",
              "Together    514\n",
              "Single      439\n",
              "Divorced    216\n",
              "Widow        70\n",
              "Alone         3\n",
              "Absurd        2\n",
              "YOLO          2\n",
              "Name: Mariage, dtype: int64"
            ]
          },
          "execution_count": 26,
          "metadata": {},
          "output_type": "execute_result"
        }
      ],
      "source": [
        "df.Mariage.value_counts()"
      ]
    },
    {
      "cell_type": "code",
      "execution_count": null,
      "metadata": {
        "id": "TRVrvrnO_r2v"
      },
      "outputs": [],
      "source": [
        "df = df[(df.Mariage != 'YOLO') & (df.Mariage != 'Absurd')]"
      ]
    },
    {
      "cell_type": "code",
      "execution_count": null,
      "metadata": {
        "id": "GXj_98Mp_r2v"
      },
      "outputs": [],
      "source": [
        "df['Mariage'] = df['Mariage'].replace(['Married', 'Together'],'Relationship')\n",
        "df['Mariage'] = df['Mariage'].replace(['Divorced', 'Widow', 'Alone'],'Single')"
      ]
    },
    {
      "cell_type": "code",
      "execution_count": null,
      "metadata": {
        "colab": {
          "base_uri": "https://localhost:8080/",
          "height": 492
        },
        "id": "4Iq4vAURVWvO",
        "outputId": "635c93e1-2379-4e24-e526-77a8f8781d5b"
      },
      "outputs": [
        {
          "name": "stdout",
          "output_type": "stream",
          "text": [
            "Unique categories present in the Mariage: Relationship    1302\n",
            "Single           728\n",
            "Name: Mariage, dtype: int64\n",
            "\n",
            "\n"
          ]
        },
        {
          "data": {
            "text/plain": [
              "<Figure size 576x576 with 0 Axes>"
            ]
          },
          "execution_count": 29,
          "metadata": {},
          "output_type": "execute_result"
        },
        {
          "data": {
            "image/png": "[encoded data removed]",
            "text/plain": [
              "<Figure size 432x288 with 1 Axes>"
            ]
          },
          "metadata": {
            "needs_background": "light"
          },
          "output_type": "display_data"
        },
        {
          "data": {
            "text/plain": [
              "<Figure size 576x576 with 0 Axes>"
            ]
          },
          "metadata": {},
          "output_type": "display_data"
        }
      ],
      "source": [
        "print(\"Unique categories present in the Mariage:\",df['Mariage'].value_counts())\n",
        "print(\"\\n\")\n",
        "\n",
        "df['Mariage'].value_counts().plot(kind='bar',color = 'orange',edgecolor = \"black\",linewidth = 3)\n",
        "plt.title(\"Frequency Of Each Category in the Mariage Variable \\n\",fontsize=24)\n",
        "plt.figure(figsize=(8,8))"
      ]
    },
    {
      "cell_type": "markdown",
      "metadata": {
        "id": "prYZyrrv_r2v"
      },
      "source": [
        "## Education"
      ]
    },
    {
      "cell_type": "code",
      "execution_count": null,
      "metadata": {
        "colab": {
          "base_uri": "https://localhost:8080/"
        },
        "id": "jo3mY82FVpuB",
        "outputId": "225bb1e4-b339-41da-cdcb-7b20d1e83694"
      },
      "outputs": [
        {
          "data": {
            "text/plain": [
              "array(['Graduation', 'PhD', 'Master', 'Basic', '2n Cycle'], dtype=object)"
            ]
          },
          "execution_count": 30,
          "metadata": {},
          "output_type": "execute_result"
        }
      ],
      "source": [
        "df['Education'].unique()"
      ]
    },
    {
      "cell_type": "code",
      "execution_count": null,
      "metadata": {
        "colab": {
          "base_uri": "https://localhost:8080/"
        },
        "id": "dDh2QCYH_r2w",
        "outputId": "c95010b1-d63c-45a2-a0a3-415b03de142f"
      },
      "outputs": [
        {
          "data": {
            "text/plain": [
              "Graduation    1018\n",
              "PhD            443\n",
              "Master         335\n",
              "2n Cycle       185\n",
              "Basic           49\n",
              "Name: Education, dtype: int64"
            ]
          },
          "execution_count": 31,
          "metadata": {},
          "output_type": "execute_result"
        }
      ],
      "source": [
        "df.Education.value_counts()"
      ]
    },
    {
      "cell_type": "code",
      "execution_count": null,
      "metadata": {
        "id": "cNev2PSoKPLs"
      },
      "outputs": [],
      "source": [
        "df['Education'] = df['Education'].replace(['PhD','2n Cycle','Graduation', 'Master'],'Post Graduate')  \n",
        "df['Education'] = df['Education'].replace(['Basic'], 'Under Graduate')"
      ]
    },
    {
      "cell_type": "code",
      "execution_count": null,
      "metadata": {
        "colab": {
          "base_uri": "https://localhost:8080/",
          "height": 511
        },
        "id": "AJyWMfblVs8G",
        "outputId": "867d4915-688a-4a6d-90ac-37a2688bfc55"
      },
      "outputs": [
        {
          "name": "stdout",
          "output_type": "stream",
          "text": [
            "Unique categories present in the Education: Post Graduate     1981\n",
            "Under Graduate      49\n",
            "Name: Education, dtype: int64\n",
            "\n",
            "\n"
          ]
        },
        {
          "data": {
            "text/plain": [
              "<Figure size 576x576 with 0 Axes>"
            ]
          },
          "execution_count": 33,
          "metadata": {},
          "output_type": "execute_result"
        },
        {
          "data": {
            "image/png": "[encoded data removed]",
            "text/plain": [
              "<Figure size 432x288 with 1 Axes>"
            ]
          },
          "metadata": {
            "needs_background": "light"
          },
          "output_type": "display_data"
        },
        {
          "data": {
            "text/plain": [
              "<Figure size 576x576 with 0 Axes>"
            ]
          },
          "metadata": {},
          "output_type": "display_data"
        }
      ],
      "source": [
        "print(\"Unique categories present in the Education:\",df[\"Education\"].value_counts())\n",
        "print('\\n')\n",
        "\n",
        "df['Education'].value_counts().plot(kind='bar',color = 'orange',edgecolor = \"black\",linewidth = 3)\n",
        "plt.title(\"Frequency Of Each Category in the Education Variable \\n\",fontsize=24)\n",
        "plt.figure(figsize=(8,8))"
      ]
    },
    {
      "cell_type": "markdown",
      "metadata": {
        "id": "JZf5aSr7_r2w"
      },
      "source": [
        "## Children"
      ]
    },
    {
      "cell_type": "code",
      "execution_count": null,
      "metadata": {
        "colab": {
          "base_uri": "https://localhost:8080/"
        },
        "id": "oE_1zMCiLLzZ",
        "outputId": "18064d50-03cb-4d4a-dd55-01f30f3ff8a2"
      },
      "outputs": [
        {
          "data": {
            "text/plain": [
              "array([0, 1, 2])"
            ]
          },
          "execution_count": 34,
          "metadata": {},
          "output_type": "execute_result"
        }
      ],
      "source": [
        "df['Kidhome'].unique()"
      ]
    },
    {
      "cell_type": "code",
      "execution_count": null,
      "metadata": {
        "colab": {
          "base_uri": "https://localhost:8080/"
        },
        "id": "tNDRn_hmLN-J",
        "outputId": "25074ec0-957c-495f-9bbd-55510bfcd52f"
      },
      "outputs": [
        {
          "data": {
            "text/plain": [
              "array([0, 1, 2])"
            ]
          },
          "execution_count": 35,
          "metadata": {},
          "output_type": "execute_result"
        }
      ],
      "source": [
        "df['Teenhome'].unique()"
      ]
    },
    {
      "cell_type": "code",
      "execution_count": null,
      "metadata": {
        "id": "EvNB6NlILPqX"
      },
      "outputs": [],
      "source": [
        "df['Children'] = df['Kidhome'] + df['Teenhome']"
      ]
    },
    {
      "cell_type": "code",
      "execution_count": null,
      "metadata": {
        "colab": {
          "base_uri": "https://localhost:8080/",
          "height": 471
        },
        "id": "Qyjrr0-VV5dY",
        "outputId": "f11454f7-b40e-4af1-9e25-4fd91a53a8e3"
      },
      "outputs": [
        {
          "name": "stdout",
          "output_type": "stream",
          "text": [
            "Unique categories present in the Children: 1    1032\n",
            "0     570\n",
            "2     383\n",
            "3      45\n",
            "Name: Children, dtype: int64\n",
            "\n",
            "\n"
          ]
        },
        {
          "data": {
            "text/plain": [
              "<Figure size 576x576 with 0 Axes>"
            ]
          },
          "execution_count": 37,
          "metadata": {},
          "output_type": "execute_result"
        },
        {
          "data": {
            "image/png": "[encoded data removed]",
            "text/plain": [
              "<Figure size 432x288 with 1 Axes>"
            ]
          },
          "metadata": {
            "needs_background": "light"
          },
          "output_type": "display_data"
        },
        {
          "data": {
            "text/plain": [
              "<Figure size 576x576 with 0 Axes>"
            ]
          },
          "metadata": {},
          "output_type": "display_data"
        }
      ],
      "source": [
        "print(\"Unique categories present in the Children:\",df['Children'].value_counts())\n",
        "print(\"\\n\")\n",
        "\n",
        "df['Children'].value_counts().plot(kind='bar',color = 'orange',edgecolor = \"black\",linewidth = 3)\n",
        "plt.title(\"Frequency Of Each Category in the Kids Variable \\n\",fontsize=24)\n",
        "plt.figure(figsize=(8,8))"
      ]
    },
    {
      "cell_type": "markdown",
      "metadata": {
        "id": "7Ss2Xh_g_r2x"
      },
      "source": [
        "## Income"
      ]
    },
    {
      "cell_type": "code",
      "execution_count": null,
      "metadata": {
        "colab": {
          "base_uri": "https://localhost:8080/"
        },
        "id": "OC0E_I5eWCdr",
        "outputId": "8dc0b610-7744-49e9-b6e8-0c615da69f20"
      },
      "outputs": [
        {
          "data": {
            "text/plain": [
              "666666.0"
            ]
          },
          "execution_count": 38,
          "metadata": {},
          "output_type": "execute_result"
        }
      ],
      "source": [
        "df['Income'].max()"
      ]
    },
    {
      "cell_type": "code",
      "execution_count": null,
      "metadata": {
        "colab": {
          "base_uri": "https://localhost:8080/"
        },
        "id": "ycPfNnMfWEVd",
        "outputId": "057fe8e9-cc31-4a3e-fd56-d7e55709bd25"
      },
      "outputs": [
        {
          "data": {
            "text/plain": [
              "1730.0"
            ]
          },
          "execution_count": 39,
          "metadata": {},
          "output_type": "execute_result"
        }
      ],
      "source": [
        "df['Income'].min()"
      ]
    },
    {
      "cell_type": "code",
      "execution_count": null,
      "metadata": {
        "colab": {
          "base_uri": "https://localhost:8080/"
        },
        "id": "5pr8iVGbWGc1",
        "outputId": "4609bad9-ec3d-46a5-8d9e-e6e5fe03bfa1"
      },
      "outputs": [
        {
          "data": {
            "text/plain": [
              "52341.9472906404"
            ]
          },
          "execution_count": 40,
          "metadata": {},
          "output_type": "execute_result"
        }
      ],
      "source": [
        "df['Income'].mean()"
      ]
    },
    {
      "cell_type": "code",
      "execution_count": null,
      "metadata": {
        "colab": {
          "base_uri": "https://localhost:8080/",
          "height": 279
        },
        "id": "KPReU0R__r2x",
        "outputId": "6310ef63-538e-4377-8fe4-948189e1c4af"
      },
      "outputs": [
        {
          "data": {
            "image/png": "[encoded data removed]",
            "text/plain": [
              "<Figure size 432x288 with 1 Axes>"
            ]
          },
          "metadata": {
            "needs_background": "light"
          },
          "output_type": "display_data"
        }
      ],
      "source": [
        "# Box plot of Income to spot any outliers\n",
        "sns.boxplot(x=\"Income\", data=df)\n",
        "plt.show()"
      ]
    },
    {
      "cell_type": "code",
      "execution_count": null,
      "metadata": {
        "id": "heZH1ROf_r2x"
      },
      "outputs": [],
      "source": [
        "df['Income'] = df.Income.astype(int)  # Convert to integer datatype"
      ]
    },
    {
      "cell_type": "code",
      "execution_count": null,
      "metadata": {
        "id": "tu-TUDF_HlCT"
      },
      "outputs": [],
      "source": [
        "q1 = df['Income'].quantile(.25)\n",
        "q3 = df['Income'].quantile(.75)\n",
        "iqr = q3-q1\n",
        "\n",
        "df['Income'] = df['Income'].mask(((df['Income'] > (q3+(1.5*iqr)))), (q3+(1.5*iqr)))"
      ]
    },
    {
      "cell_type": "code",
      "execution_count": null,
      "metadata": {
        "colab": {
          "base_uri": "https://localhost:8080/",
          "height": 279
        },
        "id": "axf1GGi2H3AP",
        "outputId": "90c52aaa-b77b-4f10-ccb9-b81f9fb97355"
      },
      "outputs": [
        {
          "data": {
            "image/png": "[encoded data removed]",
            "text/plain": [
              "<Figure size 432x288 with 1 Axes>"
            ]
          },
          "metadata": {
            "needs_background": "light"
          },
          "output_type": "display_data"
        }
      ],
      "source": [
        "sns.boxplot(x=\"Income\", data=df)\n",
        "plt.show()"
      ]
    },
    {
      "cell_type": "markdown",
      "metadata": {
        "id": "pCfQahUMXCHR"
      },
      "source": [
        "## MntWines,MntMeatProducts,MntFishProducts,MntSweetProducts,MntGoldProds"
      ]
    },
    {
      "cell_type": "code",
      "execution_count": null,
      "metadata": {
        "colab": {
          "base_uri": "https://localhost:8080/"
        },
        "id": "RM8jkGQSZbYm",
        "outputId": "97eb639b-2381-46a0-8bbb-b4c765ca73f6"
      },
      "outputs": [
        {
          "name": "stdout",
          "output_type": "stream",
          "text": [
            "<class 'pandas.core.frame.DataFrame'>\n",
            "Int64Index: 2030 entries, 0 to 2239\n",
            "Data columns (total 28 columns):\n",
            " #   Column        Non-Null Count  Dtype  \n",
            "---  ------        --------------  -----  \n",
            " 0   ID            2030 non-null   int64  \n",
            " 1   Year_Birth    2030 non-null   int64  \n",
            " 2   Education     2030 non-null   object \n",
            " 3   Mariage       2030 non-null   object \n",
            " 4   Income        2030 non-null   float64\n",
            " 5   Kidhome       2030 non-null   int64  \n",
            " 6   Teenhome      2030 non-null   int64  \n",
            " 7   Dt_Customer   2030 non-null   object \n",
            " 8   Recency       2030 non-null   int64  \n",
            " 9   Wines         2030 non-null   int64  \n",
            " 10  Fruits        2030 non-null   int64  \n",
            " 11  Meat          2030 non-null   int64  \n",
            " 12  Fish          2030 non-null   int64  \n",
            " 13  Sweets        2030 non-null   int64  \n",
            " 14  Gold          2030 non-null   int64  \n",
            " 15  Dealsp        2030 non-null   int64  \n",
            " 16  Webp          2030 non-null   int64  \n",
            " 17  Catalogp      2030 non-null   int64  \n",
            " 18  Storep        2030 non-null   int64  \n",
            " 19  WebVisit      2030 non-null   int64  \n",
            " 20  AcceptedCmp3  2030 non-null   int64  \n",
            " 21  AcceptedCmp4  2030 non-null   int64  \n",
            " 22  AcceptedCmp5  2030 non-null   int64  \n",
            " 23  AcceptedCmp1  2030 non-null   int64  \n",
            " 24  AcceptedCmp2  2030 non-null   int64  \n",
            " 25  Complain      2030 non-null   int64  \n",
            " 26  Response      2030 non-null   int64  \n",
            " 27  Children      2030 non-null   int64  \n",
            "dtypes: float64(1), int64(24), object(3)\n",
            "memory usage: 459.9+ KB\n"
          ]
        }
      ],
      "source": [
        "df.info()"
      ]
    },
    {
      "cell_type": "code",
      "execution_count": null,
      "metadata": {
        "colab": {
          "base_uri": "https://localhost:8080/"
        },
        "id": "cZY0cIlQZ_xw",
        "outputId": "4d0f854c-7a62-4642-abab-ef5f8994ccfc"
      },
      "outputs": [
        {
          "data": {
            "text/plain": [
              "0    1617\n",
              "1      27\n",
              "2     776\n",
              "3      53\n",
              "4     422\n",
              "5     716\n",
              "6     590\n",
              "7     169\n",
              "8      46\n",
              "9      49\n",
              "Name: Expenses, dtype: int64"
            ]
          },
          "execution_count": 46,
          "metadata": {},
          "output_type": "execute_result"
        }
      ],
      "source": [
        "df['Expenses'] = df['Wines'] + df['Fruits'] + df['Meat'] + df['Fish'] + df['Sweets'] + df['Gold']\n",
        "df['Expenses'].head(10)"
      ]
    },
    {
      "cell_type": "code",
      "execution_count": null,
      "metadata": {
        "colab": {
          "base_uri": "https://localhost:8080/"
        },
        "id": "Lo7ZVG0QaKAr",
        "outputId": "93cfc318-a7ef-40b2-e49a-516103bfd2a3"
      },
      "outputs": [
        {
          "data": {
            "text/plain": [
              "5"
            ]
          },
          "execution_count": 47,
          "metadata": {},
          "output_type": "execute_result"
        }
      ],
      "source": [
        "#Minimum Expenses\n",
        "df['Expenses'].min()"
      ]
    },
    {
      "cell_type": "code",
      "execution_count": null,
      "metadata": {
        "colab": {
          "base_uri": "https://localhost:8080/"
        },
        "id": "3SLjW2HhaMoK",
        "outputId": "1f051b3c-9a06-4e06-9cb4-9d9a8975adc4"
      },
      "outputs": [
        {
          "data": {
            "text/plain": [
              "2525"
            ]
          },
          "execution_count": 48,
          "metadata": {},
          "output_type": "execute_result"
        }
      ],
      "source": [
        "#Maximum Expenses\n",
        "df['Expenses'].max()"
      ]
    },
    {
      "cell_type": "code",
      "execution_count": null,
      "metadata": {
        "colab": {
          "base_uri": "https://localhost:8080/"
        },
        "id": "vI5jVO4naNqi",
        "outputId": "a1a890d4-33a7-4aec-ad44-8fbc110f2e4f"
      },
      "outputs": [
        {
          "data": {
            "text/plain": [
              "607.2418719211822"
            ]
          },
          "execution_count": 49,
          "metadata": {},
          "output_type": "execute_result"
        }
      ],
      "source": [
        "#Average Expenses\n",
        "df['Expenses'].mean()"
      ]
    },
    {
      "cell_type": "code",
      "execution_count": null,
      "metadata": {
        "colab": {
          "base_uri": "https://localhost:8080/",
          "height": 963
        },
        "id": "W3SGvXzUaOtm",
        "outputId": "4d1625c8-919b-4375-ef3d-7e7873dbfdc9"
      },
      "outputs": [
        {
          "data": {
            "image/png": "[encoded data removed]",
            "text/plain": [
              "<Figure size 576x576 with 1 Axes>"
            ]
          },
          "metadata": {
            "needs_background": "light"
          },
          "output_type": "display_data"
        },
        {
          "data": {
            "image/png": "[encoded data removed]",
            "text/plain": [
              "<Figure size 576x576 with 1 Axes>"
            ]
          },
          "metadata": {
            "needs_background": "light"
          },
          "output_type": "display_data"
        }
      ],
      "source": [
        "plt.figure(figsize=(8,8))\n",
        "sns.distplot(df[\"Expenses\"],color = 'orange')\n",
        "plt.show()\n",
        "df[\"Expenses\"].plot.box(figsize=(8,8),color='orange')\n",
        "plt.show()"
      ]
    },
    {
      "cell_type": "code",
      "execution_count": null,
      "metadata": {
        "colab": {
          "base_uri": "https://localhost:8080/",
          "height": 279
        },
        "id": "YHJv0DIyaS-I",
        "outputId": "52da60bb-e815-43b8-c836-51d6833c201e"
      },
      "outputs": [
        {
          "data": {
            "image/png": "[encoded data removed]",
            "text/plain": [
              "<Figure size 432x288 with 1 Axes>"
            ]
          },
          "metadata": {
            "needs_background": "light"
          },
          "output_type": "display_data"
        }
      ],
      "source": [
        "sns.boxplot(x=\"Expenses\", data=df)\n",
        "plt.show()"
      ]
    },
    {
      "cell_type": "code",
      "execution_count": null,
      "metadata": {
        "id": "djCnwsbOa3Yp"
      },
      "outputs": [],
      "source": [
        "q1 = df['Expenses'].quantile(.25)\n",
        "q3 = df['Expenses'].quantile(.75)\n",
        "iqr = q3-q1\n",
        "\n",
        "df['Expenses'] = df['Expenses'].mask(((df['Expenses'] > (q3+(1.5*iqr)))), (q3+(1.5*iqr)))"
      ]
    },
    {
      "cell_type": "code",
      "execution_count": null,
      "metadata": {
        "colab": {
          "base_uri": "https://localhost:8080/",
          "height": 279
        },
        "id": "UW-ZHsnsb4-D",
        "outputId": "5b840d78-a7d0-469c-f872-60aa09e091ed"
      },
      "outputs": [
        {
          "data": {
            "image/png": "[encoded data removed]",
            "text/plain": [
              "<Figure size 432x288 with 1 Axes>"
            ]
          },
          "metadata": {
            "needs_background": "light"
          },
          "output_type": "display_data"
        }
      ],
      "source": [
        "sns.boxplot(x=\"Expenses\", data=df)\n",
        "plt.show()"
      ]
    },
    {
      "cell_type": "markdown",
      "metadata": {
        "id": "Tc-TGVmgb85g"
      },
      "source": [
        "## AcceptedCamp"
      ]
    },
    {
      "cell_type": "code",
      "execution_count": null,
      "metadata": {
        "id": "_dGDpT0J-GAB"
      },
      "outputs": [],
      "source": [
        "df['TotalAcceptedCmp'] = df['AcceptedCmp1'] + df['AcceptedCmp2'] + df['AcceptedCmp3'] + df['AcceptedCmp4'] + df['AcceptedCmp5']"
      ]
    },
    {
      "cell_type": "code",
      "execution_count": null,
      "metadata": {
        "colab": {
          "base_uri": "https://localhost:8080/",
          "height": 489
        },
        "id": "FvRMhVvv2zQO",
        "outputId": "6c367c29-10c2-47cc-bd22-93fa3472f9d5"
      },
      "outputs": [
        {
          "name": "stdout",
          "output_type": "stream",
          "text": [
            "Unique categories present in the TotalAcceptedCmp: 0    1604\n",
            "1     302\n",
            "2      74\n",
            "3      40\n",
            "4      10\n",
            "Name: TotalAcceptedCmp, dtype: int64\n",
            "\n",
            "\n"
          ]
        },
        {
          "data": {
            "text/plain": [
              "<Figure size 576x576 with 0 Axes>"
            ]
          },
          "execution_count": 55,
          "metadata": {},
          "output_type": "execute_result"
        },
        {
          "data": {
            "image/png": "[encoded data removed]",
            "text/plain": [
              "<Figure size 432x288 with 1 Axes>"
            ]
          },
          "metadata": {
            "needs_background": "light"
          },
          "output_type": "display_data"
        },
        {
          "data": {
            "text/plain": [
              "<Figure size 576x576 with 0 Axes>"
            ]
          },
          "metadata": {},
          "output_type": "display_data"
        }
      ],
      "source": [
        "print(\"Unique categories present in the TotalAcceptedCmp:\",df['TotalAcceptedCmp'].value_counts())\n",
        "print(\"\\n\")\n",
        "\n",
        "df['TotalAcceptedCmp'].value_counts().plot(kind='bar',color = 'orange',edgecolor = \"black\",linewidth = 3)\n",
        "plt.title(\"Frequency Of Each Category in the TotalAcceptedCmp Variable \\n\",fontsize=24)\n",
        "plt.figure(figsize=(8,8))"
      ]
    },
    {
      "cell_type": "markdown",
      "metadata": {
        "id": "eqeM0v6gDQqP"
      },
      "source": [
        "## Response"
      ]
    },
    {
      "cell_type": "code",
      "execution_count": null,
      "metadata": {
        "colab": {
          "base_uri": "https://localhost:8080/"
        },
        "id": "IJ458W5rDTwT",
        "outputId": "a9283c72-83ec-400d-c724-c8074bf82bd1"
      },
      "outputs": [
        {
          "data": {
            "text/plain": [
              "<bound method Series.unique of 0       1\n",
              "1       0\n",
              "2       0\n",
              "3       0\n",
              "4       0\n",
              "5       0\n",
              "6       0\n",
              "7       0\n",
              "8       1\n",
              "9       0\n",
              "11      0\n",
              "12      0\n",
              "13      0\n",
              "14      0\n",
              "15      1\n",
              "16      0\n",
              "17      0\n",
              "18      0\n",
              "19      0\n",
              "20      0\n",
              "21      0\n",
              "22      0\n",
              "23      0\n",
              "24      0\n",
              "25      0\n",
              "26      0\n",
              "28      0\n",
              "29      0\n",
              "30      0\n",
              "31      0\n",
              "32      0\n",
              "33      1\n",
              "34      0\n",
              "35      0\n",
              "36      0\n",
              "37      0\n",
              "38      0\n",
              "39      1\n",
              "40      0\n",
              "41      0\n",
              "42      0\n",
              "44      0\n",
              "45      0\n",
              "46      1\n",
              "47      0\n",
              "49      0\n",
              "50      0\n",
              "51      0\n",
              "52      0\n",
              "53      1\n",
              "54      0\n",
              "55      1\n",
              "56      1\n",
              "57      0\n",
              "59      0\n",
              "60      1\n",
              "61      0\n",
              "62      0\n",
              "63      0\n",
              "64      0\n",
              "65      1\n",
              "66      0\n",
              "67      1\n",
              "68      0\n",
              "69      0\n",
              "70      0\n",
              "72      0\n",
              "73      0\n",
              "74      0\n",
              "75      0\n",
              "76      1\n",
              "77      1\n",
              "78      0\n",
              "79      1\n",
              "80      0\n",
              "81      0\n",
              "82      0\n",
              "84      0\n",
              "85      0\n",
              "86      0\n",
              "87      1\n",
              "88      0\n",
              "89      0\n",
              "93      0\n",
              "94      0\n",
              "95      0\n",
              "96      0\n",
              "97      0\n",
              "98      0\n",
              "99      0\n",
              "100     0\n",
              "101     0\n",
              "102     0\n",
              "103     0\n",
              "104     1\n",
              "105     0\n",
              "106     0\n",
              "107     0\n",
              "108     0\n",
              "109     0\n",
              "110     0\n",
              "111     1\n",
              "112     0\n",
              "113     1\n",
              "114     0\n",
              "115     0\n",
              "116     0\n",
              "117     0\n",
              "118     0\n",
              "119     0\n",
              "120     0\n",
              "121     1\n",
              "122     0\n",
              "123     0\n",
              "124     1\n",
              "125     0\n",
              "126     1\n",
              "127     0\n",
              "129     0\n",
              "130     0\n",
              "131     0\n",
              "132     0\n",
              "134     0\n",
              "135     0\n",
              "136     0\n",
              "137     0\n",
              "138     1\n",
              "139     0\n",
              "140     0\n",
              "141     1\n",
              "142     0\n",
              "143     0\n",
              "144     0\n",
              "145     0\n",
              "146     1\n",
              "147     0\n",
              "148     0\n",
              "149     0\n",
              "150     0\n",
              "151     0\n",
              "152     0\n",
              "153     0\n",
              "154     0\n",
              "155     1\n",
              "156     0\n",
              "157     0\n",
              "158     0\n",
              "159     0\n",
              "160     0\n",
              "161     0\n",
              "162     0\n",
              "163     0\n",
              "164     0\n",
              "165     0\n",
              "166     0\n",
              "167     0\n",
              "168     0\n",
              "169     0\n",
              "170     0\n",
              "171     0\n",
              "172     0\n",
              "173     0\n",
              "174     0\n",
              "175     0\n",
              "176     1\n",
              "177     0\n",
              "178     0\n",
              "180     0\n",
              "181     0\n",
              "182     0\n",
              "183     0\n",
              "184     0\n",
              "185     0\n",
              "186     0\n",
              "187     0\n",
              "188     0\n",
              "189     0\n",
              "190     0\n",
              "191     0\n",
              "192     0\n",
              "193     0\n",
              "194     0\n",
              "195     0\n",
              "196     0\n",
              "197     0\n",
              "198     0\n",
              "199     1\n",
              "200     0\n",
              "201     0\n",
              "202     0\n",
              "203     1\n",
              "204     0\n",
              "205     1\n",
              "206     0\n",
              "207     0\n",
              "208     0\n",
              "209     1\n",
              "210     0\n",
              "211     0\n",
              "212     0\n",
              "213     0\n",
              "214     0\n",
              "215     0\n",
              "216     0\n",
              "217     0\n",
              "218     0\n",
              "219     0\n",
              "220     0\n",
              "221     0\n",
              "222     0\n",
              "223     0\n",
              "224     0\n",
              "225     0\n",
              "226     0\n",
              "227     0\n",
              "228     0\n",
              "229     0\n",
              "230     1\n",
              "231     0\n",
              "232     0\n",
              "233     0\n",
              "234     0\n",
              "235     0\n",
              "236     0\n",
              "237     0\n",
              "238     0\n",
              "239     0\n",
              "240     0\n",
              "241     0\n",
              "242     0\n",
              "243     1\n",
              "244     0\n",
              "245     0\n",
              "246     1\n",
              "247     0\n",
              "248     0\n",
              "249     0\n",
              "250     0\n",
              "251     0\n",
              "252     1\n",
              "253     0\n",
              "254     0\n",
              "255     0\n",
              "256     0\n",
              "257     0\n",
              "258     0\n",
              "259     0\n",
              "260     1\n",
              "261     0\n",
              "262     0\n",
              "263     0\n",
              "264     1\n",
              "265     0\n",
              "266     0\n",
              "267     1\n",
              "268     0\n",
              "269     0\n",
              "270     1\n",
              "271     0\n",
              "272     0\n",
              "273     0\n",
              "274     0\n",
              "275     0\n",
              "276     1\n",
              "277     0\n",
              "278     1\n",
              "279     0\n",
              "280     0\n",
              "283     0\n",
              "284     0\n",
              "285     0\n",
              "286     0\n",
              "287     0\n",
              "288     0\n",
              "289     0\n",
              "290     0\n",
              "291     0\n",
              "292     0\n",
              "293     0\n",
              "294     0\n",
              "295     0\n",
              "296     0\n",
              "297     0\n",
              "298     0\n",
              "299     0\n",
              "300     0\n",
              "301     0\n",
              "302     0\n",
              "303     0\n",
              "304     0\n",
              "305     0\n",
              "306     1\n",
              "307     0\n",
              "308     0\n",
              "309     0\n",
              "310     0\n",
              "311     0\n",
              "313     0\n",
              "314     0\n",
              "315     0\n",
              "316     0\n",
              "317     0\n",
              "318     0\n",
              "320     0\n",
              "321     0\n",
              "322     0\n",
              "323     0\n",
              "324     0\n",
              "325     0\n",
              "326     0\n",
              "327     0\n",
              "328     0\n",
              "329     0\n",
              "330     0\n",
              "331     0\n",
              "332     1\n",
              "333     1\n",
              "334     0\n",
              "335     0\n",
              "336     1\n",
              "337     0\n",
              "338     1\n",
              "339     0\n",
              "340     0\n",
              "341     0\n",
              "342     0\n",
              "343     0\n",
              "344     1\n",
              "345     0\n",
              "346     0\n",
              "347     1\n",
              "348     0\n",
              "349     0\n",
              "350     0\n",
              "351     0\n",
              "352     1\n",
              "353     0\n",
              "354     0\n",
              "355     0\n",
              "356     0\n",
              "357     0\n",
              "358     0\n",
              "359     0\n",
              "360     0\n",
              "361     0\n",
              "362     0\n",
              "364     0\n",
              "365     0\n",
              "366     0\n",
              "367     0\n",
              "368     0\n",
              "369     0\n",
              "370     0\n",
              "371     0\n",
              "372     0\n",
              "373     0\n",
              "374     1\n",
              "375     0\n",
              "376     1\n",
              "377     0\n",
              "378     0\n",
              "379     0\n",
              "380     0\n",
              "381     0\n",
              "382     0\n",
              "384     0\n",
              "385     0\n",
              "386     1\n",
              "387     0\n",
              "388     0\n",
              "389     0\n",
              "390     0\n",
              "391     0\n",
              "392     0\n",
              "393     0\n",
              "394     0\n",
              "395     0\n",
              "396     0\n",
              "397     1\n",
              "398     0\n",
              "399     1\n",
              "400     0\n",
              "401     0\n",
              "402     0\n",
              "403     0\n",
              "404     1\n",
              "405     0\n",
              "406     1\n",
              "407     0\n",
              "408     0\n",
              "409     0\n",
              "410     1\n",
              "411     0\n",
              "412     0\n",
              "413     0\n",
              "414     0\n",
              "415     0\n",
              "416     0\n",
              "417     0\n",
              "418     1\n",
              "419     0\n",
              "420     0\n",
              "422     0\n",
              "423     1\n",
              "424     0\n",
              "425     0\n",
              "426     0\n",
              "427     0\n",
              "428     0\n",
              "429     0\n",
              "430     1\n",
              "431     0\n",
              "432     0\n",
              "433     0\n",
              "434     0\n",
              "435     0\n",
              "436     0\n",
              "437     0\n",
              "438     0\n",
              "439     0\n",
              "440     0\n",
              "441     0\n",
              "442     0\n",
              "444     0\n",
              "445     0\n",
              "446     0\n",
              "447     0\n",
              "448     0\n",
              "449     0\n",
              "450     0\n",
              "451     0\n",
              "452     0\n",
              "453     0\n",
              "454     0\n",
              "455     0\n",
              "456     1\n",
              "457     1\n",
              "458     0\n",
              "459     0\n",
              "460     1\n",
              "461     0\n",
              "462     0\n",
              "464     0\n",
              "465     0\n",
              "466     1\n",
              "467     0\n",
              "468     0\n",
              "469     0\n",
              "470     0\n",
              "471     1\n",
              "472     1\n",
              "473     0\n",
              "474     0\n",
              "475     0\n",
              "476     0\n",
              "477     0\n",
              "478     0\n",
              "479     0\n",
              "480     0\n",
              "481     0\n",
              "482     1\n",
              "483     0\n",
              "484     0\n",
              "485     1\n",
              "486     0\n",
              "487     0\n",
              "488     0\n",
              "489     0\n",
              "490     0\n",
              "491     0\n",
              "492     0\n",
              "493     0\n",
              "494     0\n",
              "495     0\n",
              "496     0\n",
              "497     0\n",
              "498     0\n",
              "499     0\n",
              "500     0\n",
              "501     0\n",
              "502     0\n",
              "503     0\n",
              "505     0\n",
              "506     0\n",
              "507     0\n",
              "508     0\n",
              "509     0\n",
              "510     0\n",
              "511     0\n",
              "512     0\n",
              "513     0\n",
              "514     0\n",
              "515     0\n",
              "516     0\n",
              "517     0\n",
              "518     0\n",
              "519     0\n",
              "520     0\n",
              "521     0\n",
              "522     0\n",
              "523     0\n",
              "524     1\n",
              "525     0\n",
              "526     0\n",
              "527     0\n",
              "528     0\n",
              "529     0\n",
              "530     0\n",
              "531     0\n",
              "532     0\n",
              "533     0\n",
              "534     0\n",
              "535     0\n",
              "536     0\n",
              "537     1\n",
              "538     0\n",
              "539     0\n",
              "540     0\n",
              "541     0\n",
              "542     0\n",
              "543     1\n",
              "544     0\n",
              "545     0\n",
              "546     1\n",
              "547     0\n",
              "548     1\n",
              "549     0\n",
              "550     0\n",
              "551     1\n",
              "552     0\n",
              "553     0\n",
              "554     1\n",
              "555     0\n",
              "556     0\n",
              "557     0\n",
              "558     0\n",
              "559     1\n",
              "560     0\n",
              "561     0\n",
              "562     0\n",
              "563     0\n",
              "564     0\n",
              "565     0\n",
              "566     0\n",
              "567     0\n",
              "568     0\n",
              "569     0\n",
              "570     0\n",
              "571     0\n",
              "572     0\n",
              "573     0\n",
              "574     0\n",
              "575     1\n",
              "576     0\n",
              "577     0\n",
              "578     0\n",
              "579     0\n",
              "580     0\n",
              "582     0\n",
              "583     0\n",
              "584     0\n",
              "585     0\n",
              "586     1\n",
              "587     0\n",
              "588     0\n",
              "589     0\n",
              "590     1\n",
              "591     1\n",
              "592     0\n",
              "593     0\n",
              "594     0\n",
              "595     1\n",
              "596     0\n",
              "597     0\n",
              "598     0\n",
              "599     0\n",
              "600     0\n",
              "601     0\n",
              "602     0\n",
              "603     0\n",
              "604     0\n",
              "605     1\n",
              "607     0\n",
              "608     0\n",
              "609     0\n",
              "610     0\n",
              "611     0\n",
              "612     0\n",
              "614     1\n",
              "615     0\n",
              "616     0\n",
              "617     0\n",
              "618     0\n",
              "619     0\n",
              "620     0\n",
              "621     0\n",
              "622     0\n",
              "623     0\n",
              "624     0\n",
              "625     0\n",
              "626     0\n",
              "627     1\n",
              "628     0\n",
              "629     0\n",
              "630     0\n",
              "631     0\n",
              "633     1\n",
              "634     1\n",
              "635     0\n",
              "636     0\n",
              "637     0\n",
              "638     1\n",
              "639     0\n",
              "641     0\n",
              "642     0\n",
              "643     0\n",
              "644     1\n",
              "645     0\n",
              "646     1\n",
              "647     0\n",
              "648     0\n",
              "649     0\n",
              "650     0\n",
              "651     0\n",
              "652     0\n",
              "653     0\n",
              "654     0\n",
              "655     0\n",
              "656     0\n",
              "658     0\n",
              "659     0\n",
              "660     0\n",
              "662     0\n",
              "663     0\n",
              "664     0\n",
              "665     0\n",
              "666     0\n",
              "667     0\n",
              "668     0\n",
              "669     0\n",
              "670     0\n",
              "671     0\n",
              "672     0\n",
              "673     0\n",
              "675     0\n",
              "676     1\n",
              "677     0\n",
              "678     1\n",
              "679     0\n",
              "680     0\n",
              "681     0\n",
              "682     0\n",
              "683     0\n",
              "684     0\n",
              "685     0\n",
              "686     1\n",
              "687     0\n",
              "688     0\n",
              "689     0\n",
              "690     1\n",
              "691     0\n",
              "692     0\n",
              "693     0\n",
              "694     1\n",
              "695     0\n",
              "696     0\n",
              "697     1\n",
              "698     0\n",
              "699     0\n",
              "700     0\n",
              "701     0\n",
              "702     0\n",
              "703     1\n",
              "704     0\n",
              "706     0\n",
              "707     0\n",
              "708     0\n",
              "710     0\n",
              "711     0\n",
              "712     0\n",
              "713     0\n",
              "714     0\n",
              "715     0\n",
              "716     1\n",
              "717     0\n",
              "718     0\n",
              "719     0\n",
              "720     0\n",
              "721     0\n",
              "722     0\n",
              "723     0\n",
              "724     1\n",
              "726     0\n",
              "727     0\n",
              "728     0\n",
              "729     0\n",
              "730     0\n",
              "731     0\n",
              "733     0\n",
              "734     0\n",
              "735     1\n",
              "736     0\n",
              "737     0\n",
              "738     0\n",
              "739     0\n",
              "740     0\n",
              "741     0\n",
              "742     0\n",
              "743     0\n",
              "744     0\n",
              "745     0\n",
              "746     0\n",
              "747     0\n",
              "748     0\n",
              "749     1\n",
              "750     0\n",
              "751     0\n",
              "753     1\n",
              "754     0\n",
              "755     0\n",
              "756     1\n",
              "757     0\n",
              "758     0\n",
              "759     0\n",
              "760     0\n",
              "761     0\n",
              "762     0\n",
              "763     1\n",
              "764     0\n",
              "765     0\n",
              "766     0\n",
              "767     0\n",
              "768     0\n",
              "769     0\n",
              "770     0\n",
              "771     0\n",
              "772     1\n",
              "773     0\n",
              "774     0\n",
              "775     0\n",
              "776     0\n",
              "777     0\n",
              "778     0\n",
              "779     0\n",
              "780     0\n",
              "781     0\n",
              "782     0\n",
              "783     0\n",
              "784     0\n",
              "785     0\n",
              "786     0\n",
              "787     1\n",
              "788     0\n",
              "789     0\n",
              "790     0\n",
              "791     1\n",
              "792     0\n",
              "793     0\n",
              "794     0\n",
              "795     0\n",
              "796     0\n",
              "797     0\n",
              "798     0\n",
              "799     0\n",
              "800     0\n",
              "801     0\n",
              "802     0\n",
              "803     0\n",
              "804     1\n",
              "805     0\n",
              "806     0\n",
              "807     0\n",
              "808     0\n",
              "809     0\n",
              "810     0\n",
              "811     1\n",
              "812     0\n",
              "813     0\n",
              "814     0\n",
              "815     0\n",
              "816     0\n",
              "817     0\n",
              "818     0\n",
              "819     0\n",
              "820     1\n",
              "821     0\n",
              "822     1\n",
              "825     0\n",
              "826     0\n",
              "827     0\n",
              "828     0\n",
              "829     0\n",
              "830     0\n",
              "831     0\n",
              "832     0\n",
              "833     0\n",
              "834     0\n",
              "835     0\n",
              "836     0\n",
              "837     0\n",
              "838     0\n",
              "839     0\n",
              "840     0\n",
              "841     0\n",
              "842     0\n",
              "843     0\n",
              "844     0\n",
              "845     1\n",
              "846     0\n",
              "847     0\n",
              "848     0\n",
              "849     0\n",
              "850     0\n",
              "852     0\n",
              "853     0\n",
              "854     1\n",
              "855     0\n",
              "856     0\n",
              "857     0\n",
              "858     0\n",
              "859     0\n",
              "860     0\n",
              "861     0\n",
              "862     0\n",
              "863     0\n",
              "864     0\n",
              "865     0\n",
              "866     0\n",
              "867     0\n",
              "868     0\n",
              "869     0\n",
              "870     0\n",
              "871     0\n",
              "872     0\n",
              "873     0\n",
              "874     0\n",
              "875     0\n",
              "876     0\n",
              "877     0\n",
              "878     0\n",
              "879     0\n",
              "880     1\n",
              "881     0\n",
              "882     0\n",
              "883     0\n",
              "885     0\n",
              "886     0\n",
              "887     0\n",
              "888     0\n",
              "889     0\n",
              "890     0\n",
              "891     0\n",
              "892     0\n",
              "893     0\n",
              "895     0\n",
              "896     1\n",
              "897     0\n",
              "898     0\n",
              "899     0\n",
              "900     0\n",
              "901     0\n",
              "902     0\n",
              "903     0\n",
              "904     0\n",
              "905     0\n",
              "906     1\n",
              "907     0\n",
              "908     0\n",
              "909     0\n",
              "910     0\n",
              "911     0\n",
              "912     1\n",
              "913     1\n",
              "914     1\n",
              "915     0\n",
              "916     0\n",
              "918     0\n",
              "919     0\n",
              "920     0\n",
              "921     0\n",
              "922     1\n",
              "923     0\n",
              "924     0\n",
              "925     0\n",
              "926     0\n",
              "927     0\n",
              "929     0\n",
              "930     0\n",
              "931     0\n",
              "932     0\n",
              "933     0\n",
              "935     0\n",
              "936     0\n",
              "937     0\n",
              "938     0\n",
              "939     0\n",
              "940     0\n",
              "941     0\n",
              "942     1\n",
              "943     1\n",
              "944     0\n",
              "945     0\n",
              "946     0\n",
              "947     0\n",
              "948     0\n",
              "949     0\n",
              "950     0\n",
              "951     0\n",
              "952     1\n",
              "953     0\n",
              "954     0\n",
              "955     0\n",
              "956     1\n",
              "957     0\n",
              "958     0\n",
              "959     0\n",
              "960     0\n",
              "961     0\n",
              "962     1\n",
              "963     0\n",
              "964     0\n",
              "965     0\n",
              "966     1\n",
              "967     0\n",
              "968     1\n",
              "969     0\n",
              "970     0\n",
              "971     0\n",
              "972     0\n",
              "973     0\n",
              "974     0\n",
              "975     0\n",
              "976     0\n",
              "978     0\n",
              "979     0\n",
              "980     0\n",
              "981     0\n",
              "982     0\n",
              "984     1\n",
              "985     0\n",
              "986     0\n",
              "987     1\n",
              "988     0\n",
              "989     0\n",
              "990     1\n",
              "991     0\n",
              "992     0\n",
              "993     0\n",
              "994     0\n",
              "996     0\n",
              "998     0\n",
              "999     0\n",
              "1000    1\n",
              "1001    1\n",
              "1002    1\n",
              "1003    0\n",
              "1004    0\n",
              "1005    1\n",
              "1006    0\n",
              "1008    0\n",
              "1009    0\n",
              "1010    0\n",
              "1011    0\n",
              "1012    0\n",
              "1013    0\n",
              "1014    0\n",
              "1015    0\n",
              "1016    0\n",
              "1017    0\n",
              "1018    0\n",
              "1019    0\n",
              "1020    0\n",
              "1021    0\n",
              "1022    1\n",
              "1023    0\n",
              "1024    0\n",
              "1025    0\n",
              "1026    1\n",
              "1027    0\n",
              "1028    0\n",
              "1029    0\n",
              "1030    1\n",
              "1031    1\n",
              "1032    0\n",
              "1033    0\n",
              "1035    0\n",
              "1036    0\n",
              "1037    0\n",
              "1038    1\n",
              "1039    0\n",
              "1040    0\n",
              "1041    0\n",
              "1042    0\n",
              "1043    0\n",
              "1044    1\n",
              "1045    0\n",
              "1046    0\n",
              "1047    0\n",
              "1048    1\n",
              "1049    0\n",
              "1051    0\n",
              "1052    0\n",
              "1053    1\n",
              "1054    0\n",
              "1055    0\n",
              "1056    0\n",
              "1057    0\n",
              "1058    0\n",
              "1059    0\n",
              "1060    0\n",
              "1061    0\n",
              "1062    1\n",
              "1063    0\n",
              "1064    0\n",
              "1065    0\n",
              "1066    1\n",
              "1067    0\n",
              "1068    0\n",
              "1069    0\n",
              "1071    0\n",
              "1072    0\n",
              "1073    0\n",
              "1074    0\n",
              "1075    0\n",
              "1076    0\n",
              "1077    0\n",
              "1078    0\n",
              "1079    0\n",
              "1080    0\n",
              "1081    1\n",
              "1082    1\n",
              "1083    0\n",
              "1084    1\n",
              "1085    0\n",
              "1086    0\n",
              "1087    1\n",
              "1088    0\n",
              "1089    1\n",
              "1090    0\n",
              "1091    0\n",
              "1093    0\n",
              "1094    0\n",
              "1095    0\n",
              "1096    0\n",
              "1097    0\n",
              "1098    0\n",
              "1099    0\n",
              "1100    1\n",
              "1101    0\n",
              "1102    0\n",
              "1103    0\n",
              "1104    0\n",
              "1105    0\n",
              "1106    0\n",
              "1108    0\n",
              "1109    0\n",
              "1110    0\n",
              "1111    1\n",
              "1112    0\n",
              "1114    0\n",
              "1115    0\n",
              "1116    1\n",
              "1117    1\n",
              "1118    0\n",
              "1119    0\n",
              "1120    0\n",
              "1121    0\n",
              "1122    0\n",
              "1123    0\n",
              "1124    0\n",
              "1125    1\n",
              "1126    0\n",
              "1127    0\n",
              "1128    0\n",
              "1129    1\n",
              "1130    0\n",
              "1131    0\n",
              "1132    0\n",
              "1133    0\n",
              "1134    1\n",
              "1135    0\n",
              "1136    0\n",
              "1137    1\n",
              "1139    0\n",
              "1141    0\n",
              "1142    0\n",
              "1143    0\n",
              "1144    0\n",
              "1145    0\n",
              "1146    1\n",
              "1147    0\n",
              "1148    0\n",
              "1149    1\n",
              "1150    0\n",
              "1151    0\n",
              "1152    0\n",
              "1153    1\n",
              "1154    0\n",
              "1155    0\n",
              "1156    1\n",
              "1157    0\n",
              "1158    0\n",
              "1159    0\n",
              "1160    0\n",
              "1162    0\n",
              "1163    0\n",
              "1164    0\n",
              "1165    0\n",
              "1166    0\n",
              "1167    0\n",
              "1168    0\n",
              "1169    0\n",
              "1170    0\n",
              "1172    0\n",
              "1173    0\n",
              "1174    0\n",
              "1175    0\n",
              "1176    0\n",
              "1177    0\n",
              "1178    0\n",
              "1179    0\n",
              "1180    0\n",
              "1181    0\n",
              "1182    1\n",
              "1183    0\n",
              "1184    0\n",
              "1185    0\n",
              "1186    0\n",
              "1187    0\n",
              "1188    0\n",
              "1189    0\n",
              "1190    1\n",
              "1191    1\n",
              "1192    0\n",
              "1193    0\n",
              "1194    0\n",
              "1197    0\n",
              "1198    0\n",
              "1199    0\n",
              "1200    0\n",
              "1201    0\n",
              "1202    0\n",
              "1204    0\n",
              "1205    0\n",
              "1207    0\n",
              "1208    0\n",
              "1209    0\n",
              "1210    0\n",
              "1211    0\n",
              "1212    0\n",
              "1213    0\n",
              "1214    0\n",
              "1215    1\n",
              "1216    0\n",
              "1217    0\n",
              "1219    0\n",
              "1220    0\n",
              "1221    0\n",
              "1222    0\n",
              "1223    0\n",
              "1224    0\n",
              "1225    0\n",
              "1226    0\n",
              "1227    1\n",
              "1228    0\n",
              "1229    0\n",
              "1230    0\n",
              "1231    0\n",
              "1232    0\n",
              "1233    0\n",
              "1234    0\n",
              "1235    0\n",
              "1236    0\n",
              "1237    0\n",
              "1239    0\n",
              "1240    0\n",
              "1241    0\n",
              "1242    0\n",
              "1243    0\n",
              "1244    0\n",
              "1245    0\n",
              "1246    0\n",
              "1247    0\n",
              "1248    0\n",
              "1249    0\n",
              "1250    1\n",
              "1251    0\n",
              "1252    1\n",
              "1253    0\n",
              "1255    1\n",
              "1256    1\n",
              "1257    0\n",
              "1258    0\n",
              "1259    0\n",
              "1261    1\n",
              "1262    0\n",
              "1263    0\n",
              "1264    1\n",
              "1266    1\n",
              "1267    0\n",
              "1268    0\n",
              "1269    0\n",
              "1270    0\n",
              "1271    0\n",
              "1272    1\n",
              "1273    0\n",
              "1274    0\n",
              "1275    0\n",
              "1276    0\n",
              "1277    0\n",
              "1278    0\n",
              "1279    0\n",
              "1280    1\n",
              "1281    1\n",
              "1282    0\n",
              "1283    0\n",
              "1284    0\n",
              "1285    0\n",
              "1286    1\n",
              "1287    0\n",
              "1288    1\n",
              "1289    0\n",
              "1290    0\n",
              "1292    0\n",
              "1293    0\n",
              "1294    0\n",
              "1295    0\n",
              "1296    0\n",
              "1297    0\n",
              "1298    1\n",
              "1299    0\n",
              "1300    0\n",
              "1302    0\n",
              "1303    0\n",
              "1304    0\n",
              "1305    0\n",
              "1306    0\n",
              "1307    0\n",
              "1308    1\n",
              "1309    0\n",
              "1310    0\n",
              "1311    0\n",
              "1312    0\n",
              "1313    0\n",
              "1314    0\n",
              "1315    0\n",
              "1316    0\n",
              "1317    0\n",
              "1319    0\n",
              "1320    0\n",
              "1321    0\n",
              "1322    0\n",
              "1323    1\n",
              "1324    0\n",
              "1325    0\n",
              "1326    0\n",
              "1327    0\n",
              "1328    0\n",
              "1329    1\n",
              "1330    0\n",
              "1331    1\n",
              "1332    0\n",
              "1333    0\n",
              "1334    1\n",
              "1335    0\n",
              "1336    0\n",
              "1337    0\n",
              "1338    0\n",
              "1339    1\n",
              "1340    0\n",
              "1341    0\n",
              "1342    1\n",
              "1343    0\n",
              "1344    0\n",
              "1346    0\n",
              "1348    0\n",
              "1350    0\n",
              "1351    1\n",
              "1352    0\n",
              "1353    0\n",
              "1354    1\n",
              "1355    0\n",
              "1356    0\n",
              "1357    0\n",
              "1358    0\n",
              "1359    0\n",
              "1360    0\n",
              "1361    0\n",
              "1362    0\n",
              "1363    0\n",
              "1364    0\n",
              "1365    1\n",
              "1366    0\n",
              "1367    0\n",
              "1369    0\n",
              "1370    0\n",
              "1371    0\n",
              "1373    0\n",
              "1374    0\n",
              "1375    0\n",
              "1376    0\n",
              "1377    1\n",
              "1378    0\n",
              "1380    0\n",
              "1381    0\n",
              "1384    0\n",
              "1385    0\n",
              "1388    0\n",
              "1390    0\n",
              "1391    0\n",
              "1392    0\n",
              "1393    0\n",
              "1394    0\n",
              "1395    0\n",
              "1396    0\n",
              "1397    0\n",
              "1399    0\n",
              "1400    0\n",
              "1402    0\n",
              "1403    1\n",
              "1404    0\n",
              "1405    0\n",
              "1407    0\n",
              "1408    0\n",
              "1409    1\n",
              "1410    0\n",
              "1412    0\n",
              "1413    1\n",
              "1414    0\n",
              "1415    0\n",
              "1417    0\n",
              "1418    0\n",
              "1419    0\n",
              "1420    0\n",
              "1421    0\n",
              "1423    0\n",
              "1425    0\n",
              "1426    0\n",
              "1427    0\n",
              "1428    0\n",
              "1429    0\n",
              "1431    0\n",
              "1432    0\n",
              "1433    0\n",
              "1434    0\n",
              "1435    0\n",
              "1437    0\n",
              "1438    0\n",
              "1440    0\n",
              "1441    0\n",
              "1442    1\n",
              "1443    1\n",
              "1444    0\n",
              "1445    0\n",
              "1446    0\n",
              "1447    0\n",
              "1448    0\n",
              "1449    0\n",
              "1450    0\n",
              "1451    0\n",
              "1452    1\n",
              "1453    0\n",
              "1454    0\n",
              "1456    1\n",
              "1457    0\n",
              "1458    1\n",
              "1459    1\n",
              "1460    0\n",
              "1461    0\n",
              "1463    0\n",
              "1464    0\n",
              "1465    0\n",
              "1466    0\n",
              "1468    0\n",
              "1469    0\n",
              "1470    0\n",
              "1471    0\n",
              "1472    0\n",
              "1473    1\n",
              "1474    0\n",
              "1475    0\n",
              "1477    0\n",
              "1478    0\n",
              "1479    0\n",
              "1482    0\n",
              "1483    0\n",
              "1484    0\n",
              "1485    0\n",
              "1486    0\n",
              "1487    0\n",
              "1488    0\n",
              "1489    0\n",
              "1490    1\n",
              "1491    0\n",
              "1492    1\n",
              "1493    0\n",
              "1494    0\n",
              "1495    0\n",
              "1496    0\n",
              "1497    1\n",
              "1498    0\n",
              "1499    0\n",
              "1500    0\n",
              "1502    1\n",
              "1503    0\n",
              "1504    1\n",
              "1505    0\n",
              "1506    0\n",
              "1507    0\n",
              "1508    0\n",
              "1509    0\n",
              "1512    0\n",
              "1513    0\n",
              "1514    1\n",
              "1515    0\n",
              "1516    0\n",
              "1518    0\n",
              "1519    1\n",
              "1520    1\n",
              "1521    0\n",
              "1522    0\n",
              "1524    0\n",
              "1525    0\n",
              "1526    0\n",
              "1527    0\n",
              "1528    1\n",
              "1529    0\n",
              "1530    0\n",
              "1531    0\n",
              "1532    0\n",
              "1533    1\n",
              "1534    0\n",
              "1535    0\n",
              "1536    0\n",
              "1537    1\n",
              "1538    0\n",
              "1539    0\n",
              "1540    0\n",
              "1541    0\n",
              "1542    0\n",
              "1543    0\n",
              "1544    0\n",
              "1546    0\n",
              "1547    1\n",
              "1548    0\n",
              "1549    0\n",
              "1550    0\n",
              "1551    0\n",
              "1552    0\n",
              "1555    0\n",
              "1556    1\n",
              "1557    0\n",
              "1558    0\n",
              "1559    0\n",
              "1562    0\n",
              "1563    0\n",
              "1564    0\n",
              "1565    0\n",
              "1566    0\n",
              "1567    0\n",
              "1568    1\n",
              "1569    0\n",
              "1572    1\n",
              "1573    0\n",
              "1575    0\n",
              "1576    1\n",
              "1577    0\n",
              "1579    0\n",
              "1580    0\n",
              "1581    0\n",
              "1582    0\n",
              "1583    0\n",
              "1584    1\n",
              "1585    1\n",
              "1586    1\n",
              "1587    0\n",
              "1588    0\n",
              "1589    0\n",
              "1591    0\n",
              "1592    0\n",
              "1594    0\n",
              "1595    1\n",
              "1597    0\n",
              "1598    0\n",
              "1599    0\n",
              "1600    0\n",
              "1601    0\n",
              "1602    0\n",
              "1603    0\n",
              "1604    0\n",
              "1605    0\n",
              "1606    0\n",
              "1607    0\n",
              "1608    0\n",
              "1611    0\n",
              "1612    1\n",
              "1613    0\n",
              "1614    1\n",
              "1615    0\n",
              "1616    0\n",
              "1617    0\n",
              "1619    0\n",
              "1620    0\n",
              "1621    0\n",
              "1623    0\n",
              "1624    0\n",
              "1625    0\n",
              "1626    0\n",
              "1627    0\n",
              "1628    1\n",
              "1629    0\n",
              "1631    0\n",
              "1632    0\n",
              "1633    0\n",
              "1635    0\n",
              "1636    0\n",
              "1637    0\n",
              "1638    0\n",
              "1639    0\n",
              "1640    0\n",
              "1641    1\n",
              "1642    0\n",
              "1644    0\n",
              "1645    0\n",
              "1646    0\n",
              "1647    0\n",
              "1648    1\n",
              "1649    0\n",
              "1650    0\n",
              "1651    1\n",
              "1652    1\n",
              "1653    0\n",
              "1654    0\n",
              "1655    0\n",
              "1656    0\n",
              "1657    0\n",
              "1658    0\n",
              "1659    1\n",
              "1660    0\n",
              "1661    0\n",
              "1662    0\n",
              "1663    0\n",
              "1665    0\n",
              "1666    0\n",
              "1667    0\n",
              "1670    1\n",
              "1671    0\n",
              "1672    1\n",
              "1674    0\n",
              "1675    0\n",
              "1676    0\n",
              "1677    0\n",
              "1678    0\n",
              "1679    0\n",
              "1680    0\n",
              "1681    0\n",
              "1682    0\n",
              "1683    0\n",
              "1684    0\n",
              "1685    0\n",
              "1686    1\n",
              "1687    1\n",
              "1688    0\n",
              "1690    0\n",
              "1691    0\n",
              "1692    0\n",
              "1693    0\n",
              "1694    0\n",
              "1695    0\n",
              "1696    0\n",
              "1697    0\n",
              "1698    0\n",
              "1699    0\n",
              "1700    0\n",
              "1702    0\n",
              "1703    0\n",
              "1704    1\n",
              "1705    0\n",
              "1706    0\n",
              "1707    0\n",
              "1708    0\n",
              "1709    0\n",
              "1710    1\n",
              "1711    1\n",
              "1712    0\n",
              "1713    0\n",
              "1714    0\n",
              "1715    0\n",
              "1716    0\n",
              "1717    0\n",
              "1718    0\n",
              "1719    1\n",
              "1720    0\n",
              "1721    1\n",
              "1722    1\n",
              "1723    0\n",
              "1724    1\n",
              "1725    1\n",
              "1726    1\n",
              "1727    0\n",
              "1729    0\n",
              "1730    0\n",
              "1732    0\n",
              "1733    0\n",
              "1734    0\n",
              "1735    0\n",
              "1737    0\n",
              "1738    0\n",
              "1739    0\n",
              "1740    0\n",
              "1741    0\n",
              "1742    1\n",
              "1743    1\n",
              "1744    0\n",
              "1745    0\n",
              "1746    0\n",
              "1748    0\n",
              "1749    0\n",
              "1750    1\n",
              "1752    0\n",
              "1753    1\n",
              "1755    0\n",
              "1756    0\n",
              "1757    1\n",
              "1758    0\n",
              "1759    0\n",
              "1760    0\n",
              "1761    0\n",
              "1762    0\n",
              "1763    0\n",
              "1764    0\n",
              "1765    0\n",
              "1766    0\n",
              "1769    0\n",
              "1770    1\n",
              "1773    0\n",
              "1774    0\n",
              "1777    0\n",
              "1778    0\n",
              "1779    0\n",
              "1780    0\n",
              "1781    0\n",
              "1782    0\n",
              "1783    0\n",
              "1784    1\n",
              "1785    0\n",
              "1786    0\n",
              "1787    0\n",
              "1788    0\n",
              "1792    0\n",
              "1794    0\n",
              "1795    0\n",
              "1796    0\n",
              "1797    0\n",
              "1798    0\n",
              "1800    0\n",
              "1801    0\n",
              "1802    0\n",
              "1804    0\n",
              "1806    0\n",
              "1808    1\n",
              "1809    0\n",
              "1811    0\n",
              "1812    0\n",
              "1813    0\n",
              "1814    0\n",
              "1815    0\n",
              "1816    0\n",
              "1817    1\n",
              "1818    0\n",
              "1819    0\n",
              "1820    0\n",
              "1821    0\n",
              "1823    0\n",
              "1824    0\n",
              "1825    0\n",
              "1826    0\n",
              "1827    1\n",
              "1828    0\n",
              "1829    1\n",
              "1830    0\n",
              "1831    0\n",
              "1832    0\n",
              "1833    0\n",
              "1834    1\n",
              "1835    0\n",
              "1836    0\n",
              "1837    0\n",
              "1838    0\n",
              "1839    1\n",
              "1840    0\n",
              "1841    1\n",
              "1842    0\n",
              "1843    0\n",
              "1844    0\n",
              "1845    1\n",
              "1846    0\n",
              "1847    0\n",
              "1848    0\n",
              "1849    0\n",
              "1850    1\n",
              "1851    0\n",
              "1852    0\n",
              "1853    1\n",
              "1854    1\n",
              "1855    0\n",
              "1856    0\n",
              "1857    0\n",
              "1858    0\n",
              "1859    0\n",
              "1860    0\n",
              "1861    0\n",
              "1863    0\n",
              "1865    1\n",
              "1866    0\n",
              "1867    0\n",
              "1868    0\n",
              "1869    1\n",
              "1870    0\n",
              "1871    0\n",
              "1872    0\n",
              "1873    0\n",
              "1874    0\n",
              "1875    0\n",
              "1876    1\n",
              "1877    0\n",
              "1878    0\n",
              "1879    0\n",
              "1880    1\n",
              "1881    1\n",
              "1882    0\n",
              "1883    0\n",
              "1884    0\n",
              "1885    0\n",
              "1886    0\n",
              "1887    1\n",
              "1888    0\n",
              "1889    0\n",
              "1891    0\n",
              "1892    0\n",
              "1893    0\n",
              "1894    0\n",
              "1895    0\n",
              "1897    0\n",
              "1898    0\n",
              "1901    0\n",
              "1902    0\n",
              "1903    0\n",
              "1904    0\n",
              "1906    0\n",
              "1907    0\n",
              "1908    0\n",
              "1909    0\n",
              "1910    0\n",
              "1911    0\n",
              "1913    1\n",
              "1914    0\n",
              "1915    1\n",
              "1917    0\n",
              "1919    0\n",
              "1920    0\n",
              "1921    0\n",
              "1922    1\n",
              "1923    0\n",
              "1924    0\n",
              "1925    0\n",
              "1927    0\n",
              "1928    1\n",
              "1929    0\n",
              "1930    0\n",
              "1931    0\n",
              "1932    0\n",
              "1933    0\n",
              "1934    0\n",
              "1935    0\n",
              "1936    1\n",
              "1937    1\n",
              "1938    0\n",
              "1939    0\n",
              "1940    1\n",
              "1941    0\n",
              "1942    0\n",
              "1943    0\n",
              "1944    0\n",
              "1945    0\n",
              "1946    1\n",
              "1947    0\n",
              "1948    0\n",
              "1950    0\n",
              "1951    0\n",
              "1952    0\n",
              "1953    1\n",
              "1954    0\n",
              "1955    0\n",
              "1956    0\n",
              "1957    0\n",
              "1958    1\n",
              "1960    0\n",
              "1961    1\n",
              "1962    0\n",
              "1963    1\n",
              "1964    0\n",
              "1965    0\n",
              "1966    0\n",
              "1967    0\n",
              "1968    1\n",
              "1969    0\n",
              "1970    0\n",
              "1971    0\n",
              "1973    0\n",
              "1975    0\n",
              "1976    0\n",
              "1977    0\n",
              "1978    1\n",
              "1979    1\n",
              "1980    0\n",
              "1982    0\n",
              "1983    0\n",
              "1984    0\n",
              "1986    0\n",
              "1987    0\n",
              "1988    0\n",
              "1989    0\n",
              "1990    1\n",
              "1991    0\n",
              "1992    1\n",
              "1993    0\n",
              "1994    0\n",
              "1995    1\n",
              "1996    1\n",
              "1997    0\n",
              "1998    0\n",
              "1999    0\n",
              "2000    0\n",
              "2001    0\n",
              "2002    1\n",
              "2003    0\n",
              "2005    0\n",
              "2006    0\n",
              "2007    0\n",
              "2008    0\n",
              "2009    0\n",
              "2010    0\n",
              "2011    0\n",
              "2012    1\n",
              "2013    0\n",
              "2014    1\n",
              "2016    1\n",
              "2017    0\n",
              "2018    0\n",
              "2019    0\n",
              "2020    0\n",
              "2021    0\n",
              "2022    0\n",
              "2023    0\n",
              "2024    0\n",
              "2025    0\n",
              "2027    0\n",
              "2028    1\n",
              "2029    0\n",
              "2030    1\n",
              "2031    0\n",
              "2032    0\n",
              "2033    0\n",
              "2034    0\n",
              "2035    0\n",
              "2036    0\n",
              "2037    0\n",
              "2038    0\n",
              "2039    0\n",
              "2040    0\n",
              "2041    0\n",
              "2042    0\n",
              "2043    0\n",
              "2044    0\n",
              "2045    0\n",
              "2046    0\n",
              "2047    0\n",
              "2048    1\n",
              "2049    0\n",
              "2050    0\n",
              "2051    0\n",
              "2052    0\n",
              "2053    0\n",
              "2054    0\n",
              "2055    0\n",
              "2056    0\n",
              "2058    0\n",
              "2063    0\n",
              "2065    0\n",
              "2066    0\n",
              "2067    0\n",
              "2068    0\n",
              "2069    0\n",
              "2070    0\n",
              "2071    0\n",
              "2074    0\n",
              "2075    1\n",
              "2076    0\n",
              "2077    0\n",
              "2080    0\n",
              "2082    0\n",
              "2086    0\n",
              "2087    0\n",
              "2088    0\n",
              "2089    0\n",
              "2090    1\n",
              "2091    0\n",
              "2092    0\n",
              "2095    0\n",
              "2096    0\n",
              "2097    0\n",
              "2098    1\n",
              "2099    0\n",
              "2100    0\n",
              "2102    1\n",
              "2103    0\n",
              "2104    0\n",
              "2107    1\n",
              "2108    0\n",
              "2109    1\n",
              "2110    0\n",
              "2111    0\n",
              "2112    0\n",
              "2113    0\n",
              "2114    0\n",
              "2115    0\n",
              "2116    0\n",
              "2117    0\n",
              "2118    0\n",
              "2119    0\n",
              "2120    0\n",
              "2121    0\n",
              "2122    0\n",
              "2123    0\n",
              "2124    0\n",
              "2127    1\n",
              "2128    1\n",
              "2129    0\n",
              "2131    1\n",
              "2132    0\n",
              "2133    0\n",
              "2135    0\n",
              "2136    0\n",
              "2138    0\n",
              "2139    1\n",
              "2140    0\n",
              "2141    0\n",
              "2142    0\n",
              "2143    0\n",
              "2144    0\n",
              "2145    1\n",
              "2146    0\n",
              "2147    0\n",
              "2148    0\n",
              "2149    0\n",
              "2150    0\n",
              "2151    0\n",
              "2152    0\n",
              "2155    0\n",
              "2156    0\n",
              "2157    0\n",
              "2158    0\n",
              "2159    0\n",
              "2160    1\n",
              "2161    0\n",
              "2162    0\n",
              "2163    0\n",
              "2164    0\n",
              "2165    0\n",
              "2167    1\n",
              "2168    0\n",
              "2169    0\n",
              "2170    0\n",
              "2171    1\n",
              "2172    0\n",
              "2173    0\n",
              "2174    0\n",
              "2175    1\n",
              "2176    0\n",
              "2178    0\n",
              "2180    0\n",
              "2181    0\n",
              "2183    0\n",
              "2184    0\n",
              "2185    0\n",
              "2186    0\n",
              "2187    0\n",
              "2188    0\n",
              "2189    0\n",
              "2190    1\n",
              "2191    0\n",
              "2192    0\n",
              "2193    1\n",
              "2194    1\n",
              "2195    0\n",
              "2196    0\n",
              "2197    0\n",
              "2198    1\n",
              "2199    0\n",
              "2200    0\n",
              "2201    0\n",
              "2203    0\n",
              "2205    0\n",
              "2206    0\n",
              "2207    0\n",
              "2208    0\n",
              "2209    0\n",
              "2210    0\n",
              "2211    0\n",
              "2212    0\n",
              "2213    0\n",
              "2214    0\n",
              "2215    0\n",
              "2219    0\n",
              "2220    0\n",
              "2222    0\n",
              "2223    0\n",
              "2224    0\n",
              "2226    0\n",
              "2227    0\n",
              "2229    0\n",
              "2230    0\n",
              "2231    0\n",
              "2232    0\n",
              "2233    0\n",
              "2235    0\n",
              "2237    0\n",
              "2238    0\n",
              "2239    1\n",
              "Name: Response, dtype: int64>"
            ]
          },
          "execution_count": 56,
          "metadata": {},
          "output_type": "execute_result"
        }
      ],
      "source": [
        "df['Response'].unique"
      ]
    },
    {
      "cell_type": "markdown",
      "metadata": {
        "id": "p4EOEEk5cgu3"
      },
      "source": [
        "## NumTotalPucrchase"
      ]
    },
    {
      "cell_type": "code",
      "execution_count": null,
      "metadata": {
        "colab": {
          "base_uri": "https://localhost:8080/"
        },
        "id": "crTgoYKAdQoA",
        "outputId": "f2d95b93-e062-4d84-c8a3-ce799c054396"
      },
      "outputs": [
        {
          "name": "stdout",
          "output_type": "stream",
          "text": [
            "<class 'pandas.core.frame.DataFrame'>\n",
            "Int64Index: 2030 entries, 0 to 2239\n",
            "Data columns (total 30 columns):\n",
            " #   Column            Non-Null Count  Dtype  \n",
            "---  ------            --------------  -----  \n",
            " 0   ID                2030 non-null   int64  \n",
            " 1   Year_Birth        2030 non-null   int64  \n",
            " 2   Education         2030 non-null   object \n",
            " 3   Mariage           2030 non-null   object \n",
            " 4   Income            2030 non-null   float64\n",
            " 5   Kidhome           2030 non-null   int64  \n",
            " 6   Teenhome          2030 non-null   int64  \n",
            " 7   Dt_Customer       2030 non-null   object \n",
            " 8   Recency           2030 non-null   int64  \n",
            " 9   Wines             2030 non-null   int64  \n",
            " 10  Fruits            2030 non-null   int64  \n",
            " 11  Meat              2030 non-null   int64  \n",
            " 12  Fish              2030 non-null   int64  \n",
            " 13  Sweets            2030 non-null   int64  \n",
            " 14  Gold              2030 non-null   int64  \n",
            " 15  Dealsp            2030 non-null   int64  \n",
            " 16  Webp              2030 non-null   int64  \n",
            " 17  Catalogp          2030 non-null   int64  \n",
            " 18  Storep            2030 non-null   int64  \n",
            " 19  WebVisit          2030 non-null   int64  \n",
            " 20  AcceptedCmp3      2030 non-null   int64  \n",
            " 21  AcceptedCmp4      2030 non-null   int64  \n",
            " 22  AcceptedCmp5      2030 non-null   int64  \n",
            " 23  AcceptedCmp1      2030 non-null   int64  \n",
            " 24  AcceptedCmp2      2030 non-null   int64  \n",
            " 25  Complain          2030 non-null   int64  \n",
            " 26  Response          2030 non-null   int64  \n",
            " 27  Children          2030 non-null   int64  \n",
            " 28  Expenses          2030 non-null   float64\n",
            " 29  TotalAcceptedCmp  2030 non-null   int64  \n",
            "dtypes: float64(2), int64(25), object(3)\n",
            "memory usage: 491.6+ KB\n"
          ]
        }
      ],
      "source": [
        "df.info()"
      ]
    },
    {
      "cell_type": "code",
      "execution_count": null,
      "metadata": {
        "colab": {
          "base_uri": "https://localhost:8080/"
        },
        "id": "8MZP8YYed4MN",
        "outputId": "8f8edabb-f830-4a3a-a836-adc525afa505"
      },
      "outputs": [
        {
          "data": {
            "text/plain": [
              "array([25,  6, 21,  8, 19, 22, 10,  2, 16, 15,  5, 26,  9, 13, 12, 43, 17,\n",
              "       20, 14, 11, 18, 28,  7, 24,  4, 29, 23, 27, 32, 30, 37, 31, 33, 35,\n",
              "       39,  1, 34,  0, 44])"
            ]
          },
          "execution_count": 58,
          "metadata": {},
          "output_type": "execute_result"
        }
      ],
      "source": [
        "df['TotalPurchases'] = df['Webp'] + df['Catalogp'] + df['Storep'] + df['Dealsp']\n",
        "df['TotalPurchases'].unique()"
      ]
    },
    {
      "cell_type": "code",
      "execution_count": null,
      "metadata": {
        "colab": {
          "base_uri": "https://localhost:8080/"
        },
        "id": "8VP2u4RkeM2J",
        "outputId": "1f290c5d-8560-4bf8-be3e-c03091956049"
      },
      "outputs": [
        {
          "data": {
            "text/plain": [
              "14.88128078817734"
            ]
          },
          "execution_count": 59,
          "metadata": {},
          "output_type": "execute_result"
        }
      ],
      "source": [
        "df['TotalPurchases'].mean()"
      ]
    },
    {
      "cell_type": "code",
      "execution_count": null,
      "metadata": {
        "colab": {
          "base_uri": "https://localhost:8080/",
          "height": 963
        },
        "id": "6MSnyn6heNc_",
        "outputId": "5f360689-fd2f-46dc-fd85-e69b5633bb1e"
      },
      "outputs": [
        {
          "data": {
            "image/png": "[encoded data removed]",
            "text/plain": [
              "<Figure size 576x576 with 1 Axes>"
            ]
          },
          "metadata": {
            "needs_background": "light"
          },
          "output_type": "display_data"
        },
        {
          "data": {
            "image/png": "[encoded data removed]",
            "text/plain": [
              "<Figure size 576x576 with 1 Axes>"
            ]
          },
          "metadata": {
            "needs_background": "light"
          },
          "output_type": "display_data"
        }
      ],
      "source": [
        "plt.figure(figsize=(8,8))\n",
        "sns.distplot(df[\"TotalPurchases\"],color = 'orange')\n",
        "plt.show()\n",
        "df[\"TotalPurchases\"].plot.box(figsize=(8,8),color = 'orange')\n",
        "plt.show()"
      ]
    },
    {
      "cell_type": "code",
      "execution_count": null,
      "metadata": {
        "colab": {
          "base_uri": "https://localhost:8080/",
          "height": 279
        },
        "id": "kZ5qLJc7ePu6",
        "outputId": "231d579d-760a-4601-e8a5-6cbca5ce7c43"
      },
      "outputs": [
        {
          "data": {
            "image/png": "[encoded data removed]",
            "text/plain": [
              "<Figure size 432x288 with 1 Axes>"
            ]
          },
          "metadata": {
            "needs_background": "light"
          },
          "output_type": "display_data"
        }
      ],
      "source": [
        "sns.boxplot(x=\"TotalPurchases\", data=df)\n",
        "plt.show()"
      ]
    },
    {
      "cell_type": "code",
      "execution_count": null,
      "metadata": {
        "id": "FA-FKwLteaHS"
      },
      "outputs": [],
      "source": [
        "q1 = df['TotalPurchases'].quantile(.25)\n",
        "q3 = df['TotalPurchases'].quantile(.75)\n",
        "iqr = q3-q1\n",
        "\n",
        "df['TotalPurchases'] = df['TotalPurchases'].mask(((df['TotalPurchases'] > (q3+(1.5*iqr)))), (q3+(1.5*iqr)))"
      ]
    },
    {
      "cell_type": "code",
      "execution_count": null,
      "metadata": {
        "colab": {
          "base_uri": "https://localhost:8080/",
          "height": 279
        },
        "id": "B9vYHPDUek9A",
        "outputId": "5a3f0627-22ec-43ed-e017-4729ee0b2e48"
      },
      "outputs": [
        {
          "data": {
            "image/png": "[encoded data removed]",
            "text/plain": [
              "<Figure size 432x288 with 1 Axes>"
            ]
          },
          "metadata": {
            "needs_background": "light"
          },
          "output_type": "display_data"
        }
      ],
      "source": [
        "sns.boxplot(x=\"TotalPurchases\", data=df)\n",
        "plt.show()"
      ]
    },
    {
      "cell_type": "code",
      "execution_count": null,
      "metadata": {
        "colab": {
          "base_uri": "https://localhost:8080/",
          "height": 963
        },
        "id": "SLls2kkqembo",
        "outputId": "f81d5f5f-6756-4fd5-c476-f1a1c203a0d5"
      },
      "outputs": [
        {
          "data": {
            "image/png": "[encoded data removed]",
            "text/plain": [
              "<Figure size 576x576 with 1 Axes>"
            ]
          },
          "metadata": {
            "needs_background": "light"
          },
          "output_type": "display_data"
        },
        {
          "data": {
            "image/png": "[encoded data removed]",
            "text/plain": [
              "<Figure size 576x576 with 1 Axes>"
            ]
          },
          "metadata": {
            "needs_background": "light"
          },
          "output_type": "display_data"
        }
      ],
      "source": [
        "plt.figure(figsize=(8,8))\n",
        "sns.distplot(df[\"TotalPurchases\"],color = 'orange')\n",
        "plt.show()\n",
        "df[\"TotalPurchases\"].plot.box(figsize=(8,8),color = 'orange')\n",
        "plt.show()"
      ]
    },
    {
      "cell_type": "markdown",
      "metadata": {
        "id": "vlYt0PVQe3zL"
      },
      "source": [
        "## drop column "
      ]
    },
    {
      "cell_type": "code",
      "execution_count": null,
      "metadata": {
        "colab": {
          "base_uri": "https://localhost:8080/"
        },
        "id": "VBlvb0a6e_hv",
        "outputId": "286a9151-6388-4141-e591-d8a02e053dad"
      },
      "outputs": [
        {
          "name": "stdout",
          "output_type": "stream",
          "text": [
            "<class 'pandas.core.frame.DataFrame'>\n",
            "Int64Index: 2030 entries, 0 to 2239\n",
            "Data columns (total 31 columns):\n",
            " #   Column            Non-Null Count  Dtype  \n",
            "---  ------            --------------  -----  \n",
            " 0   ID                2030 non-null   int64  \n",
            " 1   Year_Birth        2030 non-null   int64  \n",
            " 2   Education         2030 non-null   object \n",
            " 3   Mariage           2030 non-null   object \n",
            " 4   Income            2030 non-null   float64\n",
            " 5   Kidhome           2030 non-null   int64  \n",
            " 6   Teenhome          2030 non-null   int64  \n",
            " 7   Dt_Customer       2030 non-null   object \n",
            " 8   Recency           2030 non-null   int64  \n",
            " 9   Wines             2030 non-null   int64  \n",
            " 10  Fruits            2030 non-null   int64  \n",
            " 11  Meat              2030 non-null   int64  \n",
            " 12  Fish              2030 non-null   int64  \n",
            " 13  Sweets            2030 non-null   int64  \n",
            " 14  Gold              2030 non-null   int64  \n",
            " 15  Dealsp            2030 non-null   int64  \n",
            " 16  Webp              2030 non-null   int64  \n",
            " 17  Catalogp          2030 non-null   int64  \n",
            " 18  Storep            2030 non-null   int64  \n",
            " 19  WebVisit          2030 non-null   int64  \n",
            " 20  AcceptedCmp3      2030 non-null   int64  \n",
            " 21  AcceptedCmp4      2030 non-null   int64  \n",
            " 22  AcceptedCmp5      2030 non-null   int64  \n",
            " 23  AcceptedCmp1      2030 non-null   int64  \n",
            " 24  AcceptedCmp2      2030 non-null   int64  \n",
            " 25  Complain          2030 non-null   int64  \n",
            " 26  Response          2030 non-null   int64  \n",
            " 27  Children          2030 non-null   int64  \n",
            " 28  Expenses          2030 non-null   float64\n",
            " 29  TotalAcceptedCmp  2030 non-null   int64  \n",
            " 30  TotalPurchases    2030 non-null   float64\n",
            "dtypes: float64(3), int64(25), object(3)\n",
            "memory usage: 507.5+ KB\n"
          ]
        }
      ],
      "source": [
        "df.info()"
      ]
    },
    {
      "cell_type": "code",
      "execution_count": null,
      "metadata": {
        "id": "z6UpZzp2e6na"
      },
      "outputs": [],
      "source": [
        "col_del = [\"ID\",\"AcceptedCmp1\" , \"AcceptedCmp2\", \"AcceptedCmp3\" , \"AcceptedCmp4\",\"AcceptedCmp5\",\"WebVisit\", \"Webp\",\"Catalogp\",\"Storep\",\"Dealsp\" , \"Kidhome\", \"Teenhome\",\"Wines\", \"Fruits\", \"Meat\", \"Fish\", \"Sweets\", \"Gold\"]\n",
        "df=df.drop(columns=col_del,axis=1)\n"
      ]
    },
    {
      "cell_type": "code",
      "execution_count": null,
      "metadata": {
        "colab": {
          "base_uri": "https://localhost:8080/",
          "height": 206
        },
        "id": "VE7MIlGxfZBN",
        "outputId": "ae9798ed-f188-468b-af59-6f72f6fd0ed9"
      },
      "outputs": [
        {
          "data": {
            "text/html": [
              "<style type=\"text/css\">\n",
              "#T_c5948_row0_col0 {\n",
              "  background-color: #f2f0f7;\n",
              "  color: #000000;\n",
              "}\n",
              "#T_c5948_row0_col3 {\n",
              "  background-color: #7262ac;\n",
              "  color: #f1f1f1;\n",
              "}\n",
              "#T_c5948_row0_col5, #T_c5948_row2_col9 {\n",
              "  background-color: #a5a2cd;\n",
              "  color: #f1f1f1;\n",
              "}\n",
              "#T_c5948_row0_col6, #T_c5948_row0_col8, #T_c5948_row0_col10, #T_c5948_row1_col0, #T_c5948_row1_col6, #T_c5948_row1_col7, #T_c5948_row1_col9, #T_c5948_row1_col10, #T_c5948_row1_col11, #T_c5948_row2_col5, #T_c5948_row2_col6, #T_c5948_row2_col7, #T_c5948_row2_col8, #T_c5948_row2_col10, #T_c5948_row3_col3, #T_c5948_row3_col5, #T_c5948_row3_col6, #T_c5948_row3_col7, #T_c5948_row3_col10, #T_c5948_row4_col6, #T_c5948_row4_col7, #T_c5948_row4_col10 {\n",
              "  background-color: #fcfbfd;\n",
              "  color: #000000;\n",
              "}\n",
              "#T_c5948_row0_col7, #T_c5948_row0_col9, #T_c5948_row0_col11, #T_c5948_row1_col8, #T_c5948_row2_col3, #T_c5948_row3_col0, #T_c5948_row4_col5 {\n",
              "  background-color: #3f007d;\n",
              "  color: #f1f1f1;\n",
              "}\n",
              "#T_c5948_row1_col3 {\n",
              "  background-color: #adabd2;\n",
              "  color: #000000;\n",
              "}\n",
              "#T_c5948_row1_col5 {\n",
              "  background-color: #e6e5f1;\n",
              "  color: #000000;\n",
              "}\n",
              "#T_c5948_row2_col0 {\n",
              "  background-color: #bebfdd;\n",
              "  color: #000000;\n",
              "}\n",
              "#T_c5948_row2_col11 {\n",
              "  background-color: #63439c;\n",
              "  color: #f1f1f1;\n",
              "}\n",
              "#T_c5948_row3_col8, #T_c5948_row4_col8 {\n",
              "  background-color: #9e9ac8;\n",
              "  color: #f1f1f1;\n",
              "}\n",
              "#T_c5948_row3_col9 {\n",
              "  background-color: #faf9fc;\n",
              "  color: #000000;\n",
              "}\n",
              "#T_c5948_row3_col11 {\n",
              "  background-color: #f1f0f6;\n",
              "  color: #000000;\n",
              "}\n",
              "#T_c5948_row4_col0 {\n",
              "  background-color: #4f1f8b;\n",
              "  color: #f1f1f1;\n",
              "}\n",
              "#T_c5948_row4_col3 {\n",
              "  background-color: #7261ab;\n",
              "  color: #f1f1f1;\n",
              "}\n",
              "#T_c5948_row4_col9 {\n",
              "  background-color: #dadaeb;\n",
              "  color: #000000;\n",
              "}\n",
              "#T_c5948_row4_col11 {\n",
              "  background-color: #7567af;\n",
              "  color: #f1f1f1;\n",
              "}\n",
              "</style>\n",
              "<table id=\"T_c5948_\" class=\"dataframe\">\n",
              "  <thead>\n",
              "    <tr>\n",
              "      <th class=\"blank level0\" >&nbsp;</th>\n",
              "      <th class=\"col_heading level0 col0\" >Year_Birth</th>\n",
              "      <th class=\"col_heading level0 col1\" >Education</th>\n",
              "      <th class=\"col_heading level0 col2\" >Mariage</th>\n",
              "      <th class=\"col_heading level0 col3\" >Income</th>\n",
              "      <th class=\"col_heading level0 col4\" >Dt_Customer</th>\n",
              "      <th class=\"col_heading level0 col5\" >Recency</th>\n",
              "      <th class=\"col_heading level0 col6\" >Complain</th>\n",
              "      <th class=\"col_heading level0 col7\" >Response</th>\n",
              "      <th class=\"col_heading level0 col8\" >Children</th>\n",
              "      <th class=\"col_heading level0 col9\" >Expenses</th>\n",
              "      <th class=\"col_heading level0 col10\" >TotalAcceptedCmp</th>\n",
              "      <th class=\"col_heading level0 col11\" >TotalPurchases</th>\n",
              "    </tr>\n",
              "  </thead>\n",
              "  <tbody>\n",
              "    <tr>\n",
              "      <th id=\"T_c5948_level0_row0\" class=\"row_heading level0 row0\" >0</th>\n",
              "      <td id=\"T_c5948_row0_col0\" class=\"data row0 col0\" >1957</td>\n",
              "      <td id=\"T_c5948_row0_col1\" class=\"data row0 col1\" >Post Graduate</td>\n",
              "      <td id=\"T_c5948_row0_col2\" class=\"data row0 col2\" >Single</td>\n",
              "      <td id=\"T_c5948_row0_col3\" class=\"data row0 col3\" >58138.000000</td>\n",
              "      <td id=\"T_c5948_row0_col4\" class=\"data row0 col4\" >04-09-2012</td>\n",
              "      <td id=\"T_c5948_row0_col5\" class=\"data row0 col5\" >58</td>\n",
              "      <td id=\"T_c5948_row0_col6\" class=\"data row0 col6\" >0</td>\n",
              "      <td id=\"T_c5948_row0_col7\" class=\"data row0 col7\" >1</td>\n",
              "      <td id=\"T_c5948_row0_col8\" class=\"data row0 col8\" >0</td>\n",
              "      <td id=\"T_c5948_row0_col9\" class=\"data row0 col9\" >1617.000000</td>\n",
              "      <td id=\"T_c5948_row0_col10\" class=\"data row0 col10\" >0</td>\n",
              "      <td id=\"T_c5948_row0_col11\" class=\"data row0 col11\" >25.000000</td>\n",
              "    </tr>\n",
              "    <tr>\n",
              "      <th id=\"T_c5948_level0_row1\" class=\"row_heading level0 row1\" >1</th>\n",
              "      <td id=\"T_c5948_row1_col0\" class=\"data row1 col0\" >1954</td>\n",
              "      <td id=\"T_c5948_row1_col1\" class=\"data row1 col1\" >Post Graduate</td>\n",
              "      <td id=\"T_c5948_row1_col2\" class=\"data row1 col2\" >Single</td>\n",
              "      <td id=\"T_c5948_row1_col3\" class=\"data row1 col3\" >46344.000000</td>\n",
              "      <td id=\"T_c5948_row1_col4\" class=\"data row1 col4\" >08-03-2014</td>\n",
              "      <td id=\"T_c5948_row1_col5\" class=\"data row1 col5\" >38</td>\n",
              "      <td id=\"T_c5948_row1_col6\" class=\"data row1 col6\" >0</td>\n",
              "      <td id=\"T_c5948_row1_col7\" class=\"data row1 col7\" >0</td>\n",
              "      <td id=\"T_c5948_row1_col8\" class=\"data row1 col8\" >2</td>\n",
              "      <td id=\"T_c5948_row1_col9\" class=\"data row1 col9\" >27.000000</td>\n",
              "      <td id=\"T_c5948_row1_col10\" class=\"data row1 col10\" >0</td>\n",
              "      <td id=\"T_c5948_row1_col11\" class=\"data row1 col11\" >6.000000</td>\n",
              "    </tr>\n",
              "    <tr>\n",
              "      <th id=\"T_c5948_level0_row2\" class=\"row_heading level0 row2\" >2</th>\n",
              "      <td id=\"T_c5948_row2_col0\" class=\"data row2 col0\" >1965</td>\n",
              "      <td id=\"T_c5948_row2_col1\" class=\"data row2 col1\" >Post Graduate</td>\n",
              "      <td id=\"T_c5948_row2_col2\" class=\"data row2 col2\" >Relationship</td>\n",
              "      <td id=\"T_c5948_row2_col3\" class=\"data row2 col3\" >71613.000000</td>\n",
              "      <td id=\"T_c5948_row2_col4\" class=\"data row2 col4\" >21-08-2013</td>\n",
              "      <td id=\"T_c5948_row2_col5\" class=\"data row2 col5\" >26</td>\n",
              "      <td id=\"T_c5948_row2_col6\" class=\"data row2 col6\" >0</td>\n",
              "      <td id=\"T_c5948_row2_col7\" class=\"data row2 col7\" >0</td>\n",
              "      <td id=\"T_c5948_row2_col8\" class=\"data row2 col8\" >0</td>\n",
              "      <td id=\"T_c5948_row2_col9\" class=\"data row2 col9\" >776.000000</td>\n",
              "      <td id=\"T_c5948_row2_col10\" class=\"data row2 col10\" >0</td>\n",
              "      <td id=\"T_c5948_row2_col11\" class=\"data row2 col11\" >21.000000</td>\n",
              "    </tr>\n",
              "    <tr>\n",
              "      <th id=\"T_c5948_level0_row3\" class=\"row_heading level0 row3\" >3</th>\n",
              "      <td id=\"T_c5948_row3_col0\" class=\"data row3 col0\" >1984</td>\n",
              "      <td id=\"T_c5948_row3_col1\" class=\"data row3 col1\" >Post Graduate</td>\n",
              "      <td id=\"T_c5948_row3_col2\" class=\"data row3 col2\" >Relationship</td>\n",
              "      <td id=\"T_c5948_row3_col3\" class=\"data row3 col3\" >26646.000000</td>\n",
              "      <td id=\"T_c5948_row3_col4\" class=\"data row3 col4\" >10-02-2014</td>\n",
              "      <td id=\"T_c5948_row3_col5\" class=\"data row3 col5\" >26</td>\n",
              "      <td id=\"T_c5948_row3_col6\" class=\"data row3 col6\" >0</td>\n",
              "      <td id=\"T_c5948_row3_col7\" class=\"data row3 col7\" >0</td>\n",
              "      <td id=\"T_c5948_row3_col8\" class=\"data row3 col8\" >1</td>\n",
              "      <td id=\"T_c5948_row3_col9\" class=\"data row3 col9\" >53.000000</td>\n",
              "      <td id=\"T_c5948_row3_col10\" class=\"data row3 col10\" >0</td>\n",
              "      <td id=\"T_c5948_row3_col11\" class=\"data row3 col11\" >8.000000</td>\n",
              "    </tr>\n",
              "    <tr>\n",
              "      <th id=\"T_c5948_level0_row4\" class=\"row_heading level0 row4\" >4</th>\n",
              "      <td id=\"T_c5948_row4_col0\" class=\"data row4 col0\" >1981</td>\n",
              "      <td id=\"T_c5948_row4_col1\" class=\"data row4 col1\" >Post Graduate</td>\n",
              "      <td id=\"T_c5948_row4_col2\" class=\"data row4 col2\" >Relationship</td>\n",
              "      <td id=\"T_c5948_row4_col3\" class=\"data row4 col3\" >58293.000000</td>\n",
              "      <td id=\"T_c5948_row4_col4\" class=\"data row4 col4\" >19-01-2014</td>\n",
              "      <td id=\"T_c5948_row4_col5\" class=\"data row4 col5\" >94</td>\n",
              "      <td id=\"T_c5948_row4_col6\" class=\"data row4 col6\" >0</td>\n",
              "      <td id=\"T_c5948_row4_col7\" class=\"data row4 col7\" >0</td>\n",
              "      <td id=\"T_c5948_row4_col8\" class=\"data row4 col8\" >1</td>\n",
              "      <td id=\"T_c5948_row4_col9\" class=\"data row4 col9\" >422.000000</td>\n",
              "      <td id=\"T_c5948_row4_col10\" class=\"data row4 col10\" >0</td>\n",
              "      <td id=\"T_c5948_row4_col11\" class=\"data row4 col11\" >19.000000</td>\n",
              "    </tr>\n",
              "  </tbody>\n",
              "</table>\n"
            ],
            "text/plain": [
              "<pandas.io.formats.style.Styler at 0x7f4d97563c10>"
            ]
          },
          "execution_count": 67,
          "metadata": {},
          "output_type": "execute_result"
        }
      ],
      "source": [
        "df.head().style.background_gradient(cmap='Purples')"
      ]
    },
    {
      "cell_type": "markdown",
      "metadata": {
        "id": "kilG8RqWgCCg"
      },
      "source": [
        "## Dtstamp"
      ]
    },
    {
      "cell_type": "code",
      "execution_count": null,
      "metadata": {
        "id": "abwJMbYngELE"
      },
      "outputs": [],
      "source": [
        "# Membuat hari event pernikahan\n",
        "\n",
        "df['Dt_Customer'] = pd.to_datetime(df.Dt_Customer)\n",
        "df['First_day'] = '01-01-2015'\n",
        "df['First_day'] = pd.to_datetime(df.First_day)\n",
        "df['Day_engaged'] = (df['First_day'] - df['Dt_Customer']).dt.days"
      ]
    },
    {
      "cell_type": "markdown",
      "metadata": {
        "id": "YfWkVjfFf2Fa"
      },
      "source": [
        "## Age Member by Year"
      ]
    },
    {
      "cell_type": "code",
      "execution_count": null,
      "metadata": {
        "colab": {
          "base_uri": "https://localhost:8080/",
          "height": 460
        },
        "id": "B0zChMNmfl6o",
        "outputId": "f1641b50-caef-4c6f-f955-a2b7e8528be5"
      },
      "outputs": [
        {
          "name": "stdout",
          "output_type": "stream",
          "text": [
            "Unique categories present in the Age: 10    1073\n",
            "9      512\n",
            "11     445\n",
            "Name: Age, dtype: int64\n",
            "\n",
            "\n"
          ]
        },
        {
          "data": {
            "text/plain": [
              "<Figure size 576x576 with 0 Axes>"
            ]
          },
          "execution_count": 69,
          "metadata": {},
          "output_type": "execute_result"
        },
        {
          "data": {
            "image/png": "[encoded data removed]",
            "text/plain": [
              "<Figure size 432x288 with 1 Axes>"
            ]
          },
          "metadata": {
            "needs_background": "light"
          },
          "output_type": "display_data"
        },
        {
          "data": {
            "text/plain": [
              "<Figure size 576x576 with 0 Axes>"
            ]
          },
          "metadata": {},
          "output_type": "display_data"
        }
      ],
      "source": [
        "# membuat sudah berapa tahun costumer menjadi pelanggan\n",
        "df['Age'] = (pd.Timestamp('now').year) - (pd.to_datetime(df['Dt_Customer']).dt.year)\n",
        "\n",
        "print(\"Unique categories present in the Age:\",df['Age'].value_counts())\n",
        "print(\"\\n\")\n",
        "\n",
        "df['Age'].value_counts().plot(kind='bar',color = 'orange',edgecolor = \"black\",linewidth = 3)\n",
        "plt.title(\"Frequency Of Each Category in the Age Variable \\n\",fontsize=24)\n",
        "plt.figure(figsize=(8,8))"
      ]
    },
    {
      "cell_type": "markdown",
      "metadata": {
        "id": "HU0_jnoJhSOl"
      },
      "source": [
        "## drop column"
      ]
    },
    {
      "cell_type": "code",
      "execution_count": null,
      "metadata": {
        "colab": {
          "base_uri": "https://localhost:8080/",
          "height": 206
        },
        "id": "5UbzE07khUSK",
        "outputId": "7945cb19-56a8-4813-c8e8-b432bde5d299"
      },
      "outputs": [
        {
          "data": {
            "text/html": [
              "<style type=\"text/css\">\n",
              "#T_f0a8c_row0_col0 {\n",
              "  background-color: #f2f0f7;\n",
              "  color: #000000;\n",
              "}\n",
              "#T_f0a8c_row0_col3 {\n",
              "  background-color: #7262ac;\n",
              "  color: #f1f1f1;\n",
              "}\n",
              "#T_f0a8c_row0_col5, #T_f0a8c_row2_col9 {\n",
              "  background-color: #a5a2cd;\n",
              "  color: #f1f1f1;\n",
              "}\n",
              "#T_f0a8c_row0_col6, #T_f0a8c_row0_col8, #T_f0a8c_row0_col10, #T_f0a8c_row1_col0, #T_f0a8c_row1_col6, #T_f0a8c_row1_col7, #T_f0a8c_row1_col9, #T_f0a8c_row1_col10, #T_f0a8c_row1_col11, #T_f0a8c_row1_col14, #T_f0a8c_row2_col5, #T_f0a8c_row2_col6, #T_f0a8c_row2_col7, #T_f0a8c_row2_col8, #T_f0a8c_row2_col10, #T_f0a8c_row3_col3, #T_f0a8c_row3_col5, #T_f0a8c_row3_col6, #T_f0a8c_row3_col7, #T_f0a8c_row3_col10, #T_f0a8c_row3_col13, #T_f0a8c_row3_col14, #T_f0a8c_row4_col6, #T_f0a8c_row4_col7, #T_f0a8c_row4_col10, #T_f0a8c_row4_col14 {\n",
              "  background-color: #fcfbfd;\n",
              "  color: #000000;\n",
              "}\n",
              "#T_f0a8c_row0_col7, #T_f0a8c_row0_col9, #T_f0a8c_row0_col11, #T_f0a8c_row0_col13, #T_f0a8c_row0_col14, #T_f0a8c_row1_col8, #T_f0a8c_row2_col3, #T_f0a8c_row3_col0, #T_f0a8c_row4_col5 {\n",
              "  background-color: #3f007d;\n",
              "  color: #f1f1f1;\n",
              "}\n",
              "#T_f0a8c_row1_col3 {\n",
              "  background-color: #adabd2;\n",
              "  color: #000000;\n",
              "}\n",
              "#T_f0a8c_row1_col5 {\n",
              "  background-color: #e6e5f1;\n",
              "  color: #000000;\n",
              "}\n",
              "#T_f0a8c_row1_col13 {\n",
              "  background-color: #f5f4f9;\n",
              "  color: #000000;\n",
              "}\n",
              "#T_f0a8c_row2_col0 {\n",
              "  background-color: #bebfdd;\n",
              "  color: #000000;\n",
              "}\n",
              "#T_f0a8c_row2_col11 {\n",
              "  background-color: #63439c;\n",
              "  color: #f1f1f1;\n",
              "}\n",
              "#T_f0a8c_row2_col13 {\n",
              "  background-color: #aaa8d0;\n",
              "  color: #000000;\n",
              "}\n",
              "#T_f0a8c_row2_col14, #T_f0a8c_row3_col8, #T_f0a8c_row4_col8 {\n",
              "  background-color: #9e9ac8;\n",
              "  color: #f1f1f1;\n",
              "}\n",
              "#T_f0a8c_row3_col9 {\n",
              "  background-color: #faf9fc;\n",
              "  color: #000000;\n",
              "}\n",
              "#T_f0a8c_row3_col11 {\n",
              "  background-color: #f1f0f6;\n",
              "  color: #000000;\n",
              "}\n",
              "#T_f0a8c_row4_col0 {\n",
              "  background-color: #4f1f8b;\n",
              "  color: #f1f1f1;\n",
              "}\n",
              "#T_f0a8c_row4_col3 {\n",
              "  background-color: #7261ab;\n",
              "  color: #f1f1f1;\n",
              "}\n",
              "#T_f0a8c_row4_col9 {\n",
              "  background-color: #dadaeb;\n",
              "  color: #000000;\n",
              "}\n",
              "#T_f0a8c_row4_col11 {\n",
              "  background-color: #7567af;\n",
              "  color: #f1f1f1;\n",
              "}\n",
              "#T_f0a8c_row4_col13 {\n",
              "  background-color: #d2d2e7;\n",
              "  color: #000000;\n",
              "}\n",
              "</style>\n",
              "<table id=\"T_f0a8c_\" class=\"dataframe\">\n",
              "  <thead>\n",
              "    <tr>\n",
              "      <th class=\"blank level0\" >&nbsp;</th>\n",
              "      <th class=\"col_heading level0 col0\" >Year_Birth</th>\n",
              "      <th class=\"col_heading level0 col1\" >Education</th>\n",
              "      <th class=\"col_heading level0 col2\" >Mariage</th>\n",
              "      <th class=\"col_heading level0 col3\" >Income</th>\n",
              "      <th class=\"col_heading level0 col4\" >Dt_Customer</th>\n",
              "      <th class=\"col_heading level0 col5\" >Recency</th>\n",
              "      <th class=\"col_heading level0 col6\" >Complain</th>\n",
              "      <th class=\"col_heading level0 col7\" >Response</th>\n",
              "      <th class=\"col_heading level0 col8\" >Children</th>\n",
              "      <th class=\"col_heading level0 col9\" >Expenses</th>\n",
              "      <th class=\"col_heading level0 col10\" >TotalAcceptedCmp</th>\n",
              "      <th class=\"col_heading level0 col11\" >TotalPurchases</th>\n",
              "      <th class=\"col_heading level0 col12\" >First_day</th>\n",
              "      <th class=\"col_heading level0 col13\" >Day_engaged</th>\n",
              "      <th class=\"col_heading level0 col14\" >Age</th>\n",
              "    </tr>\n",
              "  </thead>\n",
              "  <tbody>\n",
              "    <tr>\n",
              "      <th id=\"T_f0a8c_level0_row0\" class=\"row_heading level0 row0\" >0</th>\n",
              "      <td id=\"T_f0a8c_row0_col0\" class=\"data row0 col0\" >1957</td>\n",
              "      <td id=\"T_f0a8c_row0_col1\" class=\"data row0 col1\" >Post Graduate</td>\n",
              "      <td id=\"T_f0a8c_row0_col2\" class=\"data row0 col2\" >Single</td>\n",
              "      <td id=\"T_f0a8c_row0_col3\" class=\"data row0 col3\" >58138.000000</td>\n",
              "      <td id=\"T_f0a8c_row0_col4\" class=\"data row0 col4\" >2012-04-09 00:00:00</td>\n",
              "      <td id=\"T_f0a8c_row0_col5\" class=\"data row0 col5\" >58</td>\n",
              "      <td id=\"T_f0a8c_row0_col6\" class=\"data row0 col6\" >0</td>\n",
              "      <td id=\"T_f0a8c_row0_col7\" class=\"data row0 col7\" >1</td>\n",
              "      <td id=\"T_f0a8c_row0_col8\" class=\"data row0 col8\" >0</td>\n",
              "      <td id=\"T_f0a8c_row0_col9\" class=\"data row0 col9\" >1617.000000</td>\n",
              "      <td id=\"T_f0a8c_row0_col10\" class=\"data row0 col10\" >0</td>\n",
              "      <td id=\"T_f0a8c_row0_col11\" class=\"data row0 col11\" >25.000000</td>\n",
              "      <td id=\"T_f0a8c_row0_col12\" class=\"data row0 col12\" >2015-01-01 00:00:00</td>\n",
              "      <td id=\"T_f0a8c_row0_col13\" class=\"data row0 col13\" >997</td>\n",
              "      <td id=\"T_f0a8c_row0_col14\" class=\"data row0 col14\" >11</td>\n",
              "    </tr>\n",
              "    <tr>\n",
              "      <th id=\"T_f0a8c_level0_row1\" class=\"row_heading level0 row1\" >1</th>\n",
              "      <td id=\"T_f0a8c_row1_col0\" class=\"data row1 col0\" >1954</td>\n",
              "      <td id=\"T_f0a8c_row1_col1\" class=\"data row1 col1\" >Post Graduate</td>\n",
              "      <td id=\"T_f0a8c_row1_col2\" class=\"data row1 col2\" >Single</td>\n",
              "      <td id=\"T_f0a8c_row1_col3\" class=\"data row1 col3\" >46344.000000</td>\n",
              "      <td id=\"T_f0a8c_row1_col4\" class=\"data row1 col4\" >2014-08-03 00:00:00</td>\n",
              "      <td id=\"T_f0a8c_row1_col5\" class=\"data row1 col5\" >38</td>\n",
              "      <td id=\"T_f0a8c_row1_col6\" class=\"data row1 col6\" >0</td>\n",
              "      <td id=\"T_f0a8c_row1_col7\" class=\"data row1 col7\" >0</td>\n",
              "      <td id=\"T_f0a8c_row1_col8\" class=\"data row1 col8\" >2</td>\n",
              "      <td id=\"T_f0a8c_row1_col9\" class=\"data row1 col9\" >27.000000</td>\n",
              "      <td id=\"T_f0a8c_row1_col10\" class=\"data row1 col10\" >0</td>\n",
              "      <td id=\"T_f0a8c_row1_col11\" class=\"data row1 col11\" >6.000000</td>\n",
              "      <td id=\"T_f0a8c_row1_col12\" class=\"data row1 col12\" >2015-01-01 00:00:00</td>\n",
              "      <td id=\"T_f0a8c_row1_col13\" class=\"data row1 col13\" >151</td>\n",
              "      <td id=\"T_f0a8c_row1_col14\" class=\"data row1 col14\" >9</td>\n",
              "    </tr>\n",
              "    <tr>\n",
              "      <th id=\"T_f0a8c_level0_row2\" class=\"row_heading level0 row2\" >2</th>\n",
              "      <td id=\"T_f0a8c_row2_col0\" class=\"data row2 col0\" >1965</td>\n",
              "      <td id=\"T_f0a8c_row2_col1\" class=\"data row2 col1\" >Post Graduate</td>\n",
              "      <td id=\"T_f0a8c_row2_col2\" class=\"data row2 col2\" >Relationship</td>\n",
              "      <td id=\"T_f0a8c_row2_col3\" class=\"data row2 col3\" >71613.000000</td>\n",
              "      <td id=\"T_f0a8c_row2_col4\" class=\"data row2 col4\" >2013-08-21 00:00:00</td>\n",
              "      <td id=\"T_f0a8c_row2_col5\" class=\"data row2 col5\" >26</td>\n",
              "      <td id=\"T_f0a8c_row2_col6\" class=\"data row2 col6\" >0</td>\n",
              "      <td id=\"T_f0a8c_row2_col7\" class=\"data row2 col7\" >0</td>\n",
              "      <td id=\"T_f0a8c_row2_col8\" class=\"data row2 col8\" >0</td>\n",
              "      <td id=\"T_f0a8c_row2_col9\" class=\"data row2 col9\" >776.000000</td>\n",
              "      <td id=\"T_f0a8c_row2_col10\" class=\"data row2 col10\" >0</td>\n",
              "      <td id=\"T_f0a8c_row2_col11\" class=\"data row2 col11\" >21.000000</td>\n",
              "      <td id=\"T_f0a8c_row2_col12\" class=\"data row2 col12\" >2015-01-01 00:00:00</td>\n",
              "      <td id=\"T_f0a8c_row2_col13\" class=\"data row2 col13\" >498</td>\n",
              "      <td id=\"T_f0a8c_row2_col14\" class=\"data row2 col14\" >10</td>\n",
              "    </tr>\n",
              "    <tr>\n",
              "      <th id=\"T_f0a8c_level0_row3\" class=\"row_heading level0 row3\" >3</th>\n",
              "      <td id=\"T_f0a8c_row3_col0\" class=\"data row3 col0\" >1984</td>\n",
              "      <td id=\"T_f0a8c_row3_col1\" class=\"data row3 col1\" >Post Graduate</td>\n",
              "      <td id=\"T_f0a8c_row3_col2\" class=\"data row3 col2\" >Relationship</td>\n",
              "      <td id=\"T_f0a8c_row3_col3\" class=\"data row3 col3\" >26646.000000</td>\n",
              "      <td id=\"T_f0a8c_row3_col4\" class=\"data row3 col4\" >2014-10-02 00:00:00</td>\n",
              "      <td id=\"T_f0a8c_row3_col5\" class=\"data row3 col5\" >26</td>\n",
              "      <td id=\"T_f0a8c_row3_col6\" class=\"data row3 col6\" >0</td>\n",
              "      <td id=\"T_f0a8c_row3_col7\" class=\"data row3 col7\" >0</td>\n",
              "      <td id=\"T_f0a8c_row3_col8\" class=\"data row3 col8\" >1</td>\n",
              "      <td id=\"T_f0a8c_row3_col9\" class=\"data row3 col9\" >53.000000</td>\n",
              "      <td id=\"T_f0a8c_row3_col10\" class=\"data row3 col10\" >0</td>\n",
              "      <td id=\"T_f0a8c_row3_col11\" class=\"data row3 col11\" >8.000000</td>\n",
              "      <td id=\"T_f0a8c_row3_col12\" class=\"data row3 col12\" >2015-01-01 00:00:00</td>\n",
              "      <td id=\"T_f0a8c_row3_col13\" class=\"data row3 col13\" >91</td>\n",
              "      <td id=\"T_f0a8c_row3_col14\" class=\"data row3 col14\" >9</td>\n",
              "    </tr>\n",
              "    <tr>\n",
              "      <th id=\"T_f0a8c_level0_row4\" class=\"row_heading level0 row4\" >4</th>\n",
              "      <td id=\"T_f0a8c_row4_col0\" class=\"data row4 col0\" >1981</td>\n",
              "      <td id=\"T_f0a8c_row4_col1\" class=\"data row4 col1\" >Post Graduate</td>\n",
              "      <td id=\"T_f0a8c_row4_col2\" class=\"data row4 col2\" >Relationship</td>\n",
              "      <td id=\"T_f0a8c_row4_col3\" class=\"data row4 col3\" >58293.000000</td>\n",
              "      <td id=\"T_f0a8c_row4_col4\" class=\"data row4 col4\" >2014-01-19 00:00:00</td>\n",
              "      <td id=\"T_f0a8c_row4_col5\" class=\"data row4 col5\" >94</td>\n",
              "      <td id=\"T_f0a8c_row4_col6\" class=\"data row4 col6\" >0</td>\n",
              "      <td id=\"T_f0a8c_row4_col7\" class=\"data row4 col7\" >0</td>\n",
              "      <td id=\"T_f0a8c_row4_col8\" class=\"data row4 col8\" >1</td>\n",
              "      <td id=\"T_f0a8c_row4_col9\" class=\"data row4 col9\" >422.000000</td>\n",
              "      <td id=\"T_f0a8c_row4_col10\" class=\"data row4 col10\" >0</td>\n",
              "      <td id=\"T_f0a8c_row4_col11\" class=\"data row4 col11\" >19.000000</td>\n",
              "      <td id=\"T_f0a8c_row4_col12\" class=\"data row4 col12\" >2015-01-01 00:00:00</td>\n",
              "      <td id=\"T_f0a8c_row4_col13\" class=\"data row4 col13\" >347</td>\n",
              "      <td id=\"T_f0a8c_row4_col14\" class=\"data row4 col14\" >9</td>\n",
              "    </tr>\n",
              "  </tbody>\n",
              "</table>\n"
            ],
            "text/plain": [
              "<pandas.io.formats.style.Styler at 0x7f4d99614a00>"
            ]
          },
          "execution_count": 70,
          "metadata": {},
          "output_type": "execute_result"
        }
      ],
      "source": [
        "df.head(5).style.background_gradient(cmap='Purples')"
      ]
    },
    {
      "cell_type": "code",
      "execution_count": null,
      "metadata": {
        "colab": {
          "base_uri": "https://localhost:8080/",
          "height": 206
        },
        "id": "gtgLAy1mhXWD",
        "outputId": "4c1fac88-07a9-4735-e995-b5602056a7f2"
      },
      "outputs": [
        {
          "data": {
            "text/html": [
              "<style type=\"text/css\">\n",
              "#T_70334_row0_col2 {\n",
              "  background-color: #7262ac;\n",
              "  color: #f1f1f1;\n",
              "}\n",
              "#T_70334_row0_col3, #T_70334_row0_col5, #T_70334_row0_col7, #T_70334_row0_col8, #T_70334_row0_col9, #T_70334_row1_col4, #T_70334_row2_col2 {\n",
              "  background-color: #3f007d;\n",
              "  color: #f1f1f1;\n",
              "}\n",
              "#T_70334_row0_col4, #T_70334_row0_col6, #T_70334_row1_col3, #T_70334_row1_col5, #T_70334_row1_col6, #T_70334_row1_col7, #T_70334_row1_col9, #T_70334_row2_col3, #T_70334_row2_col4, #T_70334_row2_col6, #T_70334_row3_col2, #T_70334_row3_col3, #T_70334_row3_col6, #T_70334_row3_col8, #T_70334_row3_col9, #T_70334_row4_col3, #T_70334_row4_col6, #T_70334_row4_col9 {\n",
              "  background-color: #fcfbfd;\n",
              "  color: #000000;\n",
              "}\n",
              "#T_70334_row1_col2 {\n",
              "  background-color: #adabd2;\n",
              "  color: #000000;\n",
              "}\n",
              "#T_70334_row1_col8 {\n",
              "  background-color: #f5f4f9;\n",
              "  color: #000000;\n",
              "}\n",
              "#T_70334_row2_col5 {\n",
              "  background-color: #a5a2cd;\n",
              "  color: #f1f1f1;\n",
              "}\n",
              "#T_70334_row2_col7 {\n",
              "  background-color: #63439c;\n",
              "  color: #f1f1f1;\n",
              "}\n",
              "#T_70334_row2_col8 {\n",
              "  background-color: #aaa8d0;\n",
              "  color: #000000;\n",
              "}\n",
              "#T_70334_row2_col9, #T_70334_row3_col4, #T_70334_row4_col4 {\n",
              "  background-color: #9e9ac8;\n",
              "  color: #f1f1f1;\n",
              "}\n",
              "#T_70334_row3_col5 {\n",
              "  background-color: #faf9fc;\n",
              "  color: #000000;\n",
              "}\n",
              "#T_70334_row3_col7 {\n",
              "  background-color: #f1f0f6;\n",
              "  color: #000000;\n",
              "}\n",
              "#T_70334_row4_col2 {\n",
              "  background-color: #7261ab;\n",
              "  color: #f1f1f1;\n",
              "}\n",
              "#T_70334_row4_col5 {\n",
              "  background-color: #dadaeb;\n",
              "  color: #000000;\n",
              "}\n",
              "#T_70334_row4_col7 {\n",
              "  background-color: #7567af;\n",
              "  color: #f1f1f1;\n",
              "}\n",
              "#T_70334_row4_col8 {\n",
              "  background-color: #d2d2e7;\n",
              "  color: #000000;\n",
              "}\n",
              "</style>\n",
              "<table id=\"T_70334_\" class=\"dataframe\">\n",
              "  <thead>\n",
              "    <tr>\n",
              "      <th class=\"blank level0\" >&nbsp;</th>\n",
              "      <th class=\"col_heading level0 col0\" >Education</th>\n",
              "      <th class=\"col_heading level0 col1\" >Mariage</th>\n",
              "      <th class=\"col_heading level0 col2\" >Income</th>\n",
              "      <th class=\"col_heading level0 col3\" >Response</th>\n",
              "      <th class=\"col_heading level0 col4\" >Children</th>\n",
              "      <th class=\"col_heading level0 col5\" >Expenses</th>\n",
              "      <th class=\"col_heading level0 col6\" >TotalAcceptedCmp</th>\n",
              "      <th class=\"col_heading level0 col7\" >TotalPurchases</th>\n",
              "      <th class=\"col_heading level0 col8\" >Day_engaged</th>\n",
              "      <th class=\"col_heading level0 col9\" >Age</th>\n",
              "    </tr>\n",
              "  </thead>\n",
              "  <tbody>\n",
              "    <tr>\n",
              "      <th id=\"T_70334_level0_row0\" class=\"row_heading level0 row0\" >0</th>\n",
              "      <td id=\"T_70334_row0_col0\" class=\"data row0 col0\" >Post Graduate</td>\n",
              "      <td id=\"T_70334_row0_col1\" class=\"data row0 col1\" >Single</td>\n",
              "      <td id=\"T_70334_row0_col2\" class=\"data row0 col2\" >58138.000000</td>\n",
              "      <td id=\"T_70334_row0_col3\" class=\"data row0 col3\" >1</td>\n",
              "      <td id=\"T_70334_row0_col4\" class=\"data row0 col4\" >0</td>\n",
              "      <td id=\"T_70334_row0_col5\" class=\"data row0 col5\" >1617.000000</td>\n",
              "      <td id=\"T_70334_row0_col6\" class=\"data row0 col6\" >0</td>\n",
              "      <td id=\"T_70334_row0_col7\" class=\"data row0 col7\" >25.000000</td>\n",
              "      <td id=\"T_70334_row0_col8\" class=\"data row0 col8\" >997</td>\n",
              "      <td id=\"T_70334_row0_col9\" class=\"data row0 col9\" >11</td>\n",
              "    </tr>\n",
              "    <tr>\n",
              "      <th id=\"T_70334_level0_row1\" class=\"row_heading level0 row1\" >1</th>\n",
              "      <td id=\"T_70334_row1_col0\" class=\"data row1 col0\" >Post Graduate</td>\n",
              "      <td id=\"T_70334_row1_col1\" class=\"data row1 col1\" >Single</td>\n",
              "      <td id=\"T_70334_row1_col2\" class=\"data row1 col2\" >46344.000000</td>\n",
              "      <td id=\"T_70334_row1_col3\" class=\"data row1 col3\" >0</td>\n",
              "      <td id=\"T_70334_row1_col4\" class=\"data row1 col4\" >2</td>\n",
              "      <td id=\"T_70334_row1_col5\" class=\"data row1 col5\" >27.000000</td>\n",
              "      <td id=\"T_70334_row1_col6\" class=\"data row1 col6\" >0</td>\n",
              "      <td id=\"T_70334_row1_col7\" class=\"data row1 col7\" >6.000000</td>\n",
              "      <td id=\"T_70334_row1_col8\" class=\"data row1 col8\" >151</td>\n",
              "      <td id=\"T_70334_row1_col9\" class=\"data row1 col9\" >9</td>\n",
              "    </tr>\n",
              "    <tr>\n",
              "      <th id=\"T_70334_level0_row2\" class=\"row_heading level0 row2\" >2</th>\n",
              "      <td id=\"T_70334_row2_col0\" class=\"data row2 col0\" >Post Graduate</td>\n",
              "      <td id=\"T_70334_row2_col1\" class=\"data row2 col1\" >Relationship</td>\n",
              "      <td id=\"T_70334_row2_col2\" class=\"data row2 col2\" >71613.000000</td>\n",
              "      <td id=\"T_70334_row2_col3\" class=\"data row2 col3\" >0</td>\n",
              "      <td id=\"T_70334_row2_col4\" class=\"data row2 col4\" >0</td>\n",
              "      <td id=\"T_70334_row2_col5\" class=\"data row2 col5\" >776.000000</td>\n",
              "      <td id=\"T_70334_row2_col6\" class=\"data row2 col6\" >0</td>\n",
              "      <td id=\"T_70334_row2_col7\" class=\"data row2 col7\" >21.000000</td>\n",
              "      <td id=\"T_70334_row2_col8\" class=\"data row2 col8\" >498</td>\n",
              "      <td id=\"T_70334_row2_col9\" class=\"data row2 col9\" >10</td>\n",
              "    </tr>\n",
              "    <tr>\n",
              "      <th id=\"T_70334_level0_row3\" class=\"row_heading level0 row3\" >3</th>\n",
              "      <td id=\"T_70334_row3_col0\" class=\"data row3 col0\" >Post Graduate</td>\n",
              "      <td id=\"T_70334_row3_col1\" class=\"data row3 col1\" >Relationship</td>\n",
              "      <td id=\"T_70334_row3_col2\" class=\"data row3 col2\" >26646.000000</td>\n",
              "      <td id=\"T_70334_row3_col3\" class=\"data row3 col3\" >0</td>\n",
              "      <td id=\"T_70334_row3_col4\" class=\"data row3 col4\" >1</td>\n",
              "      <td id=\"T_70334_row3_col5\" class=\"data row3 col5\" >53.000000</td>\n",
              "      <td id=\"T_70334_row3_col6\" class=\"data row3 col6\" >0</td>\n",
              "      <td id=\"T_70334_row3_col7\" class=\"data row3 col7\" >8.000000</td>\n",
              "      <td id=\"T_70334_row3_col8\" class=\"data row3 col8\" >91</td>\n",
              "      <td id=\"T_70334_row3_col9\" class=\"data row3 col9\" >9</td>\n",
              "    </tr>\n",
              "    <tr>\n",
              "      <th id=\"T_70334_level0_row4\" class=\"row_heading level0 row4\" >4</th>\n",
              "      <td id=\"T_70334_row4_col0\" class=\"data row4 col0\" >Post Graduate</td>\n",
              "      <td id=\"T_70334_row4_col1\" class=\"data row4 col1\" >Relationship</td>\n",
              "      <td id=\"T_70334_row4_col2\" class=\"data row4 col2\" >58293.000000</td>\n",
              "      <td id=\"T_70334_row4_col3\" class=\"data row4 col3\" >0</td>\n",
              "      <td id=\"T_70334_row4_col4\" class=\"data row4 col4\" >1</td>\n",
              "      <td id=\"T_70334_row4_col5\" class=\"data row4 col5\" >422.000000</td>\n",
              "      <td id=\"T_70334_row4_col6\" class=\"data row4 col6\" >0</td>\n",
              "      <td id=\"T_70334_row4_col7\" class=\"data row4 col7\" >19.000000</td>\n",
              "      <td id=\"T_70334_row4_col8\" class=\"data row4 col8\" >347</td>\n",
              "      <td id=\"T_70334_row4_col9\" class=\"data row4 col9\" >9</td>\n",
              "    </tr>\n",
              "  </tbody>\n",
              "</table>\n"
            ],
            "text/plain": [
              "<pandas.io.formats.style.Styler at 0x7f4d9755be80>"
            ]
          },
          "execution_count": 71,
          "metadata": {},
          "output_type": "execute_result"
        }
      ],
      "source": [
        "df=df.drop(columns=[\"Dt_Customer\", \"First_day\", \"Year_Birth\", \"Dt_Customer\", \"Recency\", \"Complain\"],axis=1)\n",
        "df.head(5).style.background_gradient(cmap='Purples')"
      ]
    },
    {
      "cell_type": "code",
      "execution_count": null,
      "metadata": {
        "colab": {
          "base_uri": "https://localhost:8080/",
          "height": 206
        },
        "id": "u0RgnipIhp57",
        "outputId": "c210a724-cc1d-4f8f-8190-ce8d3acf318e"
      },
      "outputs": [
        {
          "data": {
            "text/html": [
              "<style type=\"text/css\">\n",
              "#T_904ac_row0_col2, #T_904ac_row0_col3, #T_904ac_row0_col5, #T_904ac_row0_col6, #T_904ac_row0_col9, #T_904ac_row1_col8, #T_904ac_row2_col7 {\n",
              "  background-color: #3f007d;\n",
              "  color: #f1f1f1;\n",
              "}\n",
              "#T_904ac_row0_col4, #T_904ac_row0_col8, #T_904ac_row1_col2, #T_904ac_row1_col3, #T_904ac_row1_col4, #T_904ac_row1_col5, #T_904ac_row1_col9, #T_904ac_row2_col4, #T_904ac_row2_col8, #T_904ac_row2_col9, #T_904ac_row3_col2, #T_904ac_row3_col4, #T_904ac_row3_col6, #T_904ac_row3_col7, #T_904ac_row3_col9, #T_904ac_row4_col2, #T_904ac_row4_col4, #T_904ac_row4_col9 {\n",
              "  background-color: #fcfbfd;\n",
              "  color: #000000;\n",
              "}\n",
              "#T_904ac_row0_col7 {\n",
              "  background-color: #7262ac;\n",
              "  color: #f1f1f1;\n",
              "}\n",
              "#T_904ac_row1_col6 {\n",
              "  background-color: #f5f4f9;\n",
              "  color: #000000;\n",
              "}\n",
              "#T_904ac_row1_col7 {\n",
              "  background-color: #adabd2;\n",
              "  color: #000000;\n",
              "}\n",
              "#T_904ac_row2_col2, #T_904ac_row3_col8, #T_904ac_row4_col8 {\n",
              "  background-color: #9e9ac8;\n",
              "  color: #f1f1f1;\n",
              "}\n",
              "#T_904ac_row2_col3 {\n",
              "  background-color: #a5a2cd;\n",
              "  color: #f1f1f1;\n",
              "}\n",
              "#T_904ac_row2_col5 {\n",
              "  background-color: #63439c;\n",
              "  color: #f1f1f1;\n",
              "}\n",
              "#T_904ac_row2_col6 {\n",
              "  background-color: #aaa8d0;\n",
              "  color: #000000;\n",
              "}\n",
              "#T_904ac_row3_col3 {\n",
              "  background-color: #faf9fc;\n",
              "  color: #000000;\n",
              "}\n",
              "#T_904ac_row3_col5 {\n",
              "  background-color: #f1f0f6;\n",
              "  color: #000000;\n",
              "}\n",
              "#T_904ac_row4_col3 {\n",
              "  background-color: #dadaeb;\n",
              "  color: #000000;\n",
              "}\n",
              "#T_904ac_row4_col5 {\n",
              "  background-color: #7567af;\n",
              "  color: #f1f1f1;\n",
              "}\n",
              "#T_904ac_row4_col6 {\n",
              "  background-color: #d2d2e7;\n",
              "  color: #000000;\n",
              "}\n",
              "#T_904ac_row4_col7 {\n",
              "  background-color: #7261ab;\n",
              "  color: #f1f1f1;\n",
              "}\n",
              "</style>\n",
              "<table id=\"T_904ac_\" class=\"dataframe\">\n",
              "  <thead>\n",
              "    <tr>\n",
              "      <th class=\"blank level0\" >&nbsp;</th>\n",
              "      <th class=\"col_heading level0 col0\" >Education</th>\n",
              "      <th class=\"col_heading level0 col1\" >Mariage</th>\n",
              "      <th class=\"col_heading level0 col2\" >Age</th>\n",
              "      <th class=\"col_heading level0 col3\" >Expenses</th>\n",
              "      <th class=\"col_heading level0 col4\" >TotalAcceptedCmp</th>\n",
              "      <th class=\"col_heading level0 col5\" >TotalPurchases</th>\n",
              "      <th class=\"col_heading level0 col6\" >Day_engaged</th>\n",
              "      <th class=\"col_heading level0 col7\" >Income</th>\n",
              "      <th class=\"col_heading level0 col8\" >Children</th>\n",
              "      <th class=\"col_heading level0 col9\" >Response</th>\n",
              "    </tr>\n",
              "  </thead>\n",
              "  <tbody>\n",
              "    <tr>\n",
              "      <th id=\"T_904ac_level0_row0\" class=\"row_heading level0 row0\" >0</th>\n",
              "      <td id=\"T_904ac_row0_col0\" class=\"data row0 col0\" >Post Graduate</td>\n",
              "      <td id=\"T_904ac_row0_col1\" class=\"data row0 col1\" >Single</td>\n",
              "      <td id=\"T_904ac_row0_col2\" class=\"data row0 col2\" >11</td>\n",
              "      <td id=\"T_904ac_row0_col3\" class=\"data row0 col3\" >1617.000000</td>\n",
              "      <td id=\"T_904ac_row0_col4\" class=\"data row0 col4\" >0</td>\n",
              "      <td id=\"T_904ac_row0_col5\" class=\"data row0 col5\" >25.000000</td>\n",
              "      <td id=\"T_904ac_row0_col6\" class=\"data row0 col6\" >997</td>\n",
              "      <td id=\"T_904ac_row0_col7\" class=\"data row0 col7\" >58138.000000</td>\n",
              "      <td id=\"T_904ac_row0_col8\" class=\"data row0 col8\" >0</td>\n",
              "      <td id=\"T_904ac_row0_col9\" class=\"data row0 col9\" >1</td>\n",
              "    </tr>\n",
              "    <tr>\n",
              "      <th id=\"T_904ac_level0_row1\" class=\"row_heading level0 row1\" >1</th>\n",
              "      <td id=\"T_904ac_row1_col0\" class=\"data row1 col0\" >Post Graduate</td>\n",
              "      <td id=\"T_904ac_row1_col1\" class=\"data row1 col1\" >Single</td>\n",
              "      <td id=\"T_904ac_row1_col2\" class=\"data row1 col2\" >9</td>\n",
              "      <td id=\"T_904ac_row1_col3\" class=\"data row1 col3\" >27.000000</td>\n",
              "      <td id=\"T_904ac_row1_col4\" class=\"data row1 col4\" >0</td>\n",
              "      <td id=\"T_904ac_row1_col5\" class=\"data row1 col5\" >6.000000</td>\n",
              "      <td id=\"T_904ac_row1_col6\" class=\"data row1 col6\" >151</td>\n",
              "      <td id=\"T_904ac_row1_col7\" class=\"data row1 col7\" >46344.000000</td>\n",
              "      <td id=\"T_904ac_row1_col8\" class=\"data row1 col8\" >2</td>\n",
              "      <td id=\"T_904ac_row1_col9\" class=\"data row1 col9\" >0</td>\n",
              "    </tr>\n",
              "    <tr>\n",
              "      <th id=\"T_904ac_level0_row2\" class=\"row_heading level0 row2\" >2</th>\n",
              "      <td id=\"T_904ac_row2_col0\" class=\"data row2 col0\" >Post Graduate</td>\n",
              "      <td id=\"T_904ac_row2_col1\" class=\"data row2 col1\" >Relationship</td>\n",
              "      <td id=\"T_904ac_row2_col2\" class=\"data row2 col2\" >10</td>\n",
              "      <td id=\"T_904ac_row2_col3\" class=\"data row2 col3\" >776.000000</td>\n",
              "      <td id=\"T_904ac_row2_col4\" class=\"data row2 col4\" >0</td>\n",
              "      <td id=\"T_904ac_row2_col5\" class=\"data row2 col5\" >21.000000</td>\n",
              "      <td id=\"T_904ac_row2_col6\" class=\"data row2 col6\" >498</td>\n",
              "      <td id=\"T_904ac_row2_col7\" class=\"data row2 col7\" >71613.000000</td>\n",
              "      <td id=\"T_904ac_row2_col8\" class=\"data row2 col8\" >0</td>\n",
              "      <td id=\"T_904ac_row2_col9\" class=\"data row2 col9\" >0</td>\n",
              "    </tr>\n",
              "    <tr>\n",
              "      <th id=\"T_904ac_level0_row3\" class=\"row_heading level0 row3\" >3</th>\n",
              "      <td id=\"T_904ac_row3_col0\" class=\"data row3 col0\" >Post Graduate</td>\n",
              "      <td id=\"T_904ac_row3_col1\" class=\"data row3 col1\" >Relationship</td>\n",
              "      <td id=\"T_904ac_row3_col2\" class=\"data row3 col2\" >9</td>\n",
              "      <td id=\"T_904ac_row3_col3\" class=\"data row3 col3\" >53.000000</td>\n",
              "      <td id=\"T_904ac_row3_col4\" class=\"data row3 col4\" >0</td>\n",
              "      <td id=\"T_904ac_row3_col5\" class=\"data row3 col5\" >8.000000</td>\n",
              "      <td id=\"T_904ac_row3_col6\" class=\"data row3 col6\" >91</td>\n",
              "      <td id=\"T_904ac_row3_col7\" class=\"data row3 col7\" >26646.000000</td>\n",
              "      <td id=\"T_904ac_row3_col8\" class=\"data row3 col8\" >1</td>\n",
              "      <td id=\"T_904ac_row3_col9\" class=\"data row3 col9\" >0</td>\n",
              "    </tr>\n",
              "    <tr>\n",
              "      <th id=\"T_904ac_level0_row4\" class=\"row_heading level0 row4\" >4</th>\n",
              "      <td id=\"T_904ac_row4_col0\" class=\"data row4 col0\" >Post Graduate</td>\n",
              "      <td id=\"T_904ac_row4_col1\" class=\"data row4 col1\" >Relationship</td>\n",
              "      <td id=\"T_904ac_row4_col2\" class=\"data row4 col2\" >9</td>\n",
              "      <td id=\"T_904ac_row4_col3\" class=\"data row4 col3\" >422.000000</td>\n",
              "      <td id=\"T_904ac_row4_col4\" class=\"data row4 col4\" >0</td>\n",
              "      <td id=\"T_904ac_row4_col5\" class=\"data row4 col5\" >19.000000</td>\n",
              "      <td id=\"T_904ac_row4_col6\" class=\"data row4 col6\" >347</td>\n",
              "      <td id=\"T_904ac_row4_col7\" class=\"data row4 col7\" >58293.000000</td>\n",
              "      <td id=\"T_904ac_row4_col8\" class=\"data row4 col8\" >1</td>\n",
              "      <td id=\"T_904ac_row4_col9\" class=\"data row4 col9\" >0</td>\n",
              "    </tr>\n",
              "  </tbody>\n",
              "</table>\n"
            ],
            "text/plain": [
              "<pandas.io.formats.style.Styler at 0x7f4d975cd6a0>"
            ]
          },
          "execution_count": 72,
          "metadata": {},
          "output_type": "execute_result"
        }
      ],
      "source": [
        "order = [0,1,9,5,6,7,8,2,4,3]\n",
        "df = df[[df.columns[i] for i in order]]\n",
        "df.head(5).style.background_gradient(cmap='Purples')"
      ]
    },
    {
      "cell_type": "markdown",
      "metadata": {
        "id": "noWAV3MWgnPk"
      },
      "source": [
        "# EDA"
      ]
    },
    {
      "cell_type": "markdown",
      "metadata": {
        "id": "O4XWSNcyj0vf"
      },
      "source": [
        "## Expenses to Mariage"
      ]
    },
    {
      "cell_type": "code",
      "execution_count": null,
      "metadata": {
        "colab": {
          "base_uri": "https://localhost:8080/",
          "height": 527
        },
        "id": "Fsca_d7Gj3bs",
        "outputId": "d8cdc533-23e0-49e7-cc32-9b1c5cdfce21"
      },
      "outputs": [
        {
          "data": {
            "image/png": "[encoded data removed]",
            "text/plain": [
              "<Figure size 576x576 with 1 Axes>"
            ]
          },
          "metadata": {},
          "output_type": "display_data"
        }
      ],
      "source": [
        "sns.set_theme(style=\"white\")\n",
        "plt.figure(figsize=(8,8))\n",
        "plt.title(\"Impact Mariage to Expenses\",fontsize=24)\n",
        "ax = sns.barplot(x=\"Mariage\", y=\"Expenses\", data=df,palette=\"rainbow\")"
      ]
    },
    {
      "cell_type": "markdown",
      "metadata": {
        "id": "WpVypGu-nbsd"
      },
      "source": [
        "Hubungan seseorang terhadap pembelian barang"
      ]
    },
    {
      "cell_type": "markdown",
      "metadata": {
        "id": "qwONQBtZkHhH"
      },
      "source": [
        "## Expenses to Education"
      ]
    },
    {
      "cell_type": "code",
      "execution_count": null,
      "metadata": {
        "colab": {
          "base_uri": "https://localhost:8080/",
          "height": 527
        },
        "id": "wUXT5MbkkOI8",
        "outputId": "959b98d9-519a-4b11-8efc-076585aa5074"
      },
      "outputs": [
        {
          "data": {
            "image/png": "[encoded data removed]",
            "text/plain": [
              "<Figure size 576x576 with 1 Axes>"
            ]
          },
          "metadata": {},
          "output_type": "display_data"
        }
      ],
      "source": [
        "sns.set_theme(style=\"white\")\n",
        "plt.figure(figsize=(8,8))\n",
        "plt.title(\"Impact Education to Expenses\",fontsize=24)\n",
        "ax = sns.barplot(x=\"Education\", y=\"Expenses\", data=df,palette=\"rainbow\")"
      ]
    },
    {
      "cell_type": "markdown",
      "metadata": {
        "id": "WdHM4M4Vnn7P"
      },
      "source": [
        "Impact pendidikan terhadap pembelian barang"
      ]
    },
    {
      "cell_type": "markdown",
      "metadata": {
        "id": "JCoezSBLqe3R"
      },
      "source": [
        "## TotalPurchases to Education"
      ]
    },
    {
      "cell_type": "code",
      "execution_count": null,
      "metadata": {
        "colab": {
          "base_uri": "https://localhost:8080/",
          "height": 636
        },
        "id": "PxlTu4VZrvok",
        "outputId": "c0abef17-f602-4466-8942-b3bb2e0e14e2"
      },
      "outputs": [
        {
          "data": {
            "image/png": "[encoded data removed]",
            "text/plain": [
              "<Figure size 720x720 with 1 Axes>"
            ]
          },
          "metadata": {},
          "output_type": "display_data"
        }
      ],
      "source": [
        "sns.set_theme(style=\"white\")\n",
        "plt.figure(figsize=(10,10))\n",
        "plt.title(\"Impact Education to Total Purhcase\",fontsize=24)\n",
        "ax = sns.barplot(x=\"Education\", y=\"TotalPurchases\", data=df,palette=\"rainbow\")"
      ]
    },
    {
      "cell_type": "markdown",
      "metadata": {
        "id": "thpQfyuEnvtj"
      },
      "source": [
        "Impact pendidikan pada total beli dari website, promosi, calatalog,\n",
        "toko, dan pengunjung web bulanan"
      ]
    },
    {
      "cell_type": "markdown",
      "metadata": {
        "id": "H0gB9K2fqgqu"
      },
      "source": [
        "## Total Purchases to Age"
      ]
    },
    {
      "cell_type": "code",
      "execution_count": null,
      "metadata": {
        "colab": {
          "base_uri": "https://localhost:8080/",
          "height": 636
        },
        "id": "Nhwkno61nqPK",
        "outputId": "df214556-f930-4ac4-d9a8-fcd4ff03ec6f"
      },
      "outputs": [
        {
          "data": {
            "image/png": "[encoded data removed]",
            "text/plain": [
              "<Figure size 720x720 with 1 Axes>"
            ]
          },
          "metadata": {},
          "output_type": "display_data"
        }
      ],
      "source": [
        "sns.set_theme(style=\"white\")\n",
        "plt.figure(figsize=(10,10))\n",
        "plt.title(\"Impact Age to Total Purchase\",fontsize=24)\n",
        "ax = sns.barplot(x=\"Age\", y=\"TotalPurchases\", data=df,palette=\"rainbow\")"
      ]
    },
    {
      "cell_type": "markdown",
      "metadata": {
        "id": "P9tcAJYSoCQD"
      },
      "source": [
        "Impact pelanggan tetap pada total beli dari website, promosi, calatalog, toko, dan pengunjung web bulanan"
      ]
    },
    {
      "cell_type": "markdown",
      "metadata": {
        "id": "BvGSF2XBTs-F"
      },
      "source": [
        "## Day Enganged To Expenses"
      ]
    },
    {
      "cell_type": "code",
      "execution_count": null,
      "metadata": {
        "colab": {
          "base_uri": "https://localhost:8080/",
          "height": 527
        },
        "id": "5TLXPO0aTwnh",
        "outputId": "e5599a3d-cc84-4d58-aca9-d3f3496afe0c"
      },
      "outputs": [
        {
          "data": {
            "image/png": "[encoded data removed]",
            "text/plain": [
              "<Figure size 1296x576 with 1 Axes>"
            ]
          },
          "metadata": {},
          "output_type": "display_data"
        }
      ],
      "source": [
        "sns.set_theme(style=\"white\")\n",
        "plt.figure(figsize=(18,8))\n",
        "plt.title(\"How Day_engaged impacts on Expenses?\",fontsize=24)\n",
        "ax = sns.barplot(x=\"Day_engaged\", y=\"Expenses\", data=df,palette=\"rainbow\")"
      ]
    },
    {
      "cell_type": "markdown",
      "metadata": {
        "id": "XIfA9WmHu0o4"
      },
      "source": [
        "## Heatmap"
      ]
    },
    {
      "cell_type": "code",
      "execution_count": null,
      "metadata": {
        "colab": {
          "base_uri": "https://localhost:8080/",
          "height": 599
        },
        "id": "55sRo-WZu2qe",
        "outputId": "cf1592c5-fe88-4867-f87b-00c81682892e"
      },
      "outputs": [
        {
          "data": {
            "text/plain": [
              "<matplotlib.axes._subplots.AxesSubplot at 0x7f3194ab1790>"
            ]
          },
          "execution_count": 85,
          "metadata": {},
          "output_type": "execute_result"
        },
        {
          "data": {
            "image/png": "[encoded data removed]",
            "text/plain": [
              "<Figure size 720x576 with 2 Axes>"
            ]
          },
          "metadata": {},
          "output_type": "display_data"
        }
      ],
      "source": [
        "# melihat korelasi menggunakan heatmap\n",
        "plt.figure(figsize=(10,8))\n",
        "sns.heatmap(df.corr(), annot=True,cmap = 'Purples',linewidths=1)"
      ]
    },
    {
      "cell_type": "markdown",
      "metadata": {
        "id": "wTRZVEm_vU33"
      },
      "source": [
        "# Prepare Modelling"
      ]
    },
    {
      "cell_type": "code",
      "execution_count": null,
      "metadata": {
        "colab": {
          "base_uri": "https://localhost:8080/"
        },
        "id": "4Cxnl0SbvV8L",
        "outputId": "0621f420-f449-4808-c692-dc9fbcc02e05"
      },
      "outputs": [
        {
          "data": {
            "text/plain": [
              "Education            object\n",
              "Mariage              object\n",
              "Age                   int64\n",
              "Expenses            float64\n",
              "TotalAcceptedCmp      int64\n",
              "TotalPurchases      float64\n",
              "Day_engaged           int64\n",
              "Income              float64\n",
              "Children              int64\n",
              "Response              int64\n",
              "dtype: object"
            ]
          },
          "execution_count": 86,
          "metadata": {},
          "output_type": "execute_result"
        }
      ],
      "source": [
        "df.dtypes"
      ]
    },
    {
      "cell_type": "code",
      "execution_count": null,
      "metadata": {
        "colab": {
          "base_uri": "https://localhost:8080/"
        },
        "id": "XkAx-0FVKIvM",
        "outputId": "478aa478-7138-4b96-9249-6c9d0de3ecba"
      },
      "outputs": [
        {
          "name": "stdout",
          "output_type": "stream",
          "text": [
            " Object are: ['Education', 'Mariage']\n"
          ]
        }
      ],
      "source": [
        "cate = []\n",
        "for i in df.columns:\n",
        "    if (df[i].dtypes == \"object\"):\n",
        "        cate.append(i)\n",
        "\n",
        "print(\" Object are:\",cate)"
      ]
    },
    {
      "cell_type": "code",
      "execution_count": null,
      "metadata": {
        "id": "PRsjqnfWKZUS"
      },
      "outputs": [],
      "source": [
        "lbl_encode = LabelEncoder()\n",
        "for i in cate:\n",
        "    df[i]=df[[i]].apply(lbl_encode.fit_transform)"
      ]
    },
    {
      "cell_type": "code",
      "execution_count": null,
      "metadata": {
        "id": "TrWV8t-Ovqy_"
      },
      "outputs": [],
      "source": [
        "df_encode = df.copy()"
      ]
    },
    {
      "cell_type": "markdown",
      "metadata": {
        "id": "146gk9KLvy0Y"
      },
      "source": [
        "## Standardization"
      ]
    },
    {
      "cell_type": "code",
      "execution_count": null,
      "metadata": {
        "id": "INl6fHnYv0Xr"
      },
      "outputs": [],
      "source": [
        "scaled_features = StandardScaler().fit_transform(df_encode.values)\n",
        "sf_df = pd.DataFrame(scaled_features, index=df_encode.index, columns=df_encode.columns)"
      ]
    },
    {
      "cell_type": "code",
      "execution_count": null,
      "metadata": {
        "colab": {
          "base_uri": "https://localhost:8080/",
          "height": 206
        },
        "id": "UjutGhAKolHb",
        "outputId": "28ea6b96-b911-41ba-8d9c-feb2b359b422"
      },
      "outputs": [
        {
          "data": {
            "text/html": [
              "<style type=\"text/css\">\n",
              "#T_2c358_row0_col0, #T_2c358_row0_col4, #T_2c358_row0_col8, #T_2c358_row1_col0, #T_2c358_row1_col2, #T_2c358_row1_col3, #T_2c358_row1_col4, #T_2c358_row1_col5, #T_2c358_row1_col9, #T_2c358_row2_col0, #T_2c358_row2_col1, #T_2c358_row2_col4, #T_2c358_row2_col8, #T_2c358_row2_col9, #T_2c358_row3_col0, #T_2c358_row3_col1, #T_2c358_row3_col2, #T_2c358_row3_col4, #T_2c358_row3_col6, #T_2c358_row3_col7, #T_2c358_row3_col9, #T_2c358_row4_col0, #T_2c358_row4_col1, #T_2c358_row4_col2, #T_2c358_row4_col4, #T_2c358_row4_col9 {\n",
              "  background-color: #fcfbfd;\n",
              "  color: #000000;\n",
              "}\n",
              "#T_2c358_row0_col1, #T_2c358_row0_col2, #T_2c358_row0_col3, #T_2c358_row0_col5, #T_2c358_row0_col6, #T_2c358_row0_col9, #T_2c358_row1_col1, #T_2c358_row1_col8, #T_2c358_row2_col7 {\n",
              "  background-color: #3f007d;\n",
              "  color: #f1f1f1;\n",
              "}\n",
              "#T_2c358_row0_col7 {\n",
              "  background-color: #7262ac;\n",
              "  color: #f1f1f1;\n",
              "}\n",
              "#T_2c358_row1_col6 {\n",
              "  background-color: #f5f4f9;\n",
              "  color: #000000;\n",
              "}\n",
              "#T_2c358_row1_col7 {\n",
              "  background-color: #adabd2;\n",
              "  color: #000000;\n",
              "}\n",
              "#T_2c358_row2_col2, #T_2c358_row3_col8, #T_2c358_row4_col8 {\n",
              "  background-color: #9e9ac8;\n",
              "  color: #f1f1f1;\n",
              "}\n",
              "#T_2c358_row2_col3 {\n",
              "  background-color: #a5a2cd;\n",
              "  color: #f1f1f1;\n",
              "}\n",
              "#T_2c358_row2_col5 {\n",
              "  background-color: #63439c;\n",
              "  color: #f1f1f1;\n",
              "}\n",
              "#T_2c358_row2_col6 {\n",
              "  background-color: #aaa8d0;\n",
              "  color: #000000;\n",
              "}\n",
              "#T_2c358_row3_col3 {\n",
              "  background-color: #faf9fc;\n",
              "  color: #000000;\n",
              "}\n",
              "#T_2c358_row3_col5 {\n",
              "  background-color: #f1f0f6;\n",
              "  color: #000000;\n",
              "}\n",
              "#T_2c358_row4_col3 {\n",
              "  background-color: #dadaeb;\n",
              "  color: #000000;\n",
              "}\n",
              "#T_2c358_row4_col5 {\n",
              "  background-color: #7567af;\n",
              "  color: #f1f1f1;\n",
              "}\n",
              "#T_2c358_row4_col6 {\n",
              "  background-color: #d2d2e7;\n",
              "  color: #000000;\n",
              "}\n",
              "#T_2c358_row4_col7 {\n",
              "  background-color: #7261ab;\n",
              "  color: #f1f1f1;\n",
              "}\n",
              "</style>\n",
              "<table id=\"T_2c358_\" class=\"dataframe\">\n",
              "  <thead>\n",
              "    <tr>\n",
              "      <th class=\"blank level0\" >&nbsp;</th>\n",
              "      <th class=\"col_heading level0 col0\" >Education</th>\n",
              "      <th class=\"col_heading level0 col1\" >Mariage</th>\n",
              "      <th class=\"col_heading level0 col2\" >Age</th>\n",
              "      <th class=\"col_heading level0 col3\" >Expenses</th>\n",
              "      <th class=\"col_heading level0 col4\" >TotalAcceptedCmp</th>\n",
              "      <th class=\"col_heading level0 col5\" >TotalPurchases</th>\n",
              "      <th class=\"col_heading level0 col6\" >Day_engaged</th>\n",
              "      <th class=\"col_heading level0 col7\" >Income</th>\n",
              "      <th class=\"col_heading level0 col8\" >Children</th>\n",
              "      <th class=\"col_heading level0 col9\" >Response</th>\n",
              "    </tr>\n",
              "  </thead>\n",
              "  <tbody>\n",
              "    <tr>\n",
              "      <th id=\"T_2c358_level0_row0\" class=\"row_heading level0 row0\" >0</th>\n",
              "      <td id=\"T_2c358_row0_col0\" class=\"data row0 col0\" >-0.157274</td>\n",
              "      <td id=\"T_2c358_row0_col1\" class=\"data row0 col1\" >1.337334</td>\n",
              "      <td id=\"T_2c358_row0_col2\" class=\"data row0 col2\" >1.506249</td>\n",
              "      <td id=\"T_2c358_row0_col3\" class=\"data row0 col3\" >1.672775</td>\n",
              "      <td id=\"T_2c358_row0_col4\" class=\"data row0 col4\" >-0.442839</td>\n",
              "      <td id=\"T_2c358_row0_col5\" class=\"data row0 col5\" >1.323308</td>\n",
              "      <td id=\"T_2c358_row0_col6\" class=\"data row0 col6\" >1.978247</td>\n",
              "      <td id=\"T_2c358_row0_col7\" class=\"data row0 col7\" >0.294273</td>\n",
              "      <td id=\"T_2c358_row0_col8\" class=\"data row0 col8\" >-1.277200</td>\n",
              "      <td id=\"T_2c358_row0_col9\" class=\"data row0 col9\" >2.355501</td>\n",
              "    </tr>\n",
              "    <tr>\n",
              "      <th id=\"T_2c358_level0_row1\" class=\"row_heading level0 row1\" >1</th>\n",
              "      <td id=\"T_2c358_row1_col0\" class=\"data row1 col0\" >-0.157274</td>\n",
              "      <td id=\"T_2c358_row1_col1\" class=\"data row1 col1\" >1.337334</td>\n",
              "      <td id=\"T_2c358_row1_col2\" class=\"data row1 col2\" >-1.409999</td>\n",
              "      <td id=\"T_2c358_row1_col3\" class=\"data row1 col3\" >-0.961200</td>\n",
              "      <td id=\"T_2c358_row1_col4\" class=\"data row1 col4\" >-0.442839</td>\n",
              "      <td id=\"T_2c358_row1_col5\" class=\"data row1 col5\" >-1.160752</td>\n",
              "      <td id=\"T_2c358_row1_col6\" class=\"data row1 col6\" >-1.659762</td>\n",
              "      <td id=\"T_2c358_row1_col7\" class=\"data row1 col7\" >-0.265121</td>\n",
              "      <td id=\"T_2c358_row1_col8\" class=\"data row1 col8\" >1.405383</td>\n",
              "      <td id=\"T_2c358_row1_col9\" class=\"data row1 col9\" >-0.424538</td>\n",
              "    </tr>\n",
              "    <tr>\n",
              "      <th id=\"T_2c358_level0_row2\" class=\"row_heading level0 row2\" >2</th>\n",
              "      <td id=\"T_2c358_row2_col0\" class=\"data row2 col0\" >-0.157274</td>\n",
              "      <td id=\"T_2c358_row2_col1\" class=\"data row2 col1\" >-0.747757</td>\n",
              "      <td id=\"T_2c358_row2_col2\" class=\"data row2 col2\" >0.048125</td>\n",
              "      <td id=\"T_2c358_row2_col3\" class=\"data row2 col3\" >0.279584</td>\n",
              "      <td id=\"T_2c358_row2_col4\" class=\"data row2 col4\" >-0.442839</td>\n",
              "      <td id=\"T_2c358_row2_col5\" class=\"data row2 col5\" >0.800348</td>\n",
              "      <td id=\"T_2c358_row2_col6\" class=\"data row2 col6\" >-0.167576</td>\n",
              "      <td id=\"T_2c358_row2_col7\" class=\"data row2 col7\" >0.933397</td>\n",
              "      <td id=\"T_2c358_row2_col8\" class=\"data row2 col8\" >-1.277200</td>\n",
              "      <td id=\"T_2c358_row2_col9\" class=\"data row2 col9\" >-0.424538</td>\n",
              "    </tr>\n",
              "    <tr>\n",
              "      <th id=\"T_2c358_level0_row3\" class=\"row_heading level0 row3\" >3</th>\n",
              "      <td id=\"T_2c358_row3_col0\" class=\"data row3 col0\" >-0.157274</td>\n",
              "      <td id=\"T_2c358_row3_col1\" class=\"data row3 col1\" >-0.747757</td>\n",
              "      <td id=\"T_2c358_row3_col2\" class=\"data row3 col2\" >-1.409999</td>\n",
              "      <td id=\"T_2c358_row3_col3\" class=\"data row3 col3\" >-0.918129</td>\n",
              "      <td id=\"T_2c358_row3_col4\" class=\"data row3 col4\" >-0.442839</td>\n",
              "      <td id=\"T_2c358_row3_col5\" class=\"data row3 col5\" >-0.899272</td>\n",
              "      <td id=\"T_2c358_row3_col6\" class=\"data row3 col6\" >-1.917777</td>\n",
              "      <td id=\"T_2c358_row3_col7\" class=\"data row3 col7\" >-1.199405</td>\n",
              "      <td id=\"T_2c358_row3_col8\" class=\"data row3 col8\" >0.064091</td>\n",
              "      <td id=\"T_2c358_row3_col9\" class=\"data row3 col9\" >-0.424538</td>\n",
              "    </tr>\n",
              "    <tr>\n",
              "      <th id=\"T_2c358_level0_row4\" class=\"row_heading level0 row4\" >4</th>\n",
              "      <td id=\"T_2c358_row4_col0\" class=\"data row4 col0\" >-0.157274</td>\n",
              "      <td id=\"T_2c358_row4_col1\" class=\"data row4 col1\" >-0.747757</td>\n",
              "      <td id=\"T_2c358_row4_col2\" class=\"data row4 col2\" >-1.409999</td>\n",
              "      <td id=\"T_2c358_row4_col3\" class=\"data row4 col3\" >-0.306848</td>\n",
              "      <td id=\"T_2c358_row4_col4\" class=\"data row4 col4\" >-0.442839</td>\n",
              "      <td id=\"T_2c358_row4_col5\" class=\"data row4 col5\" >0.538868</td>\n",
              "      <td id=\"T_2c358_row4_col6\" class=\"data row4 col6\" >-0.816913</td>\n",
              "      <td id=\"T_2c358_row4_col7\" class=\"data row4 col7\" >0.301624</td>\n",
              "      <td id=\"T_2c358_row4_col8\" class=\"data row4 col8\" >0.064091</td>\n",
              "      <td id=\"T_2c358_row4_col9\" class=\"data row4 col9\" >-0.424538</td>\n",
              "    </tr>\n",
              "  </tbody>\n",
              "</table>\n"
            ],
            "text/plain": [
              "<pandas.io.formats.style.Styler at 0x7f3194966f70>"
            ]
          },
          "execution_count": 104,
          "metadata": {},
          "output_type": "execute_result"
        }
      ],
      "source": [
        "sf_df.head().style.background_gradient(cmap=\"Purples\")"
      ]
    },
    {
      "cell_type": "code",
      "execution_count": null,
      "metadata": {
        "colab": {
          "base_uri": "https://localhost:8080/",
          "height": 300
        },
        "id": "7H2GjYyGwRVa",
        "outputId": "837ac935-4f84-4fb5-9988-796d2fd19086"
      },
      "outputs": [
        {
          "data": {
            "text/html": [
              "<style type=\"text/css\">\n",
              "#T_06a8d_row0_col0, #T_06a8d_row0_col1, #T_06a8d_row0_col2, #T_06a8d_row0_col3, #T_06a8d_row0_col4, #T_06a8d_row0_col5, #T_06a8d_row0_col6, #T_06a8d_row0_col7, #T_06a8d_row0_col8, #T_06a8d_row0_col9 {\n",
              "  background-color: #3f007d;\n",
              "  color: #f1f1f1;\n",
              "}\n",
              "#T_06a8d_row1_col0, #T_06a8d_row1_col1, #T_06a8d_row1_col2, #T_06a8d_row1_col3, #T_06a8d_row1_col4, #T_06a8d_row1_col5, #T_06a8d_row1_col6, #T_06a8d_row1_col7, #T_06a8d_row1_col8, #T_06a8d_row1_col9, #T_06a8d_row2_col0, #T_06a8d_row2_col1, #T_06a8d_row2_col2, #T_06a8d_row2_col3, #T_06a8d_row2_col4, #T_06a8d_row2_col5, #T_06a8d_row2_col6, #T_06a8d_row2_col7, #T_06a8d_row2_col8, #T_06a8d_row2_col9, #T_06a8d_row3_col0, #T_06a8d_row3_col1, #T_06a8d_row3_col2, #T_06a8d_row3_col3, #T_06a8d_row3_col4, #T_06a8d_row3_col5, #T_06a8d_row3_col6, #T_06a8d_row3_col7, #T_06a8d_row3_col8, #T_06a8d_row3_col9, #T_06a8d_row4_col0, #T_06a8d_row4_col1, #T_06a8d_row4_col2, #T_06a8d_row4_col3, #T_06a8d_row4_col4, #T_06a8d_row4_col5, #T_06a8d_row4_col6, #T_06a8d_row4_col7, #T_06a8d_row4_col8, #T_06a8d_row4_col9, #T_06a8d_row5_col0, #T_06a8d_row5_col1, #T_06a8d_row5_col2, #T_06a8d_row5_col3, #T_06a8d_row5_col4, #T_06a8d_row5_col5, #T_06a8d_row5_col6, #T_06a8d_row5_col7, #T_06a8d_row5_col8, #T_06a8d_row5_col9, #T_06a8d_row6_col0, #T_06a8d_row6_col1, #T_06a8d_row6_col2, #T_06a8d_row6_col3, #T_06a8d_row6_col4, #T_06a8d_row6_col5, #T_06a8d_row6_col6, #T_06a8d_row6_col7, #T_06a8d_row6_col8, #T_06a8d_row6_col9, #T_06a8d_row7_col0, #T_06a8d_row7_col1, #T_06a8d_row7_col2, #T_06a8d_row7_col3, #T_06a8d_row7_col4, #T_06a8d_row7_col5, #T_06a8d_row7_col6, #T_06a8d_row7_col7, #T_06a8d_row7_col8, #T_06a8d_row7_col9 {\n",
              "  background-color: #fcfbfd;\n",
              "  color: #000000;\n",
              "}\n",
              "</style>\n",
              "<table id=\"T_06a8d_\" class=\"dataframe\">\n",
              "  <thead>\n",
              "    <tr>\n",
              "      <th class=\"blank level0\" >&nbsp;</th>\n",
              "      <th class=\"col_heading level0 col0\" >Education</th>\n",
              "      <th class=\"col_heading level0 col1\" >Mariage</th>\n",
              "      <th class=\"col_heading level0 col2\" >Age</th>\n",
              "      <th class=\"col_heading level0 col3\" >Expenses</th>\n",
              "      <th class=\"col_heading level0 col4\" >TotalAcceptedCmp</th>\n",
              "      <th class=\"col_heading level0 col5\" >TotalPurchases</th>\n",
              "      <th class=\"col_heading level0 col6\" >Day_engaged</th>\n",
              "      <th class=\"col_heading level0 col7\" >Income</th>\n",
              "      <th class=\"col_heading level0 col8\" >Children</th>\n",
              "      <th class=\"col_heading level0 col9\" >Response</th>\n",
              "    </tr>\n",
              "  </thead>\n",
              "  <tbody>\n",
              "    <tr>\n",
              "      <th id=\"T_06a8d_level0_row0\" class=\"row_heading level0 row0\" >count</th>\n",
              "      <td id=\"T_06a8d_row0_col0\" class=\"data row0 col0\" >2030.000000</td>\n",
              "      <td id=\"T_06a8d_row0_col1\" class=\"data row0 col1\" >2030.000000</td>\n",
              "      <td id=\"T_06a8d_row0_col2\" class=\"data row0 col2\" >2030.000000</td>\n",
              "      <td id=\"T_06a8d_row0_col3\" class=\"data row0 col3\" >2030.000000</td>\n",
              "      <td id=\"T_06a8d_row0_col4\" class=\"data row0 col4\" >2030.000000</td>\n",
              "      <td id=\"T_06a8d_row0_col5\" class=\"data row0 col5\" >2030.000000</td>\n",
              "      <td id=\"T_06a8d_row0_col6\" class=\"data row0 col6\" >2030.000000</td>\n",
              "      <td id=\"T_06a8d_row0_col7\" class=\"data row0 col7\" >2030.000000</td>\n",
              "      <td id=\"T_06a8d_row0_col8\" class=\"data row0 col8\" >2030.000000</td>\n",
              "      <td id=\"T_06a8d_row0_col9\" class=\"data row0 col9\" >2030.000000</td>\n",
              "    </tr>\n",
              "    <tr>\n",
              "      <th id=\"T_06a8d_level0_row1\" class=\"row_heading level0 row1\" >mean</th>\n",
              "      <td id=\"T_06a8d_row1_col0\" class=\"data row1 col0\" >-0.000000</td>\n",
              "      <td id=\"T_06a8d_row1_col1\" class=\"data row1 col1\" >-0.000000</td>\n",
              "      <td id=\"T_06a8d_row1_col2\" class=\"data row1 col2\" >-0.000000</td>\n",
              "      <td id=\"T_06a8d_row1_col3\" class=\"data row1 col3\" >-0.000000</td>\n",
              "      <td id=\"T_06a8d_row1_col4\" class=\"data row1 col4\" >-0.000000</td>\n",
              "      <td id=\"T_06a8d_row1_col5\" class=\"data row1 col5\" >-0.000000</td>\n",
              "      <td id=\"T_06a8d_row1_col6\" class=\"data row1 col6\" >0.000000</td>\n",
              "      <td id=\"T_06a8d_row1_col7\" class=\"data row1 col7\" >-0.000000</td>\n",
              "      <td id=\"T_06a8d_row1_col8\" class=\"data row1 col8\" >-0.000000</td>\n",
              "      <td id=\"T_06a8d_row1_col9\" class=\"data row1 col9\" >0.000000</td>\n",
              "    </tr>\n",
              "    <tr>\n",
              "      <th id=\"T_06a8d_level0_row2\" class=\"row_heading level0 row2\" >std</th>\n",
              "      <td id=\"T_06a8d_row2_col0\" class=\"data row2 col0\" >1.000246</td>\n",
              "      <td id=\"T_06a8d_row2_col1\" class=\"data row2 col1\" >1.000246</td>\n",
              "      <td id=\"T_06a8d_row2_col2\" class=\"data row2 col2\" >1.000246</td>\n",
              "      <td id=\"T_06a8d_row2_col3\" class=\"data row2 col3\" >1.000246</td>\n",
              "      <td id=\"T_06a8d_row2_col4\" class=\"data row2 col4\" >1.000246</td>\n",
              "      <td id=\"T_06a8d_row2_col5\" class=\"data row2 col5\" >1.000246</td>\n",
              "      <td id=\"T_06a8d_row2_col6\" class=\"data row2 col6\" >1.000246</td>\n",
              "      <td id=\"T_06a8d_row2_col7\" class=\"data row2 col7\" >1.000246</td>\n",
              "      <td id=\"T_06a8d_row2_col8\" class=\"data row2 col8\" >1.000246</td>\n",
              "      <td id=\"T_06a8d_row2_col9\" class=\"data row2 col9\" >1.000246</td>\n",
              "    </tr>\n",
              "    <tr>\n",
              "      <th id=\"T_06a8d_level0_row3\" class=\"row_heading level0 row3\" >min</th>\n",
              "      <td id=\"T_06a8d_row3_col0\" class=\"data row3 col0\" >-0.157274</td>\n",
              "      <td id=\"T_06a8d_row3_col1\" class=\"data row3 col1\" >-0.747757</td>\n",
              "      <td id=\"T_06a8d_row3_col2\" class=\"data row3 col2\" >-1.409999</td>\n",
              "      <td id=\"T_06a8d_row3_col3\" class=\"data row3 col3\" >-0.997645</td>\n",
              "      <td id=\"T_06a8d_row3_col4\" class=\"data row3 col4\" >-0.442839</td>\n",
              "      <td id=\"T_06a8d_row3_col5\" class=\"data row3 col5\" >-1.945192</td>\n",
              "      <td id=\"T_06a8d_row3_col6\" class=\"data row3 col6\" >-2.197293</td>\n",
              "      <td id=\"T_06a8d_row3_col7\" class=\"data row3 col7\" >-2.381180</td>\n",
              "      <td id=\"T_06a8d_row3_col8\" class=\"data row3 col8\" >-1.277200</td>\n",
              "      <td id=\"T_06a8d_row3_col9\" class=\"data row3 col9\" >-0.424538</td>\n",
              "    </tr>\n",
              "    <tr>\n",
              "      <th id=\"T_06a8d_level0_row4\" class=\"row_heading level0 row4\" >25%</th>\n",
              "      <td id=\"T_06a8d_row4_col0\" class=\"data row4 col0\" >-0.157274</td>\n",
              "      <td id=\"T_06a8d_row4_col1\" class=\"data row4 col1\" >-0.747757</td>\n",
              "      <td id=\"T_06a8d_row4_col2\" class=\"data row4 col2\" >-1.409999</td>\n",
              "      <td id=\"T_06a8d_row4_col3\" class=\"data row4 col3\" >-0.891624</td>\n",
              "      <td id=\"T_06a8d_row4_col4\" class=\"data row4 col4\" >-0.442839</td>\n",
              "      <td id=\"T_06a8d_row4_col5\" class=\"data row4 col5\" >-0.899272</td>\n",
              "      <td id=\"T_06a8d_row4_col6\" class=\"data row4 col6\" >-0.748110</td>\n",
              "      <td id=\"T_06a8d_row4_col7\" class=\"data row4 col7\" >-0.781282</td>\n",
              "      <td id=\"T_06a8d_row4_col8\" class=\"data row4 col8\" >-1.277200</td>\n",
              "      <td id=\"T_06a8d_row4_col9\" class=\"data row4 col9\" >-0.424538</td>\n",
              "    </tr>\n",
              "    <tr>\n",
              "      <th id=\"T_06a8d_level0_row5\" class=\"row_heading level0 row5\" >50%</th>\n",
              "      <td id=\"T_06a8d_row5_col0\" class=\"data row5 col0\" >-0.157274</td>\n",
              "      <td id=\"T_06a8d_row5_col1\" class=\"data row5 col1\" >-0.747757</td>\n",
              "      <td id=\"T_06a8d_row5_col2\" class=\"data row5 col2\" >0.048125</td>\n",
              "      <td id=\"T_06a8d_row5_col3\" class=\"data row5 col3\" >-0.349919</td>\n",
              "      <td id=\"T_06a8d_row5_col4\" class=\"data row5 col4\" >-0.442839</td>\n",
              "      <td id=\"T_06a8d_row5_col5\" class=\"data row5 col5\" >0.015908</td>\n",
              "      <td id=\"T_06a8d_row5_col6\" class=\"data row5 col6\" >0.000133</td>\n",
              "      <td id=\"T_06a8d_row5_col7\" class=\"data row5 col7\" >-0.019005</td>\n",
              "      <td id=\"T_06a8d_row5_col8\" class=\"data row5 col8\" >0.064091</td>\n",
              "      <td id=\"T_06a8d_row5_col9\" class=\"data row5 col9\" >-0.424538</td>\n",
              "    </tr>\n",
              "    <tr>\n",
              "      <th id=\"T_06a8d_level0_row6\" class=\"row_heading level0 row6\" >75%</th>\n",
              "      <td id=\"T_06a8d_row6_col0\" class=\"data row6 col0\" >-0.157274</td>\n",
              "      <td id=\"T_06a8d_row6_col1\" class=\"data row6 col1\" >1.337334</td>\n",
              "      <td id=\"T_06a8d_row6_col2\" class=\"data row6 col2\" >0.048125</td>\n",
              "      <td id=\"T_06a8d_row6_col3\" class=\"data row6 col3\" >0.729762</td>\n",
              "      <td id=\"T_06a8d_row6_col4\" class=\"data row6 col4\" >-0.442839</td>\n",
              "      <td id=\"T_06a8d_row6_col5\" class=\"data row6 col5\" >0.800348</td>\n",
              "      <td id=\"T_06a8d_row6_col6\" class=\"data row6 col6\" >0.744076</td>\n",
              "      <td id=\"T_06a8d_row6_col7\" class=\"data row6 col7\" >0.784833</td>\n",
              "      <td id=\"T_06a8d_row6_col8\" class=\"data row6 col8\" >0.064091</td>\n",
              "      <td id=\"T_06a8d_row6_col9\" class=\"data row6 col9\" >-0.424538</td>\n",
              "    </tr>\n",
              "    <tr>\n",
              "      <th id=\"T_06a8d_level0_row7\" class=\"row_heading level0 row7\" >max</th>\n",
              "      <td id=\"T_06a8d_row7_col0\" class=\"data row7 col0\" >6.358347</td>\n",
              "      <td id=\"T_06a8d_row7_col1\" class=\"data row7 col1\" >1.337334</td>\n",
              "      <td id=\"T_06a8d_row7_col2\" class=\"data row7 col2\" >1.506249</td>\n",
              "      <td id=\"T_06a8d_row7_col3\" class=\"data row7 col3\" >3.161841</td>\n",
              "      <td id=\"T_06a8d_row7_col4\" class=\"data row7 col4\" >5.452001</td>\n",
              "      <td id=\"T_06a8d_row7_col5\" class=\"data row7 col5\" >3.349778</td>\n",
              "      <td id=\"T_06a8d_row7_col6\" class=\"data row7 col6\" >2.373870</td>\n",
              "      <td id=\"T_06a8d_row7_col7\" class=\"data row7 col7\" >3.134007</td>\n",
              "      <td id=\"T_06a8d_row7_col8\" class=\"data row7 col8\" >2.746675</td>\n",
              "      <td id=\"T_06a8d_row7_col9\" class=\"data row7 col9\" >2.355501</td>\n",
              "    </tr>\n",
              "  </tbody>\n",
              "</table>\n"
            ],
            "text/plain": [
              "<pandas.io.formats.style.Styler at 0x7f3196bb9b80>"
            ]
          },
          "execution_count": 91,
          "metadata": {},
          "output_type": "execute_result"
        }
      ],
      "source": [
        "sf_df.describe().style.background_gradient(cmap=\"Purples\")"
      ]
    },
    {
      "cell_type": "markdown",
      "metadata": {
        "id": "HgAtayyrw6Sj"
      },
      "source": [
        "## Split Data"
      ]
    },
    {
      "cell_type": "code",
      "execution_count": null,
      "metadata": {
        "id": "zq2Y85FTw7pV"
      },
      "outputs": [],
      "source": [
        "X = sf_df.drop('Response', axis=1)\n",
        "y = sf_df['Response']\n",
        "\n",
        "for col in X.columns:\n",
        "    if col != 'TotalAcceptedCmp':\n",
        "        X[col] = X[col].map(lambda x: int(x))\n",
        "\n",
        "exp1 = X.copy()\n",
        "y = y.map(lambda x: int(x))"
      ]
    },
    {
      "cell_type": "code",
      "execution_count": null,
      "metadata": {
        "id": "aXhb7d1GxG7k"
      },
      "outputs": [],
      "source": [
        "X_train, X_test, y_train, y_test = tts(X,y, test_size=0.2, random_state=1234)"
      ]
    },
    {
      "cell_type": "code",
      "execution_count": null,
      "metadata": {
        "colab": {
          "base_uri": "https://localhost:8080/"
        },
        "id": "XSGG_3lFZ9fs",
        "outputId": "0f8cda9f-e51f-4e6c-b782-63ef27a0cba3"
      },
      "outputs": [
        {
          "name": "stdout",
          "output_type": "stream",
          "text": [
            "(1624, 9) (406, 9)\n"
          ]
        }
      ],
      "source": [
        "print(X_train.shape, X_test.shape)"
      ]
    },
    {
      "cell_type": "code",
      "execution_count": null,
      "metadata": {
        "colab": {
          "base_uri": "https://localhost:8080/"
        },
        "id": "bJh6uJOOaBYF",
        "outputId": "32c92ff0-6cda-41f0-e395-467ee4686575"
      },
      "outputs": [
        {
          "name": "stdout",
          "output_type": "stream",
          "text": [
            "0    1363\n",
            "2     261\n",
            "Name: Response, dtype: int64\n"
          ]
        }
      ],
      "source": [
        "print(y_train.value_counts())"
      ]
    },
    {
      "cell_type": "code",
      "execution_count": null,
      "metadata": {
        "id": "Wj_2E5tEgDCA"
      },
      "outputs": [],
      "source": [
        "from imblearn.over_sampling import SMOTE\n",
        "\n",
        "smote = SMOTE(sampling_strategy = 1)\n",
        "X_smote, y_smote = smote.fit_resample(X_train,y_train)"
      ]
    },
    {
      "cell_type": "markdown",
      "metadata": {
        "id": "MvSqwPtBiPDa"
      },
      "source": [
        "# Modelling"
      ]
    },
    {
      "cell_type": "markdown",
      "metadata": {
        "id": "s8SkNk4hiVRq"
      },
      "source": [
        "## Decision Tree"
      ]
    },
    {
      "cell_type": "code",
      "execution_count": null,
      "metadata": {
        "colab": {
          "base_uri": "https://localhost:8080/"
        },
        "id": "LfytpR3KRFE-",
        "outputId": "cc411d6b-6586-4880-f728-624f6ed03377"
      },
      "outputs": [
        {
          "name": "stdout",
          "output_type": "stream",
          "text": [
            "Decision Tree Accuracy :  0.874384236453202\n",
            "[[340  17]\n",
            " [ 34  15]]\n",
            "precision 0.8559463166144201\n",
            "recall 0.874384236453202\n",
            "f1_score 0.8626629837536012\n"
          ]
        }
      ],
      "source": [
        "tree = DecisionTreeClassifier(criterion='entropy',random_state=1234)\n",
        "tree.fit(X_train, y_train)\n",
        "y_pred_dct = tree.predict(X_test)\n",
        "\n",
        "print('Decision Tree Accuracy : ', accuracy_score(y_test,y_pred_dct))\n",
        "print(confusion_matrix(y_test,y_pred_dct))\n",
        "print('precision', precision_score(y_test,y_pred_dct,average=\"weighted\", pos_label=\"int\"))\n",
        "print('recall', recall_score(y_test,y_pred_dct,average=\"weighted\", pos_label=\"int\"))\n",
        "print('f1_score', f1_score(y_test,y_pred_dct,average=\"weighted\", pos_label=\"int\"))"
      ]
    },
    {
      "cell_type": "code",
      "execution_count": null,
      "metadata": {
        "colab": {
          "base_uri": "https://localhost:8080/"
        },
        "id": "cyFpSE8ORYNO",
        "outputId": "f97d1b4f-6a96-4b13-d0c9-7d025d3d0801"
      },
      "outputs": [
        {
          "name": "stdout",
          "output_type": "stream",
          "text": [
            "Decision Tree Accuracy:  0.7167487684729064\n",
            "[[267  90]\n",
            " [ 25  24]]\n",
            "precision 0.8294352733510678\n",
            "recall 0.7167487684729064\n",
            "f1_score 0.7590408573115203\n"
          ]
        }
      ],
      "source": [
        "tree1 = DecisionTreeClassifier(criterion='entropy',random_state=1234)\n",
        "tree1.fit(X_smote, y_smote)\n",
        "y_pred_dct1 = tree1.predict(X_test)\n",
        "\n",
        "print('Decision Tree Accuracy: ', accuracy_score(y_test,y_pred_dct1))\n",
        "print(confusion_matrix(y_test,y_pred_dct1))\n",
        "print('precision', precision_score(y_test,y_pred_dct1,average=\"weighted\", pos_label=\"label\"))\n",
        "print('recall', recall_score(y_test,y_pred_dct1,average=\"weighted\", pos_label=\"label\"))\n",
        "print('f1_score', f1_score(y_test,y_pred_dct1,average=\"weighted\", pos_label=\"label\"))"
      ]
    },
    {
      "cell_type": "markdown",
      "metadata": {
        "id": "zxmi5DyyiX3u"
      },
      "source": [
        "## Xgboost"
      ]
    },
    {
      "cell_type": "code",
      "execution_count": null,
      "metadata": {
        "colab": {
          "base_uri": "https://localhost:8080/"
        },
        "id": "_-_vH_f8ieKm",
        "outputId": "b02f5114-b15d-4ecb-cd63-4ddf7332ad30"
      },
      "outputs": [
        {
          "name": "stdout",
          "output_type": "stream",
          "text": [
            "Decision Tree Accuracy:  0.9014778325123153\n",
            "[[346  11]\n",
            " [ 29  20]]\n",
            "precision 0.889174638487208\n",
            "recall 0.9014778325123153\n",
            "f1_score 0.8916054267947994\n"
          ]
        }
      ],
      "source": [
        "xgb = XGBClassifier(random_state=1234)\n",
        "xgb.fit(X_train, y_train)\n",
        "y_pred_xgb = xgb.predict(X_test)\n",
        "\n",
        "print('Decision Tree Accuracy: ', accuracy_score(y_test,y_pred_xgb))\n",
        "print(confusion_matrix(y_test,y_pred_xgb))\n",
        "print('precision', precision_score(y_test,y_pred_xgb,average=\"weighted\", pos_label=\"int\"))\n",
        "print('recall', recall_score(y_test,y_pred_xgb,average=\"weighted\", pos_label=\"int\"))\n",
        "print('f1_score', f1_score(y_test,y_pred_xgb,average=\"weighted\", pos_label=\"int\"))"
      ]
    },
    {
      "cell_type": "code",
      "execution_count": null,
      "metadata": {
        "colab": {
          "base_uri": "https://localhost:8080/"
        },
        "id": "VJnHGjSRipoS",
        "outputId": "d4d9c371-430b-40be-b999-9e21d831ea48"
      },
      "outputs": [
        {
          "name": "stdout",
          "output_type": "stream",
          "text": [
            "Decision Tree Accuracy:  0.7832512315270936\n",
            "[[285  72]\n",
            " [ 16  33]]\n",
            "precision 0.8705006300836292\n",
            "recall 0.7832512315270936\n",
            "f1_score 0.8134367466722567\n"
          ]
        }
      ],
      "source": [
        "xgb1 = XGBClassifier(random_state=1234)\n",
        "xgb1.fit(X_smote, y_smote)\n",
        "y_pred_xgb1 = xgb1.predict(X_test)\n",
        "\n",
        "print('Decision Tree Accuracy: ', accuracy_score(y_test,y_pred_xgb1))\n",
        "print(confusion_matrix(y_test,y_pred_xgb1))\n",
        "print('precision', precision_score(y_test,y_pred_xgb1,average=\"weighted\", pos_label=\"int\"))\n",
        "print('recall', recall_score(y_test,y_pred_xgb1,average=\"weighted\", pos_label=\"int\"))\n",
        "print('f1_score', f1_score(y_test,y_pred_xgb1,average=\"weighted\", pos_label=\"int\"))"
      ]
    }
  ],
  "metadata": {
    "colab": {
      "provenance": [],
      "toc_visible": true
    },
    "kernelspec": {
      "display_name": "Python 3",
      "language": "python",
      "name": "python3"
    },
    "language_info": {
      "codemirror_mode": {
        "name": "ipython",
        "version": 3
      },
      "file_extension": ".py",
      "mimetype": "text/x-python",
      "name": "python",
      "nbconvert_exporter": "python",
      "pygments_lexer": "ipython3",
      "version": "3.10.2"
    },
    "vscode": {
      "interpreter": {
        "hash": "229cdfb8eedfa4964725b7eb0da8d7a63b25d97a6ab808f09bd6b506844c0629"
      }
    }
  },
  "nbformat": 4,
  "nbformat_minor": 0
}
